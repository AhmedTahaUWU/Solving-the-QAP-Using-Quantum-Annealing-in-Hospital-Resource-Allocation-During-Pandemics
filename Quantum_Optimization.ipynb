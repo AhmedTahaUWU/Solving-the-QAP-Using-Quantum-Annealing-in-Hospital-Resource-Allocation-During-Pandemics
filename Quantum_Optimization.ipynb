{
  "cells": [
    {
      "cell_type": "markdown",
      "metadata": {
        "id": "Fhm6i2VdV7zr"
      },
      "source": [
        "# **Executive Search**\n",
        "In the context of the Quadratic Assignment Problem, \"Executive Search\" refers to a classical brute-force approach used to find all possible combinations of assignments between two sets (e.g., facilities and locations) and then determine the optimal solution."
      ]
    },
    {
      "cell_type": "code",
      "execution_count": 1,
      "metadata": {
        "id": "gqwUiQ9UVX3j"
      },
      "outputs": [],
      "source": [
        "import numpy as np\n",
        "from itertools import permutations"
      ]
    },
    {
      "cell_type": "code",
      "execution_count": 2,
      "metadata": {
        "id": "3HiEs2elVbQh"
      },
      "outputs": [],
      "source": [
        "def compute_cost(F, D, P):\n",
        "    \"\"\"Compute the cost for a given permutation P.\"\"\"\n",
        "    n = len(P)\n",
        "    cost = 0\n",
        "    for i in range(n):\n",
        "        for j in range(n):\n",
        "            cost += F[i][j] * D[P[i]][P[j]]\n",
        "    return cost"
      ]
    },
    {
      "cell_type": "code",
      "execution_count": 3,
      "metadata": {
        "id": "b2WMNSMVVdNz"
      },
      "outputs": [],
      "source": [
        "def find_optimal_qap_solution(F, D):\n",
        "    \"\"\"Find the optimal solution for the Quadratic Assignment Problem.\"\"\"\n",
        "    n = len(D)\n",
        "    all_permutations = permutations(range(n))\n",
        "    optimal_cost = float('inf')\n",
        "    optimal_permutation = None\n",
        "\n",
        "    for P in all_permutations:\n",
        "        cost = compute_cost(F, D, P)\n",
        "        if cost < optimal_cost:\n",
        "            optimal_cost = cost\n",
        "            optimal_permutation = P\n",
        "\n",
        "    return optimal_permutation, optimal_cost"
      ]
    },
    {
      "cell_type": "code",
      "execution_count": 4,
      "metadata": {
        "colab": {
          "base_uri": "https://localhost:8080/"
        },
        "id": "RU0m-VoYU1Do",
        "outputId": "fea9bc2e-819d-4ca8-9afb-3a75e6c51791"
      },
      "outputs": [
        {
          "output_type": "stream",
          "name": "stdout",
          "text": [
            "Optimal Permutation: (0, 2, 1, 3)\n",
            "Optimal Cost: 44\n"
          ]
        }
      ],
      "source": [
        "F = np.array([\n",
        "        [0, 2, 3, 1],\n",
        "        [2, 0, 1, 4],\n",
        "        [3, 1, 0, 2],\n",
        "        [1, 4, 2, 0]\n",
        "])\n",
        "\n",
        "# Distance matrix\n",
        "D = np.array([\n",
        "        [0, 1, 2, 3],\n",
        "        [1, 0, 4, 2],\n",
        "        [2, 4, 0, 1],\n",
        "        [3, 2, 1, 0]\n",
        "])\n",
        "\n",
        "n = F.shape[0]  # Number of facilities/locations\n",
        "\n",
        "# Find the optimal solution\n",
        "optimal_permutation, optimal_cost = find_optimal_qap_solution(F, D)\n",
        "\n",
        "# Output the results\n",
        "print(\"Optimal Permutation:\", optimal_permutation)\n",
        "print(\"Optimal Cost:\", optimal_cost)\n"
      ]
    },
    {
      "cell_type": "markdown",
      "source": [
        "# **Evolutionary Algorithm**\n",
        "Differential Evolution (DE) is a robust and efficient evolutionary algorithm that can be applied to solve the Quadratic Assignment Problem (QAP). It is particularly useful for handling the combinatorial complexity of QAP by exploring the solution space through mutation, crossover, and selection mechanisms."
      ],
      "metadata": {
        "id": "E_lFrxLPBnBC"
      }
    },
    {
      "cell_type": "code",
      "execution_count": 6,
      "metadata": {
        "colab": {
          "base_uri": "https://localhost:8080/"
        },
        "id": "hnJAKJzNW4rd",
        "outputId": "cad6e0d1-99dc-4f02-e1fa-e2e7bfbbd11c"
      },
      "outputs": [
        {
          "output_type": "stream",
          "name": "stdout",
          "text": [
            "Collecting mealpy\n",
            "  Downloading mealpy-3.0.1-py3-none-any.whl.metadata (104 kB)\n",
            "\u001b[?25l     \u001b[90m━━━━━━━━━━━━━━━━━━━━━━━━━━━━━━━━━━━━━━━━\u001b[0m \u001b[32m0.0/104.9 kB\u001b[0m \u001b[31m?\u001b[0m eta \u001b[36m-:--:--\u001b[0m\r\u001b[2K     \u001b[90m━━━━━━━━━━━━━━━━━━━━━━━━━━━━━━━━━━━━━━━━\u001b[0m \u001b[32m104.9/104.9 kB\u001b[0m \u001b[31m9.0 MB/s\u001b[0m eta \u001b[36m0:00:00\u001b[0m\n",
            "\u001b[?25hRequirement already satisfied: numpy>=1.17.5 in /usr/local/lib/python3.10/dist-packages (from mealpy) (1.26.4)\n",
            "Requirement already satisfied: matplotlib>=3.3.0 in /usr/local/lib/python3.10/dist-packages (from mealpy) (3.8.0)\n",
            "Requirement already satisfied: scipy>=1.7.1 in /usr/local/lib/python3.10/dist-packages (from mealpy) (1.13.1)\n",
            "Requirement already satisfied: pandas>=1.2.0 in /usr/local/lib/python3.10/dist-packages (from mealpy) (2.2.2)\n",
            "Collecting opfunu>=1.0.0 (from mealpy)\n",
            "  Downloading opfunu-1.0.4-py3-none-any.whl.metadata (10 kB)\n",
            "Requirement already satisfied: contourpy>=1.0.1 in /usr/local/lib/python3.10/dist-packages (from matplotlib>=3.3.0->mealpy) (1.3.1)\n",
            "Requirement already satisfied: cycler>=0.10 in /usr/local/lib/python3.10/dist-packages (from matplotlib>=3.3.0->mealpy) (0.12.1)\n",
            "Requirement already satisfied: fonttools>=4.22.0 in /usr/local/lib/python3.10/dist-packages (from matplotlib>=3.3.0->mealpy) (4.55.3)\n",
            "Requirement already satisfied: kiwisolver>=1.0.1 in /usr/local/lib/python3.10/dist-packages (from matplotlib>=3.3.0->mealpy) (1.4.7)\n",
            "Requirement already satisfied: packaging>=20.0 in /usr/local/lib/python3.10/dist-packages (from matplotlib>=3.3.0->mealpy) (24.2)\n",
            "Requirement already satisfied: pillow>=6.2.0 in /usr/local/lib/python3.10/dist-packages (from matplotlib>=3.3.0->mealpy) (11.0.0)\n",
            "Requirement already satisfied: pyparsing>=2.3.1 in /usr/local/lib/python3.10/dist-packages (from matplotlib>=3.3.0->mealpy) (3.2.0)\n",
            "Requirement already satisfied: python-dateutil>=2.7 in /usr/local/lib/python3.10/dist-packages (from matplotlib>=3.3.0->mealpy) (2.8.2)\n",
            "Requirement already satisfied: requests>=2.27.0 in /usr/local/lib/python3.10/dist-packages (from opfunu>=1.0.0->mealpy) (2.32.3)\n",
            "Requirement already satisfied: pytz>=2020.1 in /usr/local/lib/python3.10/dist-packages (from pandas>=1.2.0->mealpy) (2024.2)\n",
            "Requirement already satisfied: tzdata>=2022.7 in /usr/local/lib/python3.10/dist-packages (from pandas>=1.2.0->mealpy) (2024.2)\n",
            "Requirement already satisfied: six>=1.5 in /usr/local/lib/python3.10/dist-packages (from python-dateutil>=2.7->matplotlib>=3.3.0->mealpy) (1.17.0)\n",
            "Requirement already satisfied: charset-normalizer<4,>=2 in /usr/local/lib/python3.10/dist-packages (from requests>=2.27.0->opfunu>=1.0.0->mealpy) (3.4.0)\n",
            "Requirement already satisfied: idna<4,>=2.5 in /usr/local/lib/python3.10/dist-packages (from requests>=2.27.0->opfunu>=1.0.0->mealpy) (3.10)\n",
            "Requirement already satisfied: urllib3<3,>=1.21.1 in /usr/local/lib/python3.10/dist-packages (from requests>=2.27.0->opfunu>=1.0.0->mealpy) (2.2.3)\n",
            "Requirement already satisfied: certifi>=2017.4.17 in /usr/local/lib/python3.10/dist-packages (from requests>=2.27.0->opfunu>=1.0.0->mealpy) (2024.12.14)\n",
            "Downloading mealpy-3.0.1-py3-none-any.whl (386 kB)\n",
            "\u001b[2K   \u001b[90m━━━━━━━━━━━━━━━━━━━━━━━━━━━━━━━━━━━━━━━━\u001b[0m \u001b[32m386.3/386.3 kB\u001b[0m \u001b[31m24.9 MB/s\u001b[0m eta \u001b[36m0:00:00\u001b[0m\n",
            "\u001b[?25hDownloading opfunu-1.0.4-py3-none-any.whl (13.0 MB)\n",
            "\u001b[2K   \u001b[90m━━━━━━━━━━━━━━━━━━━━━━━━━━━━━━━━━━━━━━━━\u001b[0m \u001b[32m13.0/13.0 MB\u001b[0m \u001b[31m80.8 MB/s\u001b[0m eta \u001b[36m0:00:00\u001b[0m\n",
            "\u001b[?25hInstalling collected packages: opfunu, mealpy\n",
            "Successfully installed mealpy-3.0.1 opfunu-1.0.4\n"
          ]
        }
      ],
      "source": [
        "!pip install mealpy"
      ]
    },
    {
      "cell_type": "code",
      "execution_count": 7,
      "metadata": {
        "id": "0P36RhpmYZp4"
      },
      "outputs": [],
      "source": [
        "from mealpy import PermutationVar, Problem,AGTO, DE\n",
        "import numpy as np\n",
        "from time import time"
      ]
    },
    {
      "cell_type": "code",
      "execution_count": 8,
      "metadata": {
        "id": "PSzU_agBYf55"
      },
      "outputs": [],
      "source": [
        "class QAP(Problem):\n",
        "    def __init__(self, bounds=None, minmax=\"min\", name=\"QAP\", data=None, **kwargs):\n",
        "        self.name = name\n",
        "        self.data = data\n",
        "        self.validate_data()\n",
        "        super().__init__(bounds, minmax, **kwargs)\n",
        "\n",
        "    def validate_data(self):\n",
        "        # Validate input data for the QAP problem\n",
        "        if \"facilitiesFlow\" not in self.data or \"locationsDistance\" not in self.data:\n",
        "            raise ValueError(\"Input data must contain 'facilitiesFlow' and 'locationsDistance'\")\n",
        "        flow_shape = np.shape(self.data[\"facilitiesFlow\"])\n",
        "        dist_shape = np.shape(self.data[\"locationsDistance\"])\n",
        "        if len(flow_shape) != 2 or len(dist_shape) != 2 or flow_shape[0] != flow_shape[1] or dist_shape[0] != dist_shape[1]:\n",
        "            raise ValueError(\"Input matrices must be square\")\n",
        "        if flow_shape[0] != dist_shape[0]:\n",
        "            raise ValueError(\"Dimensions of input matrices must match\")\n",
        "\n",
        "    def obj_func(self, solution):\n",
        "        flow = np.array(self.data[\"facilitiesFlow\"])\n",
        "        dist = np.array(self.data[\"locationsDistance\"])\n",
        "        # Convert solution to integer array\n",
        "        solution = np.array(solution, dtype=int)\n",
        "        # Use NumPy indexing and broadcasting for efficient computation\n",
        "        total_cost = np.sum(dist * flow[solution[:, None], solution])\n",
        "        return total_cost"
      ]
    },
    {
      "cell_type": "code",
      "execution_count": 9,
      "metadata": {
        "colab": {
          "base_uri": "https://localhost:8080/"
        },
        "id": "ekoTFbjCYpe3",
        "outputId": "42bd1906-7602-41a6-cefa-689b3c617360"
      },
      "outputs": [
        {
          "output_type": "stream",
          "name": "stderr",
          "text": [
            "INFO:mealpy.evolutionary_based.DE.OriginalDE:Solving single objective optimization problem.\n",
            "INFO:mealpy.evolutionary_based.DE.OriginalDE:>>>Problem: P, Epoch: 1, Current best: 44.0, Global best: 44.0, Runtime: 0.01201 seconds\n",
            "INFO:mealpy.evolutionary_based.DE.OriginalDE:>>>Problem: P, Epoch: 2, Current best: 44.0, Global best: 44.0, Runtime: 0.01741 seconds\n",
            "INFO:mealpy.evolutionary_based.DE.OriginalDE:>>>Problem: P, Epoch: 3, Current best: 44.0, Global best: 44.0, Runtime: 0.01457 seconds\n",
            "INFO:mealpy.evolutionary_based.DE.OriginalDE:>>>Problem: P, Epoch: 4, Current best: 44.0, Global best: 44.0, Runtime: 0.01453 seconds\n",
            "INFO:mealpy.evolutionary_based.DE.OriginalDE:>>>Problem: P, Epoch: 5, Current best: 44.0, Global best: 44.0, Runtime: 0.01518 seconds\n",
            "INFO:mealpy.evolutionary_based.DE.OriginalDE:>>>Problem: P, Epoch: 6, Current best: 44.0, Global best: 44.0, Runtime: 0.01524 seconds\n",
            "INFO:mealpy.evolutionary_based.DE.OriginalDE:>>>Problem: P, Epoch: 7, Current best: 44.0, Global best: 44.0, Runtime: 0.01931 seconds\n",
            "INFO:mealpy.evolutionary_based.DE.OriginalDE:>>>Problem: P, Epoch: 8, Current best: 44.0, Global best: 44.0, Runtime: 0.01546 seconds\n",
            "INFO:mealpy.evolutionary_based.DE.OriginalDE:>>>Problem: P, Epoch: 9, Current best: 44.0, Global best: 44.0, Runtime: 0.01497 seconds\n",
            "INFO:mealpy.evolutionary_based.DE.OriginalDE:>>>Problem: P, Epoch: 10, Current best: 44.0, Global best: 44.0, Runtime: 0.01540 seconds\n",
            "INFO:mealpy.evolutionary_based.DE.OriginalDE:>>>Problem: P, Epoch: 11, Current best: 44.0, Global best: 44.0, Runtime: 0.01528 seconds\n",
            "INFO:mealpy.evolutionary_based.DE.OriginalDE:>>>Problem: P, Epoch: 12, Current best: 44.0, Global best: 44.0, Runtime: 0.01587 seconds\n",
            "INFO:mealpy.evolutionary_based.DE.OriginalDE:>>>Problem: P, Epoch: 13, Current best: 44.0, Global best: 44.0, Runtime: 0.01462 seconds\n",
            "INFO:mealpy.evolutionary_based.DE.OriginalDE:>>>Problem: P, Epoch: 14, Current best: 44.0, Global best: 44.0, Runtime: 0.01985 seconds\n",
            "INFO:mealpy.evolutionary_based.DE.OriginalDE:>>>Problem: P, Epoch: 15, Current best: 44.0, Global best: 44.0, Runtime: 0.02067 seconds\n",
            "INFO:mealpy.evolutionary_based.DE.OriginalDE:>>>Problem: P, Epoch: 16, Current best: 44.0, Global best: 44.0, Runtime: 0.02002 seconds\n",
            "INFO:mealpy.evolutionary_based.DE.OriginalDE:>>>Problem: P, Epoch: 17, Current best: 44.0, Global best: 44.0, Runtime: 0.02114 seconds\n",
            "INFO:mealpy.evolutionary_based.DE.OriginalDE:>>>Problem: P, Epoch: 18, Current best: 44.0, Global best: 44.0, Runtime: 0.01800 seconds\n",
            "INFO:mealpy.evolutionary_based.DE.OriginalDE:>>>Problem: P, Epoch: 19, Current best: 44.0, Global best: 44.0, Runtime: 0.01539 seconds\n",
            "INFO:mealpy.evolutionary_based.DE.OriginalDE:>>>Problem: P, Epoch: 20, Current best: 44.0, Global best: 44.0, Runtime: 0.01547 seconds\n",
            "INFO:mealpy.evolutionary_based.DE.OriginalDE:>>>Problem: P, Epoch: 21, Current best: 44.0, Global best: 44.0, Runtime: 0.01638 seconds\n",
            "INFO:mealpy.evolutionary_based.DE.OriginalDE:>>>Problem: P, Epoch: 22, Current best: 44.0, Global best: 44.0, Runtime: 0.01574 seconds\n",
            "INFO:mealpy.evolutionary_based.DE.OriginalDE:>>>Problem: P, Epoch: 23, Current best: 44.0, Global best: 44.0, Runtime: 0.01444 seconds\n",
            "INFO:mealpy.evolutionary_based.DE.OriginalDE:>>>Problem: P, Epoch: 24, Current best: 44.0, Global best: 44.0, Runtime: 0.01419 seconds\n",
            "INFO:mealpy.evolutionary_based.DE.OriginalDE:>>>Problem: P, Epoch: 25, Current best: 44.0, Global best: 44.0, Runtime: 0.01512 seconds\n",
            "INFO:mealpy.evolutionary_based.DE.OriginalDE:>>>Problem: P, Epoch: 26, Current best: 44.0, Global best: 44.0, Runtime: 0.01501 seconds\n",
            "INFO:mealpy.evolutionary_based.DE.OriginalDE:>>>Problem: P, Epoch: 27, Current best: 44.0, Global best: 44.0, Runtime: 0.01423 seconds\n",
            "INFO:mealpy.evolutionary_based.DE.OriginalDE:>>>Problem: P, Epoch: 28, Current best: 44.0, Global best: 44.0, Runtime: 0.01758 seconds\n",
            "INFO:mealpy.evolutionary_based.DE.OriginalDE:>>>Problem: P, Epoch: 29, Current best: 44.0, Global best: 44.0, Runtime: 0.01457 seconds\n",
            "INFO:mealpy.evolutionary_based.DE.OriginalDE:>>>Problem: P, Epoch: 30, Current best: 44.0, Global best: 44.0, Runtime: 0.01468 seconds\n",
            "INFO:mealpy.evolutionary_based.DE.OriginalDE:>>>Problem: P, Epoch: 31, Current best: 44.0, Global best: 44.0, Runtime: 0.01514 seconds\n",
            "INFO:mealpy.evolutionary_based.DE.OriginalDE:>>>Problem: P, Epoch: 32, Current best: 44.0, Global best: 44.0, Runtime: 0.01538 seconds\n",
            "INFO:mealpy.evolutionary_based.DE.OriginalDE:>>>Problem: P, Epoch: 33, Current best: 44.0, Global best: 44.0, Runtime: 0.01488 seconds\n",
            "INFO:mealpy.evolutionary_based.DE.OriginalDE:>>>Problem: P, Epoch: 34, Current best: 44.0, Global best: 44.0, Runtime: 0.01441 seconds\n",
            "INFO:mealpy.evolutionary_based.DE.OriginalDE:>>>Problem: P, Epoch: 35, Current best: 44.0, Global best: 44.0, Runtime: 0.01443 seconds\n",
            "INFO:mealpy.evolutionary_based.DE.OriginalDE:>>>Problem: P, Epoch: 36, Current best: 44.0, Global best: 44.0, Runtime: 0.01878 seconds\n",
            "INFO:mealpy.evolutionary_based.DE.OriginalDE:>>>Problem: P, Epoch: 37, Current best: 44.0, Global best: 44.0, Runtime: 0.01476 seconds\n",
            "INFO:mealpy.evolutionary_based.DE.OriginalDE:>>>Problem: P, Epoch: 38, Current best: 44.0, Global best: 44.0, Runtime: 0.01484 seconds\n",
            "INFO:mealpy.evolutionary_based.DE.OriginalDE:>>>Problem: P, Epoch: 39, Current best: 44.0, Global best: 44.0, Runtime: 0.02363 seconds\n",
            "INFO:mealpy.evolutionary_based.DE.OriginalDE:>>>Problem: P, Epoch: 40, Current best: 44.0, Global best: 44.0, Runtime: 0.01548 seconds\n",
            "INFO:mealpy.evolutionary_based.DE.OriginalDE:>>>Problem: P, Epoch: 41, Current best: 44.0, Global best: 44.0, Runtime: 0.01774 seconds\n",
            "INFO:mealpy.evolutionary_based.DE.OriginalDE:>>>Problem: P, Epoch: 42, Current best: 44.0, Global best: 44.0, Runtime: 0.01412 seconds\n",
            "INFO:mealpy.evolutionary_based.DE.OriginalDE:>>>Problem: P, Epoch: 43, Current best: 44.0, Global best: 44.0, Runtime: 0.01453 seconds\n",
            "INFO:mealpy.evolutionary_based.DE.OriginalDE:>>>Problem: P, Epoch: 44, Current best: 44.0, Global best: 44.0, Runtime: 0.01639 seconds\n",
            "INFO:mealpy.evolutionary_based.DE.OriginalDE:>>>Problem: P, Epoch: 45, Current best: 44.0, Global best: 44.0, Runtime: 0.01459 seconds\n",
            "INFO:mealpy.evolutionary_based.DE.OriginalDE:>>>Problem: P, Epoch: 46, Current best: 44.0, Global best: 44.0, Runtime: 0.01540 seconds\n",
            "INFO:mealpy.evolutionary_based.DE.OriginalDE:>>>Problem: P, Epoch: 47, Current best: 44.0, Global best: 44.0, Runtime: 0.01535 seconds\n",
            "INFO:mealpy.evolutionary_based.DE.OriginalDE:>>>Problem: P, Epoch: 48, Current best: 44.0, Global best: 44.0, Runtime: 0.01458 seconds\n",
            "INFO:mealpy.evolutionary_based.DE.OriginalDE:>>>Problem: P, Epoch: 49, Current best: 44.0, Global best: 44.0, Runtime: 0.01479 seconds\n",
            "INFO:mealpy.evolutionary_based.DE.OriginalDE:>>>Problem: P, Epoch: 50, Current best: 44.0, Global best: 44.0, Runtime: 0.01576 seconds\n",
            "INFO:mealpy.evolutionary_based.DE.OriginalDE:>>>Problem: P, Epoch: 51, Current best: 44.0, Global best: 44.0, Runtime: 0.01809 seconds\n",
            "INFO:mealpy.evolutionary_based.DE.OriginalDE:>>>Problem: P, Epoch: 52, Current best: 44.0, Global best: 44.0, Runtime: 0.02376 seconds\n",
            "INFO:mealpy.evolutionary_based.DE.OriginalDE:>>>Problem: P, Epoch: 53, Current best: 44.0, Global best: 44.0, Runtime: 0.01494 seconds\n",
            "INFO:mealpy.evolutionary_based.DE.OriginalDE:>>>Problem: P, Epoch: 54, Current best: 44.0, Global best: 44.0, Runtime: 0.01568 seconds\n",
            "INFO:mealpy.evolutionary_based.DE.OriginalDE:>>>Problem: P, Epoch: 55, Current best: 44.0, Global best: 44.0, Runtime: 0.01830 seconds\n",
            "INFO:mealpy.evolutionary_based.DE.OriginalDE:>>>Problem: P, Epoch: 56, Current best: 44.0, Global best: 44.0, Runtime: 0.01447 seconds\n",
            "INFO:mealpy.evolutionary_based.DE.OriginalDE:>>>Problem: P, Epoch: 57, Current best: 44.0, Global best: 44.0, Runtime: 0.01856 seconds\n",
            "INFO:mealpy.evolutionary_based.DE.OriginalDE:>>>Problem: P, Epoch: 58, Current best: 44.0, Global best: 44.0, Runtime: 0.01440 seconds\n",
            "INFO:mealpy.evolutionary_based.DE.OriginalDE:>>>Problem: P, Epoch: 59, Current best: 44.0, Global best: 44.0, Runtime: 0.01599 seconds\n",
            "INFO:mealpy.evolutionary_based.DE.OriginalDE:>>>Problem: P, Epoch: 60, Current best: 44.0, Global best: 44.0, Runtime: 0.01485 seconds\n",
            "INFO:mealpy.evolutionary_based.DE.OriginalDE:>>>Problem: P, Epoch: 61, Current best: 44.0, Global best: 44.0, Runtime: 0.01462 seconds\n",
            "INFO:mealpy.evolutionary_based.DE.OriginalDE:>>>Problem: P, Epoch: 62, Current best: 44.0, Global best: 44.0, Runtime: 0.01582 seconds\n",
            "INFO:mealpy.evolutionary_based.DE.OriginalDE:>>>Problem: P, Epoch: 63, Current best: 44.0, Global best: 44.0, Runtime: 0.01578 seconds\n",
            "INFO:mealpy.evolutionary_based.DE.OriginalDE:>>>Problem: P, Epoch: 64, Current best: 44.0, Global best: 44.0, Runtime: 0.01506 seconds\n",
            "INFO:mealpy.evolutionary_based.DE.OriginalDE:>>>Problem: P, Epoch: 65, Current best: 44.0, Global best: 44.0, Runtime: 0.01574 seconds\n",
            "INFO:mealpy.evolutionary_based.DE.OriginalDE:>>>Problem: P, Epoch: 66, Current best: 44.0, Global best: 44.0, Runtime: 0.02113 seconds\n",
            "INFO:mealpy.evolutionary_based.DE.OriginalDE:>>>Problem: P, Epoch: 67, Current best: 44.0, Global best: 44.0, Runtime: 0.02273 seconds\n",
            "INFO:mealpy.evolutionary_based.DE.OriginalDE:>>>Problem: P, Epoch: 68, Current best: 44.0, Global best: 44.0, Runtime: 0.02116 seconds\n",
            "INFO:mealpy.evolutionary_based.DE.OriginalDE:>>>Problem: P, Epoch: 69, Current best: 44.0, Global best: 44.0, Runtime: 0.02263 seconds\n",
            "INFO:mealpy.evolutionary_based.DE.OriginalDE:>>>Problem: P, Epoch: 70, Current best: 44.0, Global best: 44.0, Runtime: 0.02292 seconds\n",
            "INFO:mealpy.evolutionary_based.DE.OriginalDE:>>>Problem: P, Epoch: 71, Current best: 44.0, Global best: 44.0, Runtime: 0.02216 seconds\n",
            "INFO:mealpy.evolutionary_based.DE.OriginalDE:>>>Problem: P, Epoch: 72, Current best: 44.0, Global best: 44.0, Runtime: 0.02257 seconds\n",
            "INFO:mealpy.evolutionary_based.DE.OriginalDE:>>>Problem: P, Epoch: 73, Current best: 44.0, Global best: 44.0, Runtime: 0.02144 seconds\n",
            "INFO:mealpy.evolutionary_based.DE.OriginalDE:>>>Problem: P, Epoch: 74, Current best: 44.0, Global best: 44.0, Runtime: 0.02927 seconds\n",
            "INFO:mealpy.evolutionary_based.DE.OriginalDE:>>>Problem: P, Epoch: 75, Current best: 44.0, Global best: 44.0, Runtime: 0.02516 seconds\n",
            "INFO:mealpy.evolutionary_based.DE.OriginalDE:>>>Problem: P, Epoch: 76, Current best: 44.0, Global best: 44.0, Runtime: 0.01937 seconds\n",
            "INFO:mealpy.evolutionary_based.DE.OriginalDE:>>>Problem: P, Epoch: 77, Current best: 44.0, Global best: 44.0, Runtime: 0.02031 seconds\n",
            "INFO:mealpy.evolutionary_based.DE.OriginalDE:>>>Problem: P, Epoch: 78, Current best: 44.0, Global best: 44.0, Runtime: 0.02385 seconds\n",
            "INFO:mealpy.evolutionary_based.DE.OriginalDE:>>>Problem: P, Epoch: 79, Current best: 44.0, Global best: 44.0, Runtime: 0.02764 seconds\n",
            "INFO:mealpy.evolutionary_based.DE.OriginalDE:>>>Problem: P, Epoch: 80, Current best: 44.0, Global best: 44.0, Runtime: 0.03060 seconds\n",
            "INFO:mealpy.evolutionary_based.DE.OriginalDE:>>>Problem: P, Epoch: 81, Current best: 44.0, Global best: 44.0, Runtime: 0.02755 seconds\n",
            "INFO:mealpy.evolutionary_based.DE.OriginalDE:>>>Problem: P, Epoch: 82, Current best: 44.0, Global best: 44.0, Runtime: 0.02455 seconds\n",
            "INFO:mealpy.evolutionary_based.DE.OriginalDE:>>>Problem: P, Epoch: 83, Current best: 44.0, Global best: 44.0, Runtime: 0.02360 seconds\n",
            "INFO:mealpy.evolutionary_based.DE.OriginalDE:>>>Problem: P, Epoch: 84, Current best: 44.0, Global best: 44.0, Runtime: 0.02514 seconds\n",
            "INFO:mealpy.evolutionary_based.DE.OriginalDE:>>>Problem: P, Epoch: 85, Current best: 44.0, Global best: 44.0, Runtime: 0.02012 seconds\n",
            "INFO:mealpy.evolutionary_based.DE.OriginalDE:>>>Problem: P, Epoch: 86, Current best: 44.0, Global best: 44.0, Runtime: 0.01969 seconds\n",
            "INFO:mealpy.evolutionary_based.DE.OriginalDE:>>>Problem: P, Epoch: 87, Current best: 44.0, Global best: 44.0, Runtime: 0.02085 seconds\n",
            "INFO:mealpy.evolutionary_based.DE.OriginalDE:>>>Problem: P, Epoch: 88, Current best: 44.0, Global best: 44.0, Runtime: 0.02275 seconds\n",
            "INFO:mealpy.evolutionary_based.DE.OriginalDE:>>>Problem: P, Epoch: 89, Current best: 44.0, Global best: 44.0, Runtime: 0.02166 seconds\n",
            "INFO:mealpy.evolutionary_based.DE.OriginalDE:>>>Problem: P, Epoch: 90, Current best: 44.0, Global best: 44.0, Runtime: 0.02107 seconds\n",
            "INFO:mealpy.evolutionary_based.DE.OriginalDE:>>>Problem: P, Epoch: 91, Current best: 44.0, Global best: 44.0, Runtime: 0.01937 seconds\n",
            "INFO:mealpy.evolutionary_based.DE.OriginalDE:>>>Problem: P, Epoch: 92, Current best: 44.0, Global best: 44.0, Runtime: 0.02281 seconds\n",
            "INFO:mealpy.evolutionary_based.DE.OriginalDE:>>>Problem: P, Epoch: 93, Current best: 44.0, Global best: 44.0, Runtime: 0.02847 seconds\n",
            "INFO:mealpy.evolutionary_based.DE.OriginalDE:>>>Problem: P, Epoch: 94, Current best: 44.0, Global best: 44.0, Runtime: 0.02192 seconds\n",
            "INFO:mealpy.evolutionary_based.DE.OriginalDE:>>>Problem: P, Epoch: 95, Current best: 44.0, Global best: 44.0, Runtime: 0.01946 seconds\n",
            "INFO:mealpy.evolutionary_based.DE.OriginalDE:>>>Problem: P, Epoch: 96, Current best: 44.0, Global best: 44.0, Runtime: 0.01883 seconds\n",
            "INFO:mealpy.evolutionary_based.DE.OriginalDE:>>>Problem: P, Epoch: 97, Current best: 44.0, Global best: 44.0, Runtime: 0.01931 seconds\n",
            "INFO:mealpy.evolutionary_based.DE.OriginalDE:>>>Problem: P, Epoch: 98, Current best: 44.0, Global best: 44.0, Runtime: 0.02074 seconds\n",
            "INFO:mealpy.evolutionary_based.DE.OriginalDE:>>>Problem: P, Epoch: 99, Current best: 44.0, Global best: 44.0, Runtime: 0.02493 seconds\n",
            "INFO:mealpy.evolutionary_based.DE.OriginalDE:>>>Problem: P, Epoch: 100, Current best: 44.0, Global best: 44.0, Runtime: 0.02143 seconds\n"
          ]
        },
        {
          "output_type": "stream",
          "name": "stdout",
          "text": [
            "Best fitness: 44.0, Best solution: [1. 3. 0. 2.]\n"
          ]
        }
      ],
      "source": [
        "\n",
        "data = {\n",
        "    \"locationsDistance\": np.array([\n",
        "        [0, 2, 3, 1],\n",
        "        [2, 0, 1, 4],\n",
        "        [3, 1, 0, 2],\n",
        "        [1, 4, 2, 0]\n",
        "])\n",
        "    ,\n",
        "    \"facilitiesFlow\": np.array([\n",
        "        [0, 1, 2, 3],\n",
        "        [1, 0, 4, 2],\n",
        "        [2, 4, 0, 1],\n",
        "        [3, 2, 1, 0]\n",
        "])\n",
        "}\n",
        "\n",
        "n = F.shape[0]  # Number of facilities/locations\n",
        "problem = QAP(bounds=PermutationVar(valid_set=list(range(n)), name=\"perm\"), minmax=\"min\", name=\"QAP\", data=data,  save_population=True)\n",
        "model =  DE.OriginalDE(epoch=100, pop_size=100)\n",
        "g_best = model.solve(problem)\n",
        "print(f\"Best fitness: {g_best.target.fitness}, Best solution: {g_best.solution}\")"
      ]
    },
    {
      "cell_type": "code",
      "execution_count": 10,
      "metadata": {
        "id": "N_HDK0ypZy1H"
      },
      "outputs": [],
      "source": [
        "model.history.save_global_objectives_chart(filename=\"hello/goc\")\n",
        "model.history.save_local_objectives_chart(filename=\"hello/loc\")\n",
        "\n",
        "model.history.save_global_best_fitness_chart(filename=\"hello/gbfc\")\n",
        "model.history.save_local_best_fitness_chart(filename=\"hello/lbfc\")\n",
        "\n",
        "model.history.save_runtime_chart(filename=\"hello/rtc\")\n",
        "\n",
        "model.history.save_exploration_exploitation_chart(filename=\"hello/eec\")\n",
        "\n",
        "model.history.save_diversity_chart(filename=\"hello/dc\")\n",
        "\n",
        "model.history.save_trajectory_chart(list_agent_idx=[3, 5, 6, 7,], selected_dimensions=[3, 4], filename=\"hello/tc\")"
      ]
    },
    {
      "cell_type": "code",
      "execution_count": 11,
      "metadata": {
        "colab": {
          "base_uri": "https://localhost:8080/"
        },
        "id": "KIP0M2mWfbNI",
        "outputId": "679104ec-3542-477e-99fb-62d38ee38121"
      },
      "outputs": [
        {
          "output_type": "stream",
          "name": "stderr",
          "text": [
            "INFO:mealpy.evolutionary_based.DE.OriginalDE:Solving single objective optimization problem.\n",
            "INFO:mealpy.evolutionary_based.DE.OriginalDE:>>>Problem: P, Epoch: 1, Current best: 684.0, Global best: 684.0, Runtime: 0.02020 seconds\n",
            "INFO:mealpy.evolutionary_based.DE.OriginalDE:>>>Problem: P, Epoch: 2, Current best: 676.0, Global best: 676.0, Runtime: 0.02153 seconds\n",
            "INFO:mealpy.evolutionary_based.DE.OriginalDE:>>>Problem: P, Epoch: 3, Current best: 676.0, Global best: 676.0, Runtime: 0.02400 seconds\n",
            "INFO:mealpy.evolutionary_based.DE.OriginalDE:>>>Problem: P, Epoch: 4, Current best: 676.0, Global best: 676.0, Runtime: 0.01880 seconds\n",
            "INFO:mealpy.evolutionary_based.DE.OriginalDE:>>>Problem: P, Epoch: 5, Current best: 676.0, Global best: 676.0, Runtime: 0.03154 seconds\n",
            "INFO:mealpy.evolutionary_based.DE.OriginalDE:>>>Problem: P, Epoch: 6, Current best: 676.0, Global best: 676.0, Runtime: 0.01825 seconds\n",
            "INFO:mealpy.evolutionary_based.DE.OriginalDE:>>>Problem: P, Epoch: 7, Current best: 676.0, Global best: 676.0, Runtime: 0.01855 seconds\n",
            "INFO:mealpy.evolutionary_based.DE.OriginalDE:>>>Problem: P, Epoch: 8, Current best: 676.0, Global best: 676.0, Runtime: 0.01872 seconds\n",
            "INFO:mealpy.evolutionary_based.DE.OriginalDE:>>>Problem: P, Epoch: 9, Current best: 676.0, Global best: 676.0, Runtime: 0.02816 seconds\n",
            "INFO:mealpy.evolutionary_based.DE.OriginalDE:>>>Problem: P, Epoch: 10, Current best: 676.0, Global best: 676.0, Runtime: 0.02227 seconds\n",
            "INFO:mealpy.evolutionary_based.DE.OriginalDE:>>>Problem: P, Epoch: 11, Current best: 676.0, Global best: 676.0, Runtime: 0.02031 seconds\n",
            "INFO:mealpy.evolutionary_based.DE.OriginalDE:>>>Problem: P, Epoch: 12, Current best: 676.0, Global best: 676.0, Runtime: 0.01983 seconds\n",
            "INFO:mealpy.evolutionary_based.DE.OriginalDE:>>>Problem: P, Epoch: 13, Current best: 676.0, Global best: 676.0, Runtime: 0.02059 seconds\n",
            "INFO:mealpy.evolutionary_based.DE.OriginalDE:>>>Problem: P, Epoch: 14, Current best: 676.0, Global best: 676.0, Runtime: 0.01892 seconds\n",
            "INFO:mealpy.evolutionary_based.DE.OriginalDE:>>>Problem: P, Epoch: 15, Current best: 676.0, Global best: 676.0, Runtime: 0.01879 seconds\n",
            "INFO:mealpy.evolutionary_based.DE.OriginalDE:>>>Problem: P, Epoch: 16, Current best: 668.0, Global best: 668.0, Runtime: 0.01879 seconds\n",
            "INFO:mealpy.evolutionary_based.DE.OriginalDE:>>>Problem: P, Epoch: 17, Current best: 668.0, Global best: 668.0, Runtime: 0.01951 seconds\n",
            "INFO:mealpy.evolutionary_based.DE.OriginalDE:>>>Problem: P, Epoch: 18, Current best: 668.0, Global best: 668.0, Runtime: 0.01870 seconds\n",
            "INFO:mealpy.evolutionary_based.DE.OriginalDE:>>>Problem: P, Epoch: 19, Current best: 668.0, Global best: 668.0, Runtime: 0.02122 seconds\n",
            "INFO:mealpy.evolutionary_based.DE.OriginalDE:>>>Problem: P, Epoch: 20, Current best: 668.0, Global best: 668.0, Runtime: 0.03137 seconds\n",
            "INFO:mealpy.evolutionary_based.DE.OriginalDE:>>>Problem: P, Epoch: 21, Current best: 668.0, Global best: 668.0, Runtime: 0.02806 seconds\n",
            "INFO:mealpy.evolutionary_based.DE.OriginalDE:>>>Problem: P, Epoch: 22, Current best: 666.0, Global best: 666.0, Runtime: 0.02664 seconds\n",
            "INFO:mealpy.evolutionary_based.DE.OriginalDE:>>>Problem: P, Epoch: 23, Current best: 656.0, Global best: 656.0, Runtime: 0.02778 seconds\n",
            "INFO:mealpy.evolutionary_based.DE.OriginalDE:>>>Problem: P, Epoch: 24, Current best: 634.0, Global best: 634.0, Runtime: 0.01996 seconds\n",
            "INFO:mealpy.evolutionary_based.DE.OriginalDE:>>>Problem: P, Epoch: 25, Current best: 634.0, Global best: 634.0, Runtime: 0.02467 seconds\n",
            "INFO:mealpy.evolutionary_based.DE.OriginalDE:>>>Problem: P, Epoch: 26, Current best: 634.0, Global best: 634.0, Runtime: 0.02600 seconds\n",
            "INFO:mealpy.evolutionary_based.DE.OriginalDE:>>>Problem: P, Epoch: 27, Current best: 622.0, Global best: 622.0, Runtime: 0.02686 seconds\n",
            "INFO:mealpy.evolutionary_based.DE.OriginalDE:>>>Problem: P, Epoch: 28, Current best: 622.0, Global best: 622.0, Runtime: 0.02343 seconds\n",
            "INFO:mealpy.evolutionary_based.DE.OriginalDE:>>>Problem: P, Epoch: 29, Current best: 622.0, Global best: 622.0, Runtime: 0.02394 seconds\n",
            "INFO:mealpy.evolutionary_based.DE.OriginalDE:>>>Problem: P, Epoch: 30, Current best: 622.0, Global best: 622.0, Runtime: 0.02440 seconds\n",
            "INFO:mealpy.evolutionary_based.DE.OriginalDE:>>>Problem: P, Epoch: 31, Current best: 622.0, Global best: 622.0, Runtime: 0.01872 seconds\n",
            "INFO:mealpy.evolutionary_based.DE.OriginalDE:>>>Problem: P, Epoch: 32, Current best: 622.0, Global best: 622.0, Runtime: 0.01987 seconds\n",
            "INFO:mealpy.evolutionary_based.DE.OriginalDE:>>>Problem: P, Epoch: 33, Current best: 622.0, Global best: 622.0, Runtime: 0.25969 seconds\n",
            "INFO:mealpy.evolutionary_based.DE.OriginalDE:>>>Problem: P, Epoch: 34, Current best: 622.0, Global best: 622.0, Runtime: 0.02486 seconds\n",
            "INFO:mealpy.evolutionary_based.DE.OriginalDE:>>>Problem: P, Epoch: 35, Current best: 622.0, Global best: 622.0, Runtime: 0.02469 seconds\n",
            "INFO:mealpy.evolutionary_based.DE.OriginalDE:>>>Problem: P, Epoch: 36, Current best: 622.0, Global best: 622.0, Runtime: 0.02397 seconds\n",
            "INFO:mealpy.evolutionary_based.DE.OriginalDE:>>>Problem: P, Epoch: 37, Current best: 622.0, Global best: 622.0, Runtime: 0.02424 seconds\n",
            "INFO:mealpy.evolutionary_based.DE.OriginalDE:>>>Problem: P, Epoch: 38, Current best: 622.0, Global best: 622.0, Runtime: 0.02259 seconds\n",
            "INFO:mealpy.evolutionary_based.DE.OriginalDE:>>>Problem: P, Epoch: 39, Current best: 622.0, Global best: 622.0, Runtime: 0.03472 seconds\n",
            "INFO:mealpy.evolutionary_based.DE.OriginalDE:>>>Problem: P, Epoch: 40, Current best: 622.0, Global best: 622.0, Runtime: 0.02515 seconds\n",
            "INFO:mealpy.evolutionary_based.DE.OriginalDE:>>>Problem: P, Epoch: 41, Current best: 614.0, Global best: 614.0, Runtime: 0.02272 seconds\n",
            "INFO:mealpy.evolutionary_based.DE.OriginalDE:>>>Problem: P, Epoch: 42, Current best: 614.0, Global best: 614.0, Runtime: 0.02339 seconds\n",
            "INFO:mealpy.evolutionary_based.DE.OriginalDE:>>>Problem: P, Epoch: 43, Current best: 614.0, Global best: 614.0, Runtime: 0.02188 seconds\n",
            "INFO:mealpy.evolutionary_based.DE.OriginalDE:>>>Problem: P, Epoch: 44, Current best: 614.0, Global best: 614.0, Runtime: 0.02389 seconds\n",
            "INFO:mealpy.evolutionary_based.DE.OriginalDE:>>>Problem: P, Epoch: 45, Current best: 614.0, Global best: 614.0, Runtime: 0.02311 seconds\n",
            "INFO:mealpy.evolutionary_based.DE.OriginalDE:>>>Problem: P, Epoch: 46, Current best: 614.0, Global best: 614.0, Runtime: 0.02251 seconds\n",
            "INFO:mealpy.evolutionary_based.DE.OriginalDE:>>>Problem: P, Epoch: 47, Current best: 614.0, Global best: 614.0, Runtime: 0.02146 seconds\n",
            "INFO:mealpy.evolutionary_based.DE.OriginalDE:>>>Problem: P, Epoch: 48, Current best: 614.0, Global best: 614.0, Runtime: 0.02173 seconds\n",
            "INFO:mealpy.evolutionary_based.DE.OriginalDE:>>>Problem: P, Epoch: 49, Current best: 614.0, Global best: 614.0, Runtime: 0.02656 seconds\n",
            "INFO:mealpy.evolutionary_based.DE.OriginalDE:>>>Problem: P, Epoch: 50, Current best: 614.0, Global best: 614.0, Runtime: 0.02282 seconds\n",
            "INFO:mealpy.evolutionary_based.DE.OriginalDE:>>>Problem: P, Epoch: 51, Current best: 610.0, Global best: 610.0, Runtime: 0.02076 seconds\n",
            "INFO:mealpy.evolutionary_based.DE.OriginalDE:>>>Problem: P, Epoch: 52, Current best: 600.0, Global best: 600.0, Runtime: 0.01993 seconds\n",
            "INFO:mealpy.evolutionary_based.DE.OriginalDE:>>>Problem: P, Epoch: 53, Current best: 600.0, Global best: 600.0, Runtime: 0.02374 seconds\n",
            "INFO:mealpy.evolutionary_based.DE.OriginalDE:>>>Problem: P, Epoch: 54, Current best: 600.0, Global best: 600.0, Runtime: 0.02074 seconds\n",
            "INFO:mealpy.evolutionary_based.DE.OriginalDE:>>>Problem: P, Epoch: 55, Current best: 600.0, Global best: 600.0, Runtime: 0.02071 seconds\n",
            "INFO:mealpy.evolutionary_based.DE.OriginalDE:>>>Problem: P, Epoch: 56, Current best: 600.0, Global best: 600.0, Runtime: 0.02123 seconds\n",
            "INFO:mealpy.evolutionary_based.DE.OriginalDE:>>>Problem: P, Epoch: 57, Current best: 600.0, Global best: 600.0, Runtime: 0.02672 seconds\n",
            "INFO:mealpy.evolutionary_based.DE.OriginalDE:>>>Problem: P, Epoch: 58, Current best: 600.0, Global best: 600.0, Runtime: 0.02237 seconds\n",
            "INFO:mealpy.evolutionary_based.DE.OriginalDE:>>>Problem: P, Epoch: 59, Current best: 600.0, Global best: 600.0, Runtime: 0.02550 seconds\n",
            "INFO:mealpy.evolutionary_based.DE.OriginalDE:>>>Problem: P, Epoch: 60, Current best: 600.0, Global best: 600.0, Runtime: 0.02267 seconds\n",
            "INFO:mealpy.evolutionary_based.DE.OriginalDE:>>>Problem: P, Epoch: 61, Current best: 600.0, Global best: 600.0, Runtime: 0.02808 seconds\n",
            "INFO:mealpy.evolutionary_based.DE.OriginalDE:>>>Problem: P, Epoch: 62, Current best: 600.0, Global best: 600.0, Runtime: 0.02637 seconds\n",
            "INFO:mealpy.evolutionary_based.DE.OriginalDE:>>>Problem: P, Epoch: 63, Current best: 600.0, Global best: 600.0, Runtime: 0.03154 seconds\n",
            "INFO:mealpy.evolutionary_based.DE.OriginalDE:>>>Problem: P, Epoch: 64, Current best: 600.0, Global best: 600.0, Runtime: 0.03112 seconds\n",
            "INFO:mealpy.evolutionary_based.DE.OriginalDE:>>>Problem: P, Epoch: 65, Current best: 600.0, Global best: 600.0, Runtime: 0.02693 seconds\n",
            "INFO:mealpy.evolutionary_based.DE.OriginalDE:>>>Problem: P, Epoch: 66, Current best: 600.0, Global best: 600.0, Runtime: 0.03563 seconds\n",
            "INFO:mealpy.evolutionary_based.DE.OriginalDE:>>>Problem: P, Epoch: 67, Current best: 600.0, Global best: 600.0, Runtime: 0.03256 seconds\n",
            "INFO:mealpy.evolutionary_based.DE.OriginalDE:>>>Problem: P, Epoch: 68, Current best: 600.0, Global best: 600.0, Runtime: 0.02246 seconds\n",
            "INFO:mealpy.evolutionary_based.DE.OriginalDE:>>>Problem: P, Epoch: 69, Current best: 600.0, Global best: 600.0, Runtime: 0.02168 seconds\n",
            "INFO:mealpy.evolutionary_based.DE.OriginalDE:>>>Problem: P, Epoch: 70, Current best: 600.0, Global best: 600.0, Runtime: 0.01860 seconds\n",
            "INFO:mealpy.evolutionary_based.DE.OriginalDE:>>>Problem: P, Epoch: 71, Current best: 600.0, Global best: 600.0, Runtime: 0.01451 seconds\n",
            "INFO:mealpy.evolutionary_based.DE.OriginalDE:>>>Problem: P, Epoch: 72, Current best: 600.0, Global best: 600.0, Runtime: 0.01526 seconds\n",
            "INFO:mealpy.evolutionary_based.DE.OriginalDE:>>>Problem: P, Epoch: 73, Current best: 600.0, Global best: 600.0, Runtime: 0.02279 seconds\n",
            "INFO:mealpy.evolutionary_based.DE.OriginalDE:>>>Problem: P, Epoch: 74, Current best: 600.0, Global best: 600.0, Runtime: 0.01711 seconds\n",
            "INFO:mealpy.evolutionary_based.DE.OriginalDE:>>>Problem: P, Epoch: 75, Current best: 600.0, Global best: 600.0, Runtime: 0.01347 seconds\n",
            "INFO:mealpy.evolutionary_based.DE.OriginalDE:>>>Problem: P, Epoch: 76, Current best: 600.0, Global best: 600.0, Runtime: 0.01461 seconds\n",
            "INFO:mealpy.evolutionary_based.DE.OriginalDE:>>>Problem: P, Epoch: 77, Current best: 600.0, Global best: 600.0, Runtime: 0.01338 seconds\n",
            "INFO:mealpy.evolutionary_based.DE.OriginalDE:>>>Problem: P, Epoch: 78, Current best: 600.0, Global best: 600.0, Runtime: 0.01477 seconds\n",
            "INFO:mealpy.evolutionary_based.DE.OriginalDE:>>>Problem: P, Epoch: 79, Current best: 600.0, Global best: 600.0, Runtime: 0.01419 seconds\n",
            "INFO:mealpy.evolutionary_based.DE.OriginalDE:>>>Problem: P, Epoch: 80, Current best: 600.0, Global best: 600.0, Runtime: 0.01488 seconds\n",
            "INFO:mealpy.evolutionary_based.DE.OriginalDE:>>>Problem: P, Epoch: 81, Current best: 600.0, Global best: 600.0, Runtime: 0.01792 seconds\n",
            "INFO:mealpy.evolutionary_based.DE.OriginalDE:>>>Problem: P, Epoch: 82, Current best: 600.0, Global best: 600.0, Runtime: 0.01454 seconds\n",
            "INFO:mealpy.evolutionary_based.DE.OriginalDE:>>>Problem: P, Epoch: 83, Current best: 600.0, Global best: 600.0, Runtime: 0.01599 seconds\n",
            "INFO:mealpy.evolutionary_based.DE.OriginalDE:>>>Problem: P, Epoch: 84, Current best: 600.0, Global best: 600.0, Runtime: 0.01502 seconds\n",
            "INFO:mealpy.evolutionary_based.DE.OriginalDE:>>>Problem: P, Epoch: 85, Current best: 600.0, Global best: 600.0, Runtime: 0.01513 seconds\n",
            "INFO:mealpy.evolutionary_based.DE.OriginalDE:>>>Problem: P, Epoch: 86, Current best: 600.0, Global best: 600.0, Runtime: 0.01823 seconds\n",
            "INFO:mealpy.evolutionary_based.DE.OriginalDE:>>>Problem: P, Epoch: 87, Current best: 600.0, Global best: 600.0, Runtime: 0.01526 seconds\n",
            "INFO:mealpy.evolutionary_based.DE.OriginalDE:>>>Problem: P, Epoch: 88, Current best: 600.0, Global best: 600.0, Runtime: 0.01762 seconds\n",
            "INFO:mealpy.evolutionary_based.DE.OriginalDE:>>>Problem: P, Epoch: 89, Current best: 600.0, Global best: 600.0, Runtime: 0.01439 seconds\n",
            "INFO:mealpy.evolutionary_based.DE.OriginalDE:>>>Problem: P, Epoch: 90, Current best: 600.0, Global best: 600.0, Runtime: 0.01489 seconds\n",
            "INFO:mealpy.evolutionary_based.DE.OriginalDE:>>>Problem: P, Epoch: 91, Current best: 600.0, Global best: 600.0, Runtime: 0.01730 seconds\n",
            "INFO:mealpy.evolutionary_based.DE.OriginalDE:>>>Problem: P, Epoch: 92, Current best: 600.0, Global best: 600.0, Runtime: 0.01516 seconds\n",
            "INFO:mealpy.evolutionary_based.DE.OriginalDE:>>>Problem: P, Epoch: 93, Current best: 600.0, Global best: 600.0, Runtime: 0.01633 seconds\n",
            "INFO:mealpy.evolutionary_based.DE.OriginalDE:>>>Problem: P, Epoch: 94, Current best: 600.0, Global best: 600.0, Runtime: 0.01531 seconds\n",
            "INFO:mealpy.evolutionary_based.DE.OriginalDE:>>>Problem: P, Epoch: 95, Current best: 600.0, Global best: 600.0, Runtime: 0.01546 seconds\n",
            "INFO:mealpy.evolutionary_based.DE.OriginalDE:>>>Problem: P, Epoch: 96, Current best: 600.0, Global best: 600.0, Runtime: 0.01528 seconds\n",
            "INFO:mealpy.evolutionary_based.DE.OriginalDE:>>>Problem: P, Epoch: 97, Current best: 600.0, Global best: 600.0, Runtime: 0.01542 seconds\n",
            "INFO:mealpy.evolutionary_based.DE.OriginalDE:>>>Problem: P, Epoch: 98, Current best: 600.0, Global best: 600.0, Runtime: 0.01569 seconds\n",
            "INFO:mealpy.evolutionary_based.DE.OriginalDE:>>>Problem: P, Epoch: 99, Current best: 600.0, Global best: 600.0, Runtime: 0.01625 seconds\n",
            "INFO:mealpy.evolutionary_based.DE.OriginalDE:>>>Problem: P, Epoch: 100, Current best: 600.0, Global best: 600.0, Runtime: 0.01504 seconds\n",
            "INFO:mealpy.evolutionary_based.DE.OriginalDE:>>>Problem: P, Epoch: 101, Current best: 600.0, Global best: 600.0, Runtime: 0.01563 seconds\n",
            "INFO:mealpy.evolutionary_based.DE.OriginalDE:>>>Problem: P, Epoch: 102, Current best: 600.0, Global best: 600.0, Runtime: 0.01543 seconds\n",
            "INFO:mealpy.evolutionary_based.DE.OriginalDE:>>>Problem: P, Epoch: 103, Current best: 600.0, Global best: 600.0, Runtime: 0.01549 seconds\n",
            "INFO:mealpy.evolutionary_based.DE.OriginalDE:>>>Problem: P, Epoch: 104, Current best: 600.0, Global best: 600.0, Runtime: 0.01854 seconds\n",
            "INFO:mealpy.evolutionary_based.DE.OriginalDE:>>>Problem: P, Epoch: 105, Current best: 600.0, Global best: 600.0, Runtime: 0.01567 seconds\n",
            "INFO:mealpy.evolutionary_based.DE.OriginalDE:>>>Problem: P, Epoch: 106, Current best: 600.0, Global best: 600.0, Runtime: 0.01612 seconds\n",
            "INFO:mealpy.evolutionary_based.DE.OriginalDE:>>>Problem: P, Epoch: 107, Current best: 600.0, Global best: 600.0, Runtime: 0.01537 seconds\n",
            "INFO:mealpy.evolutionary_based.DE.OriginalDE:>>>Problem: P, Epoch: 108, Current best: 600.0, Global best: 600.0, Runtime: 0.01544 seconds\n",
            "INFO:mealpy.evolutionary_based.DE.OriginalDE:>>>Problem: P, Epoch: 109, Current best: 600.0, Global best: 600.0, Runtime: 0.01569 seconds\n",
            "INFO:mealpy.evolutionary_based.DE.OriginalDE:>>>Problem: P, Epoch: 110, Current best: 600.0, Global best: 600.0, Runtime: 0.01827 seconds\n",
            "INFO:mealpy.evolutionary_based.DE.OriginalDE:>>>Problem: P, Epoch: 111, Current best: 600.0, Global best: 600.0, Runtime: 0.02122 seconds\n",
            "INFO:mealpy.evolutionary_based.DE.OriginalDE:>>>Problem: P, Epoch: 112, Current best: 600.0, Global best: 600.0, Runtime: 0.02254 seconds\n",
            "INFO:mealpy.evolutionary_based.DE.OriginalDE:>>>Problem: P, Epoch: 113, Current best: 600.0, Global best: 600.0, Runtime: 0.02131 seconds\n",
            "INFO:mealpy.evolutionary_based.DE.OriginalDE:>>>Problem: P, Epoch: 114, Current best: 600.0, Global best: 600.0, Runtime: 0.01858 seconds\n",
            "INFO:mealpy.evolutionary_based.DE.OriginalDE:>>>Problem: P, Epoch: 115, Current best: 600.0, Global best: 600.0, Runtime: 0.01978 seconds\n",
            "INFO:mealpy.evolutionary_based.DE.OriginalDE:>>>Problem: P, Epoch: 116, Current best: 600.0, Global best: 600.0, Runtime: 0.01886 seconds\n",
            "INFO:mealpy.evolutionary_based.DE.OriginalDE:>>>Problem: P, Epoch: 117, Current best: 600.0, Global best: 600.0, Runtime: 0.02002 seconds\n",
            "INFO:mealpy.evolutionary_based.DE.OriginalDE:>>>Problem: P, Epoch: 118, Current best: 600.0, Global best: 600.0, Runtime: 0.02604 seconds\n",
            "INFO:mealpy.evolutionary_based.DE.OriginalDE:>>>Problem: P, Epoch: 119, Current best: 600.0, Global best: 600.0, Runtime: 0.02934 seconds\n",
            "INFO:mealpy.evolutionary_based.DE.OriginalDE:>>>Problem: P, Epoch: 120, Current best: 600.0, Global best: 600.0, Runtime: 0.02409 seconds\n",
            "INFO:mealpy.evolutionary_based.DE.OriginalDE:>>>Problem: P, Epoch: 121, Current best: 600.0, Global best: 600.0, Runtime: 0.02024 seconds\n",
            "INFO:mealpy.evolutionary_based.DE.OriginalDE:>>>Problem: P, Epoch: 122, Current best: 600.0, Global best: 600.0, Runtime: 0.02362 seconds\n",
            "INFO:mealpy.evolutionary_based.DE.OriginalDE:>>>Problem: P, Epoch: 123, Current best: 600.0, Global best: 600.0, Runtime: 0.02158 seconds\n",
            "INFO:mealpy.evolutionary_based.DE.OriginalDE:>>>Problem: P, Epoch: 124, Current best: 600.0, Global best: 600.0, Runtime: 0.01724 seconds\n",
            "INFO:mealpy.evolutionary_based.DE.OriginalDE:>>>Problem: P, Epoch: 125, Current best: 600.0, Global best: 600.0, Runtime: 0.01362 seconds\n",
            "INFO:mealpy.evolutionary_based.DE.OriginalDE:>>>Problem: P, Epoch: 126, Current best: 600.0, Global best: 600.0, Runtime: 0.01465 seconds\n",
            "INFO:mealpy.evolutionary_based.DE.OriginalDE:>>>Problem: P, Epoch: 127, Current best: 600.0, Global best: 600.0, Runtime: 0.01438 seconds\n",
            "INFO:mealpy.evolutionary_based.DE.OriginalDE:>>>Problem: P, Epoch: 128, Current best: 600.0, Global best: 600.0, Runtime: 0.01475 seconds\n",
            "INFO:mealpy.evolutionary_based.DE.OriginalDE:>>>Problem: P, Epoch: 129, Current best: 600.0, Global best: 600.0, Runtime: 0.01369 seconds\n",
            "INFO:mealpy.evolutionary_based.DE.OriginalDE:>>>Problem: P, Epoch: 130, Current best: 600.0, Global best: 600.0, Runtime: 0.02300 seconds\n",
            "INFO:mealpy.evolutionary_based.DE.OriginalDE:>>>Problem: P, Epoch: 131, Current best: 600.0, Global best: 600.0, Runtime: 0.01648 seconds\n",
            "INFO:mealpy.evolutionary_based.DE.OriginalDE:>>>Problem: P, Epoch: 132, Current best: 600.0, Global best: 600.0, Runtime: 0.01504 seconds\n",
            "INFO:mealpy.evolutionary_based.DE.OriginalDE:>>>Problem: P, Epoch: 133, Current best: 600.0, Global best: 600.0, Runtime: 0.01340 seconds\n",
            "INFO:mealpy.evolutionary_based.DE.OriginalDE:>>>Problem: P, Epoch: 134, Current best: 600.0, Global best: 600.0, Runtime: 0.01516 seconds\n",
            "INFO:mealpy.evolutionary_based.DE.OriginalDE:>>>Problem: P, Epoch: 135, Current best: 600.0, Global best: 600.0, Runtime: 0.01840 seconds\n",
            "INFO:mealpy.evolutionary_based.DE.OriginalDE:>>>Problem: P, Epoch: 136, Current best: 600.0, Global best: 600.0, Runtime: 0.01582 seconds\n",
            "INFO:mealpy.evolutionary_based.DE.OriginalDE:>>>Problem: P, Epoch: 137, Current best: 600.0, Global best: 600.0, Runtime: 0.01474 seconds\n",
            "INFO:mealpy.evolutionary_based.DE.OriginalDE:>>>Problem: P, Epoch: 138, Current best: 600.0, Global best: 600.0, Runtime: 0.01537 seconds\n",
            "INFO:mealpy.evolutionary_based.DE.OriginalDE:>>>Problem: P, Epoch: 139, Current best: 600.0, Global best: 600.0, Runtime: 0.01508 seconds\n",
            "INFO:mealpy.evolutionary_based.DE.OriginalDE:>>>Problem: P, Epoch: 140, Current best: 600.0, Global best: 600.0, Runtime: 0.01653 seconds\n",
            "INFO:mealpy.evolutionary_based.DE.OriginalDE:>>>Problem: P, Epoch: 141, Current best: 600.0, Global best: 600.0, Runtime: 0.01526 seconds\n",
            "INFO:mealpy.evolutionary_based.DE.OriginalDE:>>>Problem: P, Epoch: 142, Current best: 600.0, Global best: 600.0, Runtime: 0.01584 seconds\n",
            "INFO:mealpy.evolutionary_based.DE.OriginalDE:>>>Problem: P, Epoch: 143, Current best: 600.0, Global best: 600.0, Runtime: 0.01557 seconds\n",
            "INFO:mealpy.evolutionary_based.DE.OriginalDE:>>>Problem: P, Epoch: 144, Current best: 600.0, Global best: 600.0, Runtime: 0.01528 seconds\n",
            "INFO:mealpy.evolutionary_based.DE.OriginalDE:>>>Problem: P, Epoch: 145, Current best: 600.0, Global best: 600.0, Runtime: 0.01604 seconds\n",
            "INFO:mealpy.evolutionary_based.DE.OriginalDE:>>>Problem: P, Epoch: 146, Current best: 600.0, Global best: 600.0, Runtime: 0.01530 seconds\n",
            "INFO:mealpy.evolutionary_based.DE.OriginalDE:>>>Problem: P, Epoch: 147, Current best: 600.0, Global best: 600.0, Runtime: 0.01938 seconds\n",
            "INFO:mealpy.evolutionary_based.DE.OriginalDE:>>>Problem: P, Epoch: 148, Current best: 600.0, Global best: 600.0, Runtime: 0.01836 seconds\n",
            "INFO:mealpy.evolutionary_based.DE.OriginalDE:>>>Problem: P, Epoch: 149, Current best: 600.0, Global best: 600.0, Runtime: 0.01423 seconds\n",
            "INFO:mealpy.evolutionary_based.DE.OriginalDE:>>>Problem: P, Epoch: 150, Current best: 600.0, Global best: 600.0, Runtime: 0.01634 seconds\n",
            "INFO:mealpy.evolutionary_based.DE.OriginalDE:>>>Problem: P, Epoch: 151, Current best: 600.0, Global best: 600.0, Runtime: 0.01755 seconds\n",
            "INFO:mealpy.evolutionary_based.DE.OriginalDE:>>>Problem: P, Epoch: 152, Current best: 600.0, Global best: 600.0, Runtime: 0.01365 seconds\n",
            "INFO:mealpy.evolutionary_based.DE.OriginalDE:>>>Problem: P, Epoch: 153, Current best: 600.0, Global best: 600.0, Runtime: 0.01537 seconds\n",
            "INFO:mealpy.evolutionary_based.DE.OriginalDE:>>>Problem: P, Epoch: 154, Current best: 600.0, Global best: 600.0, Runtime: 0.01497 seconds\n",
            "INFO:mealpy.evolutionary_based.DE.OriginalDE:>>>Problem: P, Epoch: 155, Current best: 600.0, Global best: 600.0, Runtime: 0.01472 seconds\n",
            "INFO:mealpy.evolutionary_based.DE.OriginalDE:>>>Problem: P, Epoch: 156, Current best: 600.0, Global best: 600.0, Runtime: 0.01417 seconds\n",
            "INFO:mealpy.evolutionary_based.DE.OriginalDE:>>>Problem: P, Epoch: 157, Current best: 600.0, Global best: 600.0, Runtime: 0.01607 seconds\n",
            "INFO:mealpy.evolutionary_based.DE.OriginalDE:>>>Problem: P, Epoch: 158, Current best: 600.0, Global best: 600.0, Runtime: 0.01813 seconds\n",
            "INFO:mealpy.evolutionary_based.DE.OriginalDE:>>>Problem: P, Epoch: 159, Current best: 600.0, Global best: 600.0, Runtime: 0.01818 seconds\n",
            "INFO:mealpy.evolutionary_based.DE.OriginalDE:>>>Problem: P, Epoch: 160, Current best: 600.0, Global best: 600.0, Runtime: 0.02165 seconds\n",
            "INFO:mealpy.evolutionary_based.DE.OriginalDE:>>>Problem: P, Epoch: 161, Current best: 600.0, Global best: 600.0, Runtime: 0.15666 seconds\n",
            "INFO:mealpy.evolutionary_based.DE.OriginalDE:>>>Problem: P, Epoch: 162, Current best: 600.0, Global best: 600.0, Runtime: 0.01886 seconds\n",
            "INFO:mealpy.evolutionary_based.DE.OriginalDE:>>>Problem: P, Epoch: 163, Current best: 600.0, Global best: 600.0, Runtime: 0.01438 seconds\n",
            "INFO:mealpy.evolutionary_based.DE.OriginalDE:>>>Problem: P, Epoch: 164, Current best: 600.0, Global best: 600.0, Runtime: 0.01534 seconds\n",
            "INFO:mealpy.evolutionary_based.DE.OriginalDE:>>>Problem: P, Epoch: 165, Current best: 600.0, Global best: 600.0, Runtime: 0.01468 seconds\n",
            "INFO:mealpy.evolutionary_based.DE.OriginalDE:>>>Problem: P, Epoch: 166, Current best: 600.0, Global best: 600.0, Runtime: 0.01455 seconds\n",
            "INFO:mealpy.evolutionary_based.DE.OriginalDE:>>>Problem: P, Epoch: 167, Current best: 600.0, Global best: 600.0, Runtime: 0.01492 seconds\n",
            "INFO:mealpy.evolutionary_based.DE.OriginalDE:>>>Problem: P, Epoch: 168, Current best: 600.0, Global best: 600.0, Runtime: 0.01435 seconds\n",
            "INFO:mealpy.evolutionary_based.DE.OriginalDE:>>>Problem: P, Epoch: 169, Current best: 600.0, Global best: 600.0, Runtime: 0.01767 seconds\n",
            "INFO:mealpy.evolutionary_based.DE.OriginalDE:>>>Problem: P, Epoch: 170, Current best: 600.0, Global best: 600.0, Runtime: 0.02198 seconds\n",
            "INFO:mealpy.evolutionary_based.DE.OriginalDE:>>>Problem: P, Epoch: 171, Current best: 600.0, Global best: 600.0, Runtime: 0.01575 seconds\n",
            "INFO:mealpy.evolutionary_based.DE.OriginalDE:>>>Problem: P, Epoch: 172, Current best: 600.0, Global best: 600.0, Runtime: 0.01621 seconds\n",
            "INFO:mealpy.evolutionary_based.DE.OriginalDE:>>>Problem: P, Epoch: 173, Current best: 600.0, Global best: 600.0, Runtime: 0.01627 seconds\n",
            "INFO:mealpy.evolutionary_based.DE.OriginalDE:>>>Problem: P, Epoch: 174, Current best: 600.0, Global best: 600.0, Runtime: 0.01359 seconds\n",
            "INFO:mealpy.evolutionary_based.DE.OriginalDE:>>>Problem: P, Epoch: 175, Current best: 600.0, Global best: 600.0, Runtime: 0.01495 seconds\n",
            "INFO:mealpy.evolutionary_based.DE.OriginalDE:>>>Problem: P, Epoch: 176, Current best: 600.0, Global best: 600.0, Runtime: 0.01839 seconds\n",
            "INFO:mealpy.evolutionary_based.DE.OriginalDE:>>>Problem: P, Epoch: 177, Current best: 600.0, Global best: 600.0, Runtime: 0.02522 seconds\n",
            "INFO:mealpy.evolutionary_based.DE.OriginalDE:>>>Problem: P, Epoch: 178, Current best: 600.0, Global best: 600.0, Runtime: 0.01569 seconds\n",
            "INFO:mealpy.evolutionary_based.DE.OriginalDE:>>>Problem: P, Epoch: 179, Current best: 600.0, Global best: 600.0, Runtime: 0.01491 seconds\n",
            "INFO:mealpy.evolutionary_based.DE.OriginalDE:>>>Problem: P, Epoch: 180, Current best: 600.0, Global best: 600.0, Runtime: 0.01706 seconds\n",
            "INFO:mealpy.evolutionary_based.DE.OriginalDE:>>>Problem: P, Epoch: 181, Current best: 600.0, Global best: 600.0, Runtime: 0.01422 seconds\n",
            "INFO:mealpy.evolutionary_based.DE.OriginalDE:>>>Problem: P, Epoch: 182, Current best: 600.0, Global best: 600.0, Runtime: 0.01501 seconds\n",
            "INFO:mealpy.evolutionary_based.DE.OriginalDE:>>>Problem: P, Epoch: 183, Current best: 600.0, Global best: 600.0, Runtime: 0.01555 seconds\n",
            "INFO:mealpy.evolutionary_based.DE.OriginalDE:>>>Problem: P, Epoch: 184, Current best: 600.0, Global best: 600.0, Runtime: 0.01548 seconds\n",
            "INFO:mealpy.evolutionary_based.DE.OriginalDE:>>>Problem: P, Epoch: 185, Current best: 600.0, Global best: 600.0, Runtime: 0.01547 seconds\n",
            "INFO:mealpy.evolutionary_based.DE.OriginalDE:>>>Problem: P, Epoch: 186, Current best: 600.0, Global best: 600.0, Runtime: 0.01496 seconds\n",
            "INFO:mealpy.evolutionary_based.DE.OriginalDE:>>>Problem: P, Epoch: 187, Current best: 600.0, Global best: 600.0, Runtime: 0.01452 seconds\n",
            "INFO:mealpy.evolutionary_based.DE.OriginalDE:>>>Problem: P, Epoch: 188, Current best: 600.0, Global best: 600.0, Runtime: 0.01463 seconds\n",
            "INFO:mealpy.evolutionary_based.DE.OriginalDE:>>>Problem: P, Epoch: 189, Current best: 600.0, Global best: 600.0, Runtime: 0.01447 seconds\n",
            "INFO:mealpy.evolutionary_based.DE.OriginalDE:>>>Problem: P, Epoch: 190, Current best: 600.0, Global best: 600.0, Runtime: 0.01603 seconds\n",
            "INFO:mealpy.evolutionary_based.DE.OriginalDE:>>>Problem: P, Epoch: 191, Current best: 600.0, Global best: 600.0, Runtime: 0.01528 seconds\n",
            "INFO:mealpy.evolutionary_based.DE.OriginalDE:>>>Problem: P, Epoch: 192, Current best: 600.0, Global best: 600.0, Runtime: 0.01742 seconds\n",
            "INFO:mealpy.evolutionary_based.DE.OriginalDE:>>>Problem: P, Epoch: 193, Current best: 600.0, Global best: 600.0, Runtime: 0.01618 seconds\n",
            "INFO:mealpy.evolutionary_based.DE.OriginalDE:>>>Problem: P, Epoch: 194, Current best: 600.0, Global best: 600.0, Runtime: 0.01666 seconds\n",
            "INFO:mealpy.evolutionary_based.DE.OriginalDE:>>>Problem: P, Epoch: 195, Current best: 600.0, Global best: 600.0, Runtime: 0.01665 seconds\n",
            "INFO:mealpy.evolutionary_based.DE.OriginalDE:>>>Problem: P, Epoch: 196, Current best: 600.0, Global best: 600.0, Runtime: 0.01932 seconds\n",
            "INFO:mealpy.evolutionary_based.DE.OriginalDE:>>>Problem: P, Epoch: 197, Current best: 600.0, Global best: 600.0, Runtime: 0.02123 seconds\n",
            "INFO:mealpy.evolutionary_based.DE.OriginalDE:>>>Problem: P, Epoch: 198, Current best: 600.0, Global best: 600.0, Runtime: 0.01776 seconds\n",
            "INFO:mealpy.evolutionary_based.DE.OriginalDE:>>>Problem: P, Epoch: 199, Current best: 600.0, Global best: 600.0, Runtime: 0.01455 seconds\n",
            "INFO:mealpy.evolutionary_based.DE.OriginalDE:>>>Problem: P, Epoch: 200, Current best: 600.0, Global best: 600.0, Runtime: 0.01410 seconds\n",
            "INFO:mealpy.evolutionary_based.DE.OriginalDE:>>>Problem: P, Epoch: 201, Current best: 600.0, Global best: 600.0, Runtime: 0.01413 seconds\n",
            "INFO:mealpy.evolutionary_based.DE.OriginalDE:>>>Problem: P, Epoch: 202, Current best: 600.0, Global best: 600.0, Runtime: 0.01910 seconds\n",
            "INFO:mealpy.evolutionary_based.DE.OriginalDE:>>>Problem: P, Epoch: 203, Current best: 600.0, Global best: 600.0, Runtime: 0.02184 seconds\n",
            "INFO:mealpy.evolutionary_based.DE.OriginalDE:>>>Problem: P, Epoch: 204, Current best: 600.0, Global best: 600.0, Runtime: 0.02115 seconds\n",
            "INFO:mealpy.evolutionary_based.DE.OriginalDE:>>>Problem: P, Epoch: 205, Current best: 600.0, Global best: 600.0, Runtime: 0.01926 seconds\n",
            "INFO:mealpy.evolutionary_based.DE.OriginalDE:>>>Problem: P, Epoch: 206, Current best: 600.0, Global best: 600.0, Runtime: 0.02189 seconds\n",
            "INFO:mealpy.evolutionary_based.DE.OriginalDE:>>>Problem: P, Epoch: 207, Current best: 600.0, Global best: 600.0, Runtime: 0.02249 seconds\n",
            "INFO:mealpy.evolutionary_based.DE.OriginalDE:>>>Problem: P, Epoch: 208, Current best: 600.0, Global best: 600.0, Runtime: 0.02074 seconds\n",
            "INFO:mealpy.evolutionary_based.DE.OriginalDE:>>>Problem: P, Epoch: 209, Current best: 600.0, Global best: 600.0, Runtime: 0.02324 seconds\n",
            "INFO:mealpy.evolutionary_based.DE.OriginalDE:>>>Problem: P, Epoch: 210, Current best: 600.0, Global best: 600.0, Runtime: 0.02205 seconds\n",
            "INFO:mealpy.evolutionary_based.DE.OriginalDE:>>>Problem: P, Epoch: 211, Current best: 600.0, Global best: 600.0, Runtime: 0.02144 seconds\n",
            "INFO:mealpy.evolutionary_based.DE.OriginalDE:>>>Problem: P, Epoch: 212, Current best: 600.0, Global best: 600.0, Runtime: 0.02366 seconds\n",
            "INFO:mealpy.evolutionary_based.DE.OriginalDE:>>>Problem: P, Epoch: 213, Current best: 600.0, Global best: 600.0, Runtime: 0.01750 seconds\n",
            "INFO:mealpy.evolutionary_based.DE.OriginalDE:>>>Problem: P, Epoch: 214, Current best: 600.0, Global best: 600.0, Runtime: 0.01509 seconds\n",
            "INFO:mealpy.evolutionary_based.DE.OriginalDE:>>>Problem: P, Epoch: 215, Current best: 600.0, Global best: 600.0, Runtime: 0.01572 seconds\n",
            "INFO:mealpy.evolutionary_based.DE.OriginalDE:>>>Problem: P, Epoch: 216, Current best: 600.0, Global best: 600.0, Runtime: 0.01562 seconds\n",
            "INFO:mealpy.evolutionary_based.DE.OriginalDE:>>>Problem: P, Epoch: 217, Current best: 600.0, Global best: 600.0, Runtime: 0.01566 seconds\n",
            "INFO:mealpy.evolutionary_based.DE.OriginalDE:>>>Problem: P, Epoch: 218, Current best: 600.0, Global best: 600.0, Runtime: 0.01634 seconds\n",
            "INFO:mealpy.evolutionary_based.DE.OriginalDE:>>>Problem: P, Epoch: 219, Current best: 600.0, Global best: 600.0, Runtime: 0.01512 seconds\n",
            "INFO:mealpy.evolutionary_based.DE.OriginalDE:>>>Problem: P, Epoch: 220, Current best: 600.0, Global best: 600.0, Runtime: 0.02024 seconds\n",
            "INFO:mealpy.evolutionary_based.DE.OriginalDE:>>>Problem: P, Epoch: 221, Current best: 600.0, Global best: 600.0, Runtime: 0.02032 seconds\n",
            "INFO:mealpy.evolutionary_based.DE.OriginalDE:>>>Problem: P, Epoch: 222, Current best: 600.0, Global best: 600.0, Runtime: 0.01702 seconds\n",
            "INFO:mealpy.evolutionary_based.DE.OriginalDE:>>>Problem: P, Epoch: 223, Current best: 600.0, Global best: 600.0, Runtime: 0.01427 seconds\n",
            "INFO:mealpy.evolutionary_based.DE.OriginalDE:>>>Problem: P, Epoch: 224, Current best: 600.0, Global best: 600.0, Runtime: 0.01879 seconds\n",
            "INFO:mealpy.evolutionary_based.DE.OriginalDE:>>>Problem: P, Epoch: 225, Current best: 600.0, Global best: 600.0, Runtime: 0.01465 seconds\n",
            "INFO:mealpy.evolutionary_based.DE.OriginalDE:>>>Problem: P, Epoch: 226, Current best: 600.0, Global best: 600.0, Runtime: 0.01505 seconds\n",
            "INFO:mealpy.evolutionary_based.DE.OriginalDE:>>>Problem: P, Epoch: 227, Current best: 600.0, Global best: 600.0, Runtime: 0.01566 seconds\n",
            "INFO:mealpy.evolutionary_based.DE.OriginalDE:>>>Problem: P, Epoch: 228, Current best: 600.0, Global best: 600.0, Runtime: 0.01544 seconds\n",
            "INFO:mealpy.evolutionary_based.DE.OriginalDE:>>>Problem: P, Epoch: 229, Current best: 600.0, Global best: 600.0, Runtime: 0.01715 seconds\n",
            "INFO:mealpy.evolutionary_based.DE.OriginalDE:>>>Problem: P, Epoch: 230, Current best: 600.0, Global best: 600.0, Runtime: 0.01504 seconds\n",
            "INFO:mealpy.evolutionary_based.DE.OriginalDE:>>>Problem: P, Epoch: 231, Current best: 600.0, Global best: 600.0, Runtime: 0.01632 seconds\n",
            "INFO:mealpy.evolutionary_based.DE.OriginalDE:>>>Problem: P, Epoch: 232, Current best: 600.0, Global best: 600.0, Runtime: 0.01606 seconds\n",
            "INFO:mealpy.evolutionary_based.DE.OriginalDE:>>>Problem: P, Epoch: 233, Current best: 600.0, Global best: 600.0, Runtime: 0.01648 seconds\n",
            "INFO:mealpy.evolutionary_based.DE.OriginalDE:>>>Problem: P, Epoch: 234, Current best: 600.0, Global best: 600.0, Runtime: 0.01626 seconds\n",
            "INFO:mealpy.evolutionary_based.DE.OriginalDE:>>>Problem: P, Epoch: 235, Current best: 600.0, Global best: 600.0, Runtime: 0.01618 seconds\n",
            "INFO:mealpy.evolutionary_based.DE.OriginalDE:>>>Problem: P, Epoch: 236, Current best: 600.0, Global best: 600.0, Runtime: 0.01626 seconds\n",
            "INFO:mealpy.evolutionary_based.DE.OriginalDE:>>>Problem: P, Epoch: 237, Current best: 600.0, Global best: 600.0, Runtime: 0.01529 seconds\n",
            "INFO:mealpy.evolutionary_based.DE.OriginalDE:>>>Problem: P, Epoch: 238, Current best: 600.0, Global best: 600.0, Runtime: 0.01565 seconds\n",
            "INFO:mealpy.evolutionary_based.DE.OriginalDE:>>>Problem: P, Epoch: 239, Current best: 600.0, Global best: 600.0, Runtime: 0.02317 seconds\n",
            "INFO:mealpy.evolutionary_based.DE.OriginalDE:>>>Problem: P, Epoch: 240, Current best: 600.0, Global best: 600.0, Runtime: 0.01556 seconds\n",
            "INFO:mealpy.evolutionary_based.DE.OriginalDE:>>>Problem: P, Epoch: 241, Current best: 600.0, Global best: 600.0, Runtime: 0.01511 seconds\n",
            "INFO:mealpy.evolutionary_based.DE.OriginalDE:>>>Problem: P, Epoch: 242, Current best: 600.0, Global best: 600.0, Runtime: 0.01581 seconds\n",
            "INFO:mealpy.evolutionary_based.DE.OriginalDE:>>>Problem: P, Epoch: 243, Current best: 600.0, Global best: 600.0, Runtime: 0.01562 seconds\n",
            "INFO:mealpy.evolutionary_based.DE.OriginalDE:>>>Problem: P, Epoch: 244, Current best: 600.0, Global best: 600.0, Runtime: 0.01769 seconds\n",
            "INFO:mealpy.evolutionary_based.DE.OriginalDE:>>>Problem: P, Epoch: 245, Current best: 600.0, Global best: 600.0, Runtime: 0.01542 seconds\n",
            "INFO:mealpy.evolutionary_based.DE.OriginalDE:>>>Problem: P, Epoch: 246, Current best: 600.0, Global best: 600.0, Runtime: 0.01897 seconds\n",
            "INFO:mealpy.evolutionary_based.DE.OriginalDE:>>>Problem: P, Epoch: 247, Current best: 600.0, Global best: 600.0, Runtime: 0.01522 seconds\n",
            "INFO:mealpy.evolutionary_based.DE.OriginalDE:>>>Problem: P, Epoch: 248, Current best: 600.0, Global best: 600.0, Runtime: 0.01483 seconds\n",
            "INFO:mealpy.evolutionary_based.DE.OriginalDE:>>>Problem: P, Epoch: 249, Current best: 600.0, Global best: 600.0, Runtime: 0.01532 seconds\n",
            "INFO:mealpy.evolutionary_based.DE.OriginalDE:>>>Problem: P, Epoch: 250, Current best: 600.0, Global best: 600.0, Runtime: 0.01856 seconds\n",
            "INFO:mealpy.evolutionary_based.DE.OriginalDE:>>>Problem: P, Epoch: 251, Current best: 600.0, Global best: 600.0, Runtime: 0.02362 seconds\n",
            "INFO:mealpy.evolutionary_based.DE.OriginalDE:>>>Problem: P, Epoch: 252, Current best: 600.0, Global best: 600.0, Runtime: 0.02164 seconds\n",
            "INFO:mealpy.evolutionary_based.DE.OriginalDE:>>>Problem: P, Epoch: 253, Current best: 600.0, Global best: 600.0, Runtime: 0.02211 seconds\n",
            "INFO:mealpy.evolutionary_based.DE.OriginalDE:>>>Problem: P, Epoch: 254, Current best: 600.0, Global best: 600.0, Runtime: 0.02178 seconds\n",
            "INFO:mealpy.evolutionary_based.DE.OriginalDE:>>>Problem: P, Epoch: 255, Current best: 600.0, Global best: 600.0, Runtime: 0.02195 seconds\n",
            "INFO:mealpy.evolutionary_based.DE.OriginalDE:>>>Problem: P, Epoch: 256, Current best: 600.0, Global best: 600.0, Runtime: 0.02318 seconds\n",
            "INFO:mealpy.evolutionary_based.DE.OriginalDE:>>>Problem: P, Epoch: 257, Current best: 600.0, Global best: 600.0, Runtime: 0.02139 seconds\n",
            "INFO:mealpy.evolutionary_based.DE.OriginalDE:>>>Problem: P, Epoch: 258, Current best: 600.0, Global best: 600.0, Runtime: 0.01655 seconds\n",
            "INFO:mealpy.evolutionary_based.DE.OriginalDE:>>>Problem: P, Epoch: 259, Current best: 600.0, Global best: 600.0, Runtime: 0.01481 seconds\n",
            "INFO:mealpy.evolutionary_based.DE.OriginalDE:>>>Problem: P, Epoch: 260, Current best: 600.0, Global best: 600.0, Runtime: 0.01724 seconds\n",
            "INFO:mealpy.evolutionary_based.DE.OriginalDE:>>>Problem: P, Epoch: 261, Current best: 600.0, Global best: 600.0, Runtime: 0.01503 seconds\n",
            "INFO:mealpy.evolutionary_based.DE.OriginalDE:>>>Problem: P, Epoch: 262, Current best: 600.0, Global best: 600.0, Runtime: 0.01466 seconds\n",
            "INFO:mealpy.evolutionary_based.DE.OriginalDE:>>>Problem: P, Epoch: 263, Current best: 600.0, Global best: 600.0, Runtime: 0.01716 seconds\n",
            "INFO:mealpy.evolutionary_based.DE.OriginalDE:>>>Problem: P, Epoch: 264, Current best: 600.0, Global best: 600.0, Runtime: 0.01514 seconds\n",
            "INFO:mealpy.evolutionary_based.DE.OriginalDE:>>>Problem: P, Epoch: 265, Current best: 600.0, Global best: 600.0, Runtime: 0.01527 seconds\n",
            "INFO:mealpy.evolutionary_based.DE.OriginalDE:>>>Problem: P, Epoch: 266, Current best: 600.0, Global best: 600.0, Runtime: 0.01336 seconds\n",
            "INFO:mealpy.evolutionary_based.DE.OriginalDE:>>>Problem: P, Epoch: 267, Current best: 600.0, Global best: 600.0, Runtime: 0.01694 seconds\n",
            "INFO:mealpy.evolutionary_based.DE.OriginalDE:>>>Problem: P, Epoch: 268, Current best: 600.0, Global best: 600.0, Runtime: 0.01573 seconds\n",
            "INFO:mealpy.evolutionary_based.DE.OriginalDE:>>>Problem: P, Epoch: 269, Current best: 600.0, Global best: 600.0, Runtime: 0.01548 seconds\n",
            "INFO:mealpy.evolutionary_based.DE.OriginalDE:>>>Problem: P, Epoch: 270, Current best: 600.0, Global best: 600.0, Runtime: 0.01467 seconds\n",
            "INFO:mealpy.evolutionary_based.DE.OriginalDE:>>>Problem: P, Epoch: 271, Current best: 600.0, Global best: 600.0, Runtime: 0.02782 seconds\n",
            "INFO:mealpy.evolutionary_based.DE.OriginalDE:>>>Problem: P, Epoch: 272, Current best: 600.0, Global best: 600.0, Runtime: 0.01636 seconds\n",
            "INFO:mealpy.evolutionary_based.DE.OriginalDE:>>>Problem: P, Epoch: 273, Current best: 600.0, Global best: 600.0, Runtime: 0.01499 seconds\n",
            "INFO:mealpy.evolutionary_based.DE.OriginalDE:>>>Problem: P, Epoch: 274, Current best: 600.0, Global best: 600.0, Runtime: 0.01542 seconds\n",
            "INFO:mealpy.evolutionary_based.DE.OriginalDE:>>>Problem: P, Epoch: 275, Current best: 600.0, Global best: 600.0, Runtime: 0.01940 seconds\n",
            "INFO:mealpy.evolutionary_based.DE.OriginalDE:>>>Problem: P, Epoch: 276, Current best: 600.0, Global best: 600.0, Runtime: 0.01518 seconds\n",
            "INFO:mealpy.evolutionary_based.DE.OriginalDE:>>>Problem: P, Epoch: 277, Current best: 600.0, Global best: 600.0, Runtime: 0.01638 seconds\n",
            "INFO:mealpy.evolutionary_based.DE.OriginalDE:>>>Problem: P, Epoch: 278, Current best: 600.0, Global best: 600.0, Runtime: 0.01840 seconds\n",
            "INFO:mealpy.evolutionary_based.DE.OriginalDE:>>>Problem: P, Epoch: 279, Current best: 600.0, Global best: 600.0, Runtime: 0.01957 seconds\n",
            "INFO:mealpy.evolutionary_based.DE.OriginalDE:>>>Problem: P, Epoch: 280, Current best: 600.0, Global best: 600.0, Runtime: 0.01618 seconds\n",
            "INFO:mealpy.evolutionary_based.DE.OriginalDE:>>>Problem: P, Epoch: 281, Current best: 600.0, Global best: 600.0, Runtime: 0.01494 seconds\n",
            "INFO:mealpy.evolutionary_based.DE.OriginalDE:>>>Problem: P, Epoch: 282, Current best: 600.0, Global best: 600.0, Runtime: 0.01690 seconds\n",
            "INFO:mealpy.evolutionary_based.DE.OriginalDE:>>>Problem: P, Epoch: 283, Current best: 600.0, Global best: 600.0, Runtime: 0.01448 seconds\n",
            "INFO:mealpy.evolutionary_based.DE.OriginalDE:>>>Problem: P, Epoch: 284, Current best: 600.0, Global best: 600.0, Runtime: 0.01496 seconds\n",
            "INFO:mealpy.evolutionary_based.DE.OriginalDE:>>>Problem: P, Epoch: 285, Current best: 600.0, Global best: 600.0, Runtime: 0.02436 seconds\n",
            "INFO:mealpy.evolutionary_based.DE.OriginalDE:>>>Problem: P, Epoch: 286, Current best: 600.0, Global best: 600.0, Runtime: 0.03425 seconds\n",
            "INFO:mealpy.evolutionary_based.DE.OriginalDE:>>>Problem: P, Epoch: 287, Current best: 600.0, Global best: 600.0, Runtime: 0.06052 seconds\n",
            "INFO:mealpy.evolutionary_based.DE.OriginalDE:>>>Problem: P, Epoch: 288, Current best: 600.0, Global best: 600.0, Runtime: 0.04132 seconds\n",
            "INFO:mealpy.evolutionary_based.DE.OriginalDE:>>>Problem: P, Epoch: 289, Current best: 600.0, Global best: 600.0, Runtime: 0.02246 seconds\n",
            "INFO:mealpy.evolutionary_based.DE.OriginalDE:>>>Problem: P, Epoch: 290, Current best: 600.0, Global best: 600.0, Runtime: 0.03032 seconds\n",
            "INFO:mealpy.evolutionary_based.DE.OriginalDE:>>>Problem: P, Epoch: 291, Current best: 600.0, Global best: 600.0, Runtime: 0.02365 seconds\n",
            "INFO:mealpy.evolutionary_based.DE.OriginalDE:>>>Problem: P, Epoch: 292, Current best: 600.0, Global best: 600.0, Runtime: 0.05997 seconds\n",
            "INFO:mealpy.evolutionary_based.DE.OriginalDE:>>>Problem: P, Epoch: 293, Current best: 600.0, Global best: 600.0, Runtime: 0.03430 seconds\n",
            "INFO:mealpy.evolutionary_based.DE.OriginalDE:>>>Problem: P, Epoch: 294, Current best: 600.0, Global best: 600.0, Runtime: 0.03848 seconds\n",
            "INFO:mealpy.evolutionary_based.DE.OriginalDE:>>>Problem: P, Epoch: 295, Current best: 600.0, Global best: 600.0, Runtime: 0.03762 seconds\n",
            "INFO:mealpy.evolutionary_based.DE.OriginalDE:>>>Problem: P, Epoch: 296, Current best: 600.0, Global best: 600.0, Runtime: 0.02301 seconds\n",
            "INFO:mealpy.evolutionary_based.DE.OriginalDE:>>>Problem: P, Epoch: 297, Current best: 600.0, Global best: 600.0, Runtime: 0.02259 seconds\n",
            "INFO:mealpy.evolutionary_based.DE.OriginalDE:>>>Problem: P, Epoch: 298, Current best: 600.0, Global best: 600.0, Runtime: 0.02464 seconds\n",
            "INFO:mealpy.evolutionary_based.DE.OriginalDE:>>>Problem: P, Epoch: 299, Current best: 600.0, Global best: 600.0, Runtime: 0.02457 seconds\n",
            "INFO:mealpy.evolutionary_based.DE.OriginalDE:>>>Problem: P, Epoch: 300, Current best: 600.0, Global best: 600.0, Runtime: 0.02267 seconds\n",
            "INFO:mealpy.evolutionary_based.DE.OriginalDE:>>>Problem: P, Epoch: 301, Current best: 600.0, Global best: 600.0, Runtime: 0.02367 seconds\n",
            "INFO:mealpy.evolutionary_based.DE.OriginalDE:>>>Problem: P, Epoch: 302, Current best: 600.0, Global best: 600.0, Runtime: 0.03165 seconds\n",
            "INFO:mealpy.evolutionary_based.DE.OriginalDE:>>>Problem: P, Epoch: 303, Current best: 600.0, Global best: 600.0, Runtime: 0.03228 seconds\n",
            "INFO:mealpy.evolutionary_based.DE.OriginalDE:>>>Problem: P, Epoch: 304, Current best: 600.0, Global best: 600.0, Runtime: 0.02770 seconds\n",
            "INFO:mealpy.evolutionary_based.DE.OriginalDE:>>>Problem: P, Epoch: 305, Current best: 600.0, Global best: 600.0, Runtime: 0.02592 seconds\n",
            "INFO:mealpy.evolutionary_based.DE.OriginalDE:>>>Problem: P, Epoch: 306, Current best: 600.0, Global best: 600.0, Runtime: 0.02342 seconds\n",
            "INFO:mealpy.evolutionary_based.DE.OriginalDE:>>>Problem: P, Epoch: 307, Current best: 600.0, Global best: 600.0, Runtime: 0.02312 seconds\n",
            "INFO:mealpy.evolutionary_based.DE.OriginalDE:>>>Problem: P, Epoch: 308, Current best: 600.0, Global best: 600.0, Runtime: 0.02261 seconds\n",
            "INFO:mealpy.evolutionary_based.DE.OriginalDE:>>>Problem: P, Epoch: 309, Current best: 600.0, Global best: 600.0, Runtime: 0.02198 seconds\n",
            "INFO:mealpy.evolutionary_based.DE.OriginalDE:>>>Problem: P, Epoch: 310, Current best: 600.0, Global best: 600.0, Runtime: 0.02218 seconds\n",
            "INFO:mealpy.evolutionary_based.DE.OriginalDE:>>>Problem: P, Epoch: 311, Current best: 600.0, Global best: 600.0, Runtime: 0.02982 seconds\n",
            "INFO:mealpy.evolutionary_based.DE.OriginalDE:>>>Problem: P, Epoch: 312, Current best: 600.0, Global best: 600.0, Runtime: 0.04377 seconds\n",
            "INFO:mealpy.evolutionary_based.DE.OriginalDE:>>>Problem: P, Epoch: 313, Current best: 600.0, Global best: 600.0, Runtime: 0.35235 seconds\n",
            "INFO:mealpy.evolutionary_based.DE.OriginalDE:>>>Problem: P, Epoch: 314, Current best: 600.0, Global best: 600.0, Runtime: 0.04574 seconds\n",
            "INFO:mealpy.evolutionary_based.DE.OriginalDE:>>>Problem: P, Epoch: 315, Current best: 600.0, Global best: 600.0, Runtime: 0.04663 seconds\n",
            "INFO:mealpy.evolutionary_based.DE.OriginalDE:>>>Problem: P, Epoch: 316, Current best: 600.0, Global best: 600.0, Runtime: 0.04466 seconds\n",
            "INFO:mealpy.evolutionary_based.DE.OriginalDE:>>>Problem: P, Epoch: 317, Current best: 600.0, Global best: 600.0, Runtime: 0.02235 seconds\n",
            "INFO:mealpy.evolutionary_based.DE.OriginalDE:>>>Problem: P, Epoch: 318, Current best: 600.0, Global best: 600.0, Runtime: 0.05831 seconds\n",
            "INFO:mealpy.evolutionary_based.DE.OriginalDE:>>>Problem: P, Epoch: 319, Current best: 600.0, Global best: 600.0, Runtime: 0.04392 seconds\n",
            "INFO:mealpy.evolutionary_based.DE.OriginalDE:>>>Problem: P, Epoch: 320, Current best: 600.0, Global best: 600.0, Runtime: 0.05509 seconds\n",
            "INFO:mealpy.evolutionary_based.DE.OriginalDE:>>>Problem: P, Epoch: 321, Current best: 600.0, Global best: 600.0, Runtime: 0.02639 seconds\n",
            "INFO:mealpy.evolutionary_based.DE.OriginalDE:>>>Problem: P, Epoch: 322, Current best: 600.0, Global best: 600.0, Runtime: 0.04784 seconds\n",
            "INFO:mealpy.evolutionary_based.DE.OriginalDE:>>>Problem: P, Epoch: 323, Current best: 600.0, Global best: 600.0, Runtime: 0.06526 seconds\n",
            "INFO:mealpy.evolutionary_based.DE.OriginalDE:>>>Problem: P, Epoch: 324, Current best: 600.0, Global best: 600.0, Runtime: 0.03191 seconds\n",
            "INFO:mealpy.evolutionary_based.DE.OriginalDE:>>>Problem: P, Epoch: 325, Current best: 600.0, Global best: 600.0, Runtime: 0.03696 seconds\n",
            "INFO:mealpy.evolutionary_based.DE.OriginalDE:>>>Problem: P, Epoch: 326, Current best: 600.0, Global best: 600.0, Runtime: 0.05302 seconds\n",
            "INFO:mealpy.evolutionary_based.DE.OriginalDE:>>>Problem: P, Epoch: 327, Current best: 600.0, Global best: 600.0, Runtime: 0.03561 seconds\n",
            "INFO:mealpy.evolutionary_based.DE.OriginalDE:>>>Problem: P, Epoch: 328, Current best: 600.0, Global best: 600.0, Runtime: 0.03264 seconds\n",
            "INFO:mealpy.evolutionary_based.DE.OriginalDE:>>>Problem: P, Epoch: 329, Current best: 600.0, Global best: 600.0, Runtime: 0.03671 seconds\n",
            "INFO:mealpy.evolutionary_based.DE.OriginalDE:>>>Problem: P, Epoch: 330, Current best: 600.0, Global best: 600.0, Runtime: 0.03179 seconds\n",
            "INFO:mealpy.evolutionary_based.DE.OriginalDE:>>>Problem: P, Epoch: 331, Current best: 600.0, Global best: 600.0, Runtime: 0.02593 seconds\n",
            "INFO:mealpy.evolutionary_based.DE.OriginalDE:>>>Problem: P, Epoch: 332, Current best: 600.0, Global best: 600.0, Runtime: 0.04117 seconds\n",
            "INFO:mealpy.evolutionary_based.DE.OriginalDE:>>>Problem: P, Epoch: 333, Current best: 600.0, Global best: 600.0, Runtime: 0.03053 seconds\n",
            "INFO:mealpy.evolutionary_based.DE.OriginalDE:>>>Problem: P, Epoch: 334, Current best: 600.0, Global best: 600.0, Runtime: 0.02957 seconds\n",
            "INFO:mealpy.evolutionary_based.DE.OriginalDE:>>>Problem: P, Epoch: 335, Current best: 600.0, Global best: 600.0, Runtime: 0.02396 seconds\n",
            "INFO:mealpy.evolutionary_based.DE.OriginalDE:>>>Problem: P, Epoch: 336, Current best: 600.0, Global best: 600.0, Runtime: 0.02279 seconds\n",
            "INFO:mealpy.evolutionary_based.DE.OriginalDE:>>>Problem: P, Epoch: 337, Current best: 600.0, Global best: 600.0, Runtime: 0.02357 seconds\n",
            "INFO:mealpy.evolutionary_based.DE.OriginalDE:>>>Problem: P, Epoch: 338, Current best: 600.0, Global best: 600.0, Runtime: 0.05209 seconds\n",
            "INFO:mealpy.evolutionary_based.DE.OriginalDE:>>>Problem: P, Epoch: 339, Current best: 600.0, Global best: 600.0, Runtime: 0.03148 seconds\n",
            "INFO:mealpy.evolutionary_based.DE.OriginalDE:>>>Problem: P, Epoch: 340, Current best: 600.0, Global best: 600.0, Runtime: 0.06610 seconds\n",
            "INFO:mealpy.evolutionary_based.DE.OriginalDE:>>>Problem: P, Epoch: 341, Current best: 600.0, Global best: 600.0, Runtime: 0.02831 seconds\n",
            "INFO:mealpy.evolutionary_based.DE.OriginalDE:>>>Problem: P, Epoch: 342, Current best: 600.0, Global best: 600.0, Runtime: 0.04630 seconds\n",
            "INFO:mealpy.evolutionary_based.DE.OriginalDE:>>>Problem: P, Epoch: 343, Current best: 600.0, Global best: 600.0, Runtime: 0.03387 seconds\n",
            "INFO:mealpy.evolutionary_based.DE.OriginalDE:>>>Problem: P, Epoch: 344, Current best: 600.0, Global best: 600.0, Runtime: 0.02560 seconds\n",
            "INFO:mealpy.evolutionary_based.DE.OriginalDE:>>>Problem: P, Epoch: 345, Current best: 600.0, Global best: 600.0, Runtime: 0.02319 seconds\n",
            "INFO:mealpy.evolutionary_based.DE.OriginalDE:>>>Problem: P, Epoch: 346, Current best: 600.0, Global best: 600.0, Runtime: 0.02348 seconds\n",
            "INFO:mealpy.evolutionary_based.DE.OriginalDE:>>>Problem: P, Epoch: 347, Current best: 600.0, Global best: 600.0, Runtime: 0.02145 seconds\n",
            "INFO:mealpy.evolutionary_based.DE.OriginalDE:>>>Problem: P, Epoch: 348, Current best: 600.0, Global best: 600.0, Runtime: 0.02228 seconds\n",
            "INFO:mealpy.evolutionary_based.DE.OriginalDE:>>>Problem: P, Epoch: 349, Current best: 600.0, Global best: 600.0, Runtime: 0.02146 seconds\n",
            "INFO:mealpy.evolutionary_based.DE.OriginalDE:>>>Problem: P, Epoch: 350, Current best: 600.0, Global best: 600.0, Runtime: 0.04673 seconds\n",
            "INFO:mealpy.evolutionary_based.DE.OriginalDE:>>>Problem: P, Epoch: 351, Current best: 600.0, Global best: 600.0, Runtime: 0.04774 seconds\n",
            "INFO:mealpy.evolutionary_based.DE.OriginalDE:>>>Problem: P, Epoch: 352, Current best: 600.0, Global best: 600.0, Runtime: 0.08522 seconds\n",
            "INFO:mealpy.evolutionary_based.DE.OriginalDE:>>>Problem: P, Epoch: 353, Current best: 600.0, Global best: 600.0, Runtime: 0.04787 seconds\n",
            "INFO:mealpy.evolutionary_based.DE.OriginalDE:>>>Problem: P, Epoch: 354, Current best: 600.0, Global best: 600.0, Runtime: 0.02304 seconds\n",
            "INFO:mealpy.evolutionary_based.DE.OriginalDE:>>>Problem: P, Epoch: 355, Current best: 600.0, Global best: 600.0, Runtime: 0.02792 seconds\n",
            "INFO:mealpy.evolutionary_based.DE.OriginalDE:>>>Problem: P, Epoch: 356, Current best: 600.0, Global best: 600.0, Runtime: 0.02403 seconds\n",
            "INFO:mealpy.evolutionary_based.DE.OriginalDE:>>>Problem: P, Epoch: 357, Current best: 600.0, Global best: 600.0, Runtime: 0.02847 seconds\n",
            "INFO:mealpy.evolutionary_based.DE.OriginalDE:>>>Problem: P, Epoch: 358, Current best: 600.0, Global best: 600.0, Runtime: 0.03948 seconds\n",
            "INFO:mealpy.evolutionary_based.DE.OriginalDE:>>>Problem: P, Epoch: 359, Current best: 600.0, Global best: 600.0, Runtime: 0.02638 seconds\n",
            "INFO:mealpy.evolutionary_based.DE.OriginalDE:>>>Problem: P, Epoch: 360, Current best: 600.0, Global best: 600.0, Runtime: 0.02455 seconds\n",
            "INFO:mealpy.evolutionary_based.DE.OriginalDE:>>>Problem: P, Epoch: 361, Current best: 600.0, Global best: 600.0, Runtime: 0.04283 seconds\n",
            "INFO:mealpy.evolutionary_based.DE.OriginalDE:>>>Problem: P, Epoch: 362, Current best: 600.0, Global best: 600.0, Runtime: 0.02601 seconds\n",
            "INFO:mealpy.evolutionary_based.DE.OriginalDE:>>>Problem: P, Epoch: 363, Current best: 600.0, Global best: 600.0, Runtime: 0.02188 seconds\n",
            "INFO:mealpy.evolutionary_based.DE.OriginalDE:>>>Problem: P, Epoch: 364, Current best: 600.0, Global best: 600.0, Runtime: 0.04049 seconds\n",
            "INFO:mealpy.evolutionary_based.DE.OriginalDE:>>>Problem: P, Epoch: 365, Current best: 600.0, Global best: 600.0, Runtime: 0.02117 seconds\n",
            "INFO:mealpy.evolutionary_based.DE.OriginalDE:>>>Problem: P, Epoch: 366, Current best: 600.0, Global best: 600.0, Runtime: 0.02810 seconds\n",
            "INFO:mealpy.evolutionary_based.DE.OriginalDE:>>>Problem: P, Epoch: 367, Current best: 600.0, Global best: 600.0, Runtime: 0.03595 seconds\n",
            "INFO:mealpy.evolutionary_based.DE.OriginalDE:>>>Problem: P, Epoch: 368, Current best: 600.0, Global best: 600.0, Runtime: 0.02701 seconds\n",
            "INFO:mealpy.evolutionary_based.DE.OriginalDE:>>>Problem: P, Epoch: 369, Current best: 600.0, Global best: 600.0, Runtime: 0.02327 seconds\n",
            "INFO:mealpy.evolutionary_based.DE.OriginalDE:>>>Problem: P, Epoch: 370, Current best: 600.0, Global best: 600.0, Runtime: 0.02331 seconds\n",
            "INFO:mealpy.evolutionary_based.DE.OriginalDE:>>>Problem: P, Epoch: 371, Current best: 600.0, Global best: 600.0, Runtime: 0.02414 seconds\n",
            "INFO:mealpy.evolutionary_based.DE.OriginalDE:>>>Problem: P, Epoch: 372, Current best: 600.0, Global best: 600.0, Runtime: 0.02856 seconds\n",
            "INFO:mealpy.evolutionary_based.DE.OriginalDE:>>>Problem: P, Epoch: 373, Current best: 600.0, Global best: 600.0, Runtime: 0.02894 seconds\n",
            "INFO:mealpy.evolutionary_based.DE.OriginalDE:>>>Problem: P, Epoch: 374, Current best: 600.0, Global best: 600.0, Runtime: 0.02966 seconds\n",
            "INFO:mealpy.evolutionary_based.DE.OriginalDE:>>>Problem: P, Epoch: 375, Current best: 600.0, Global best: 600.0, Runtime: 0.03424 seconds\n",
            "INFO:mealpy.evolutionary_based.DE.OriginalDE:>>>Problem: P, Epoch: 376, Current best: 600.0, Global best: 600.0, Runtime: 0.02123 seconds\n",
            "INFO:mealpy.evolutionary_based.DE.OriginalDE:>>>Problem: P, Epoch: 377, Current best: 600.0, Global best: 600.0, Runtime: 0.02020 seconds\n",
            "INFO:mealpy.evolutionary_based.DE.OriginalDE:>>>Problem: P, Epoch: 378, Current best: 600.0, Global best: 600.0, Runtime: 0.01930 seconds\n",
            "INFO:mealpy.evolutionary_based.DE.OriginalDE:>>>Problem: P, Epoch: 379, Current best: 600.0, Global best: 600.0, Runtime: 0.01917 seconds\n",
            "INFO:mealpy.evolutionary_based.DE.OriginalDE:>>>Problem: P, Epoch: 380, Current best: 600.0, Global best: 600.0, Runtime: 0.02168 seconds\n",
            "INFO:mealpy.evolutionary_based.DE.OriginalDE:>>>Problem: P, Epoch: 381, Current best: 600.0, Global best: 600.0, Runtime: 0.01458 seconds\n",
            "INFO:mealpy.evolutionary_based.DE.OriginalDE:>>>Problem: P, Epoch: 382, Current best: 600.0, Global best: 600.0, Runtime: 0.01661 seconds\n",
            "INFO:mealpy.evolutionary_based.DE.OriginalDE:>>>Problem: P, Epoch: 383, Current best: 600.0, Global best: 600.0, Runtime: 0.01500 seconds\n",
            "INFO:mealpy.evolutionary_based.DE.OriginalDE:>>>Problem: P, Epoch: 384, Current best: 600.0, Global best: 600.0, Runtime: 0.01426 seconds\n",
            "INFO:mealpy.evolutionary_based.DE.OriginalDE:>>>Problem: P, Epoch: 385, Current best: 600.0, Global best: 600.0, Runtime: 0.01548 seconds\n",
            "INFO:mealpy.evolutionary_based.DE.OriginalDE:>>>Problem: P, Epoch: 386, Current best: 600.0, Global best: 600.0, Runtime: 0.01679 seconds\n",
            "INFO:mealpy.evolutionary_based.DE.OriginalDE:>>>Problem: P, Epoch: 387, Current best: 600.0, Global best: 600.0, Runtime: 0.01604 seconds\n",
            "INFO:mealpy.evolutionary_based.DE.OriginalDE:>>>Problem: P, Epoch: 388, Current best: 600.0, Global best: 600.0, Runtime: 0.01566 seconds\n",
            "INFO:mealpy.evolutionary_based.DE.OriginalDE:>>>Problem: P, Epoch: 389, Current best: 600.0, Global best: 600.0, Runtime: 0.02057 seconds\n",
            "INFO:mealpy.evolutionary_based.DE.OriginalDE:>>>Problem: P, Epoch: 390, Current best: 600.0, Global best: 600.0, Runtime: 0.01547 seconds\n",
            "INFO:mealpy.evolutionary_based.DE.OriginalDE:>>>Problem: P, Epoch: 391, Current best: 600.0, Global best: 600.0, Runtime: 0.01684 seconds\n",
            "INFO:mealpy.evolutionary_based.DE.OriginalDE:>>>Problem: P, Epoch: 392, Current best: 600.0, Global best: 600.0, Runtime: 0.01628 seconds\n",
            "INFO:mealpy.evolutionary_based.DE.OriginalDE:>>>Problem: P, Epoch: 393, Current best: 600.0, Global best: 600.0, Runtime: 0.01762 seconds\n",
            "INFO:mealpy.evolutionary_based.DE.OriginalDE:>>>Problem: P, Epoch: 394, Current best: 600.0, Global best: 600.0, Runtime: 0.01538 seconds\n",
            "INFO:mealpy.evolutionary_based.DE.OriginalDE:>>>Problem: P, Epoch: 395, Current best: 600.0, Global best: 600.0, Runtime: 0.01546 seconds\n",
            "INFO:mealpy.evolutionary_based.DE.OriginalDE:>>>Problem: P, Epoch: 396, Current best: 600.0, Global best: 600.0, Runtime: 0.01609 seconds\n",
            "INFO:mealpy.evolutionary_based.DE.OriginalDE:>>>Problem: P, Epoch: 397, Current best: 600.0, Global best: 600.0, Runtime: 0.01605 seconds\n",
            "INFO:mealpy.evolutionary_based.DE.OriginalDE:>>>Problem: P, Epoch: 398, Current best: 600.0, Global best: 600.0, Runtime: 0.01665 seconds\n",
            "INFO:mealpy.evolutionary_based.DE.OriginalDE:>>>Problem: P, Epoch: 399, Current best: 600.0, Global best: 600.0, Runtime: 0.01876 seconds\n",
            "INFO:mealpy.evolutionary_based.DE.OriginalDE:>>>Problem: P, Epoch: 400, Current best: 600.0, Global best: 600.0, Runtime: 0.01637 seconds\n",
            "INFO:mealpy.evolutionary_based.DE.OriginalDE:>>>Problem: P, Epoch: 401, Current best: 600.0, Global best: 600.0, Runtime: 0.01558 seconds\n",
            "INFO:mealpy.evolutionary_based.DE.OriginalDE:>>>Problem: P, Epoch: 402, Current best: 600.0, Global best: 600.0, Runtime: 0.01582 seconds\n",
            "INFO:mealpy.evolutionary_based.DE.OriginalDE:>>>Problem: P, Epoch: 403, Current best: 600.0, Global best: 600.0, Runtime: 0.01511 seconds\n",
            "INFO:mealpy.evolutionary_based.DE.OriginalDE:>>>Problem: P, Epoch: 404, Current best: 600.0, Global best: 600.0, Runtime: 0.01562 seconds\n",
            "INFO:mealpy.evolutionary_based.DE.OriginalDE:>>>Problem: P, Epoch: 405, Current best: 600.0, Global best: 600.0, Runtime: 0.01553 seconds\n",
            "INFO:mealpy.evolutionary_based.DE.OriginalDE:>>>Problem: P, Epoch: 406, Current best: 600.0, Global best: 600.0, Runtime: 0.01701 seconds\n",
            "INFO:mealpy.evolutionary_based.DE.OriginalDE:>>>Problem: P, Epoch: 407, Current best: 600.0, Global best: 600.0, Runtime: 0.01674 seconds\n",
            "INFO:mealpy.evolutionary_based.DE.OriginalDE:>>>Problem: P, Epoch: 408, Current best: 600.0, Global best: 600.0, Runtime: 0.02801 seconds\n",
            "INFO:mealpy.evolutionary_based.DE.OriginalDE:>>>Problem: P, Epoch: 409, Current best: 600.0, Global best: 600.0, Runtime: 0.01626 seconds\n",
            "INFO:mealpy.evolutionary_based.DE.OriginalDE:>>>Problem: P, Epoch: 410, Current best: 600.0, Global best: 600.0, Runtime: 0.02555 seconds\n",
            "INFO:mealpy.evolutionary_based.DE.OriginalDE:>>>Problem: P, Epoch: 411, Current best: 600.0, Global best: 600.0, Runtime: 0.01774 seconds\n",
            "INFO:mealpy.evolutionary_based.DE.OriginalDE:>>>Problem: P, Epoch: 412, Current best: 600.0, Global best: 600.0, Runtime: 0.01482 seconds\n",
            "INFO:mealpy.evolutionary_based.DE.OriginalDE:>>>Problem: P, Epoch: 413, Current best: 600.0, Global best: 600.0, Runtime: 0.01479 seconds\n",
            "INFO:mealpy.evolutionary_based.DE.OriginalDE:>>>Problem: P, Epoch: 414, Current best: 600.0, Global best: 600.0, Runtime: 0.01508 seconds\n",
            "INFO:mealpy.evolutionary_based.DE.OriginalDE:>>>Problem: P, Epoch: 415, Current best: 600.0, Global best: 600.0, Runtime: 0.01480 seconds\n",
            "INFO:mealpy.evolutionary_based.DE.OriginalDE:>>>Problem: P, Epoch: 416, Current best: 600.0, Global best: 600.0, Runtime: 0.01555 seconds\n",
            "INFO:mealpy.evolutionary_based.DE.OriginalDE:>>>Problem: P, Epoch: 417, Current best: 600.0, Global best: 600.0, Runtime: 0.01526 seconds\n",
            "INFO:mealpy.evolutionary_based.DE.OriginalDE:>>>Problem: P, Epoch: 418, Current best: 600.0, Global best: 600.0, Runtime: 0.01611 seconds\n",
            "INFO:mealpy.evolutionary_based.DE.OriginalDE:>>>Problem: P, Epoch: 419, Current best: 600.0, Global best: 600.0, Runtime: 0.01707 seconds\n",
            "INFO:mealpy.evolutionary_based.DE.OriginalDE:>>>Problem: P, Epoch: 420, Current best: 600.0, Global best: 600.0, Runtime: 0.01539 seconds\n",
            "INFO:mealpy.evolutionary_based.DE.OriginalDE:>>>Problem: P, Epoch: 421, Current best: 600.0, Global best: 600.0, Runtime: 0.01615 seconds\n",
            "INFO:mealpy.evolutionary_based.DE.OriginalDE:>>>Problem: P, Epoch: 422, Current best: 600.0, Global best: 600.0, Runtime: 0.01574 seconds\n",
            "INFO:mealpy.evolutionary_based.DE.OriginalDE:>>>Problem: P, Epoch: 423, Current best: 600.0, Global best: 600.0, Runtime: 0.01513 seconds\n",
            "INFO:mealpy.evolutionary_based.DE.OriginalDE:>>>Problem: P, Epoch: 424, Current best: 600.0, Global best: 600.0, Runtime: 0.01498 seconds\n",
            "INFO:mealpy.evolutionary_based.DE.OriginalDE:>>>Problem: P, Epoch: 425, Current best: 600.0, Global best: 600.0, Runtime: 0.01733 seconds\n",
            "INFO:mealpy.evolutionary_based.DE.OriginalDE:>>>Problem: P, Epoch: 426, Current best: 600.0, Global best: 600.0, Runtime: 0.02108 seconds\n",
            "INFO:mealpy.evolutionary_based.DE.OriginalDE:>>>Problem: P, Epoch: 427, Current best: 600.0, Global best: 600.0, Runtime: 0.01982 seconds\n",
            "INFO:mealpy.evolutionary_based.DE.OriginalDE:>>>Problem: P, Epoch: 428, Current best: 600.0, Global best: 600.0, Runtime: 0.02069 seconds\n",
            "INFO:mealpy.evolutionary_based.DE.OriginalDE:>>>Problem: P, Epoch: 429, Current best: 600.0, Global best: 600.0, Runtime: 0.02165 seconds\n",
            "INFO:mealpy.evolutionary_based.DE.OriginalDE:>>>Problem: P, Epoch: 430, Current best: 600.0, Global best: 600.0, Runtime: 0.02422 seconds\n",
            "INFO:mealpy.evolutionary_based.DE.OriginalDE:>>>Problem: P, Epoch: 431, Current best: 600.0, Global best: 600.0, Runtime: 0.02740 seconds\n",
            "INFO:mealpy.evolutionary_based.DE.OriginalDE:>>>Problem: P, Epoch: 432, Current best: 600.0, Global best: 600.0, Runtime: 0.02750 seconds\n",
            "INFO:mealpy.evolutionary_based.DE.OriginalDE:>>>Problem: P, Epoch: 433, Current best: 600.0, Global best: 600.0, Runtime: 0.03211 seconds\n",
            "INFO:mealpy.evolutionary_based.DE.OriginalDE:>>>Problem: P, Epoch: 434, Current best: 600.0, Global best: 600.0, Runtime: 0.02579 seconds\n",
            "INFO:mealpy.evolutionary_based.DE.OriginalDE:>>>Problem: P, Epoch: 435, Current best: 600.0, Global best: 600.0, Runtime: 0.03114 seconds\n",
            "INFO:mealpy.evolutionary_based.DE.OriginalDE:>>>Problem: P, Epoch: 436, Current best: 600.0, Global best: 600.0, Runtime: 0.02760 seconds\n",
            "INFO:mealpy.evolutionary_based.DE.OriginalDE:>>>Problem: P, Epoch: 437, Current best: 600.0, Global best: 600.0, Runtime: 0.02497 seconds\n",
            "INFO:mealpy.evolutionary_based.DE.OriginalDE:>>>Problem: P, Epoch: 438, Current best: 600.0, Global best: 600.0, Runtime: 0.02247 seconds\n",
            "INFO:mealpy.evolutionary_based.DE.OriginalDE:>>>Problem: P, Epoch: 439, Current best: 600.0, Global best: 600.0, Runtime: 0.02145 seconds\n",
            "INFO:mealpy.evolutionary_based.DE.OriginalDE:>>>Problem: P, Epoch: 440, Current best: 600.0, Global best: 600.0, Runtime: 0.03223 seconds\n",
            "INFO:mealpy.evolutionary_based.DE.OriginalDE:>>>Problem: P, Epoch: 441, Current best: 600.0, Global best: 600.0, Runtime: 0.03302 seconds\n",
            "INFO:mealpy.evolutionary_based.DE.OriginalDE:>>>Problem: P, Epoch: 442, Current best: 600.0, Global best: 600.0, Runtime: 0.01972 seconds\n",
            "INFO:mealpy.evolutionary_based.DE.OriginalDE:>>>Problem: P, Epoch: 443, Current best: 600.0, Global best: 600.0, Runtime: 0.01950 seconds\n",
            "INFO:mealpy.evolutionary_based.DE.OriginalDE:>>>Problem: P, Epoch: 444, Current best: 600.0, Global best: 600.0, Runtime: 0.02054 seconds\n",
            "INFO:mealpy.evolutionary_based.DE.OriginalDE:>>>Problem: P, Epoch: 445, Current best: 600.0, Global best: 600.0, Runtime: 0.02757 seconds\n",
            "INFO:mealpy.evolutionary_based.DE.OriginalDE:>>>Problem: P, Epoch: 446, Current best: 600.0, Global best: 600.0, Runtime: 0.02886 seconds\n",
            "INFO:mealpy.evolutionary_based.DE.OriginalDE:>>>Problem: P, Epoch: 447, Current best: 600.0, Global best: 600.0, Runtime: 0.02029 seconds\n",
            "INFO:mealpy.evolutionary_based.DE.OriginalDE:>>>Problem: P, Epoch: 448, Current best: 600.0, Global best: 600.0, Runtime: 0.02450 seconds\n",
            "INFO:mealpy.evolutionary_based.DE.OriginalDE:>>>Problem: P, Epoch: 449, Current best: 600.0, Global best: 600.0, Runtime: 0.02266 seconds\n",
            "INFO:mealpy.evolutionary_based.DE.OriginalDE:>>>Problem: P, Epoch: 450, Current best: 600.0, Global best: 600.0, Runtime: 0.02603 seconds\n",
            "INFO:mealpy.evolutionary_based.DE.OriginalDE:>>>Problem: P, Epoch: 451, Current best: 600.0, Global best: 600.0, Runtime: 0.03073 seconds\n",
            "INFO:mealpy.evolutionary_based.DE.OriginalDE:>>>Problem: P, Epoch: 452, Current best: 600.0, Global best: 600.0, Runtime: 0.01893 seconds\n",
            "INFO:mealpy.evolutionary_based.DE.OriginalDE:>>>Problem: P, Epoch: 453, Current best: 600.0, Global best: 600.0, Runtime: 0.01883 seconds\n",
            "INFO:mealpy.evolutionary_based.DE.OriginalDE:>>>Problem: P, Epoch: 454, Current best: 600.0, Global best: 600.0, Runtime: 0.01788 seconds\n",
            "INFO:mealpy.evolutionary_based.DE.OriginalDE:>>>Problem: P, Epoch: 455, Current best: 600.0, Global best: 600.0, Runtime: 0.02539 seconds\n",
            "INFO:mealpy.evolutionary_based.DE.OriginalDE:>>>Problem: P, Epoch: 456, Current best: 600.0, Global best: 600.0, Runtime: 0.01989 seconds\n",
            "INFO:mealpy.evolutionary_based.DE.OriginalDE:>>>Problem: P, Epoch: 457, Current best: 600.0, Global best: 600.0, Runtime: 0.02224 seconds\n",
            "INFO:mealpy.evolutionary_based.DE.OriginalDE:>>>Problem: P, Epoch: 458, Current best: 600.0, Global best: 600.0, Runtime: 0.02197 seconds\n",
            "INFO:mealpy.evolutionary_based.DE.OriginalDE:>>>Problem: P, Epoch: 459, Current best: 600.0, Global best: 600.0, Runtime: 0.02685 seconds\n",
            "INFO:mealpy.evolutionary_based.DE.OriginalDE:>>>Problem: P, Epoch: 460, Current best: 600.0, Global best: 600.0, Runtime: 0.02501 seconds\n",
            "INFO:mealpy.evolutionary_based.DE.OriginalDE:>>>Problem: P, Epoch: 461, Current best: 600.0, Global best: 600.0, Runtime: 0.02502 seconds\n",
            "INFO:mealpy.evolutionary_based.DE.OriginalDE:>>>Problem: P, Epoch: 462, Current best: 600.0, Global best: 600.0, Runtime: 0.02776 seconds\n",
            "INFO:mealpy.evolutionary_based.DE.OriginalDE:>>>Problem: P, Epoch: 463, Current best: 600.0, Global best: 600.0, Runtime: 0.02589 seconds\n",
            "INFO:mealpy.evolutionary_based.DE.OriginalDE:>>>Problem: P, Epoch: 464, Current best: 600.0, Global best: 600.0, Runtime: 0.02253 seconds\n",
            "INFO:mealpy.evolutionary_based.DE.OriginalDE:>>>Problem: P, Epoch: 465, Current best: 600.0, Global best: 600.0, Runtime: 0.02436 seconds\n",
            "INFO:mealpy.evolutionary_based.DE.OriginalDE:>>>Problem: P, Epoch: 466, Current best: 600.0, Global best: 600.0, Runtime: 0.02366 seconds\n",
            "INFO:mealpy.evolutionary_based.DE.OriginalDE:>>>Problem: P, Epoch: 467, Current best: 600.0, Global best: 600.0, Runtime: 0.02052 seconds\n",
            "INFO:mealpy.evolutionary_based.DE.OriginalDE:>>>Problem: P, Epoch: 468, Current best: 600.0, Global best: 600.0, Runtime: 0.01884 seconds\n",
            "INFO:mealpy.evolutionary_based.DE.OriginalDE:>>>Problem: P, Epoch: 469, Current best: 600.0, Global best: 600.0, Runtime: 0.02036 seconds\n",
            "INFO:mealpy.evolutionary_based.DE.OriginalDE:>>>Problem: P, Epoch: 470, Current best: 600.0, Global best: 600.0, Runtime: 0.01866 seconds\n",
            "INFO:mealpy.evolutionary_based.DE.OriginalDE:>>>Problem: P, Epoch: 471, Current best: 600.0, Global best: 600.0, Runtime: 0.02083 seconds\n",
            "INFO:mealpy.evolutionary_based.DE.OriginalDE:>>>Problem: P, Epoch: 472, Current best: 600.0, Global best: 600.0, Runtime: 0.01932 seconds\n",
            "INFO:mealpy.evolutionary_based.DE.OriginalDE:>>>Problem: P, Epoch: 473, Current best: 600.0, Global best: 600.0, Runtime: 0.02302 seconds\n",
            "INFO:mealpy.evolutionary_based.DE.OriginalDE:>>>Problem: P, Epoch: 474, Current best: 600.0, Global best: 600.0, Runtime: 0.01869 seconds\n",
            "INFO:mealpy.evolutionary_based.DE.OriginalDE:>>>Problem: P, Epoch: 475, Current best: 600.0, Global best: 600.0, Runtime: 0.02173 seconds\n",
            "INFO:mealpy.evolutionary_based.DE.OriginalDE:>>>Problem: P, Epoch: 476, Current best: 600.0, Global best: 600.0, Runtime: 0.01905 seconds\n",
            "INFO:mealpy.evolutionary_based.DE.OriginalDE:>>>Problem: P, Epoch: 477, Current best: 600.0, Global best: 600.0, Runtime: 0.02231 seconds\n",
            "INFO:mealpy.evolutionary_based.DE.OriginalDE:>>>Problem: P, Epoch: 478, Current best: 600.0, Global best: 600.0, Runtime: 0.02468 seconds\n",
            "INFO:mealpy.evolutionary_based.DE.OriginalDE:>>>Problem: P, Epoch: 479, Current best: 600.0, Global best: 600.0, Runtime: 0.02070 seconds\n",
            "INFO:mealpy.evolutionary_based.DE.OriginalDE:>>>Problem: P, Epoch: 480, Current best: 600.0, Global best: 600.0, Runtime: 0.02148 seconds\n",
            "INFO:mealpy.evolutionary_based.DE.OriginalDE:>>>Problem: P, Epoch: 481, Current best: 600.0, Global best: 600.0, Runtime: 0.02193 seconds\n",
            "INFO:mealpy.evolutionary_based.DE.OriginalDE:>>>Problem: P, Epoch: 482, Current best: 600.0, Global best: 600.0, Runtime: 0.02336 seconds\n",
            "INFO:mealpy.evolutionary_based.DE.OriginalDE:>>>Problem: P, Epoch: 483, Current best: 600.0, Global best: 600.0, Runtime: 0.02394 seconds\n",
            "INFO:mealpy.evolutionary_based.DE.OriginalDE:>>>Problem: P, Epoch: 484, Current best: 600.0, Global best: 600.0, Runtime: 0.02711 seconds\n",
            "INFO:mealpy.evolutionary_based.DE.OriginalDE:>>>Problem: P, Epoch: 485, Current best: 600.0, Global best: 600.0, Runtime: 0.02231 seconds\n",
            "INFO:mealpy.evolutionary_based.DE.OriginalDE:>>>Problem: P, Epoch: 486, Current best: 600.0, Global best: 600.0, Runtime: 0.02294 seconds\n",
            "INFO:mealpy.evolutionary_based.DE.OriginalDE:>>>Problem: P, Epoch: 487, Current best: 600.0, Global best: 600.0, Runtime: 0.02470 seconds\n",
            "INFO:mealpy.evolutionary_based.DE.OriginalDE:>>>Problem: P, Epoch: 488, Current best: 600.0, Global best: 600.0, Runtime: 0.02896 seconds\n",
            "INFO:mealpy.evolutionary_based.DE.OriginalDE:>>>Problem: P, Epoch: 489, Current best: 600.0, Global best: 600.0, Runtime: 0.03132 seconds\n",
            "INFO:mealpy.evolutionary_based.DE.OriginalDE:>>>Problem: P, Epoch: 490, Current best: 600.0, Global best: 600.0, Runtime: 0.23253 seconds\n",
            "INFO:mealpy.evolutionary_based.DE.OriginalDE:>>>Problem: P, Epoch: 491, Current best: 600.0, Global best: 600.0, Runtime: 0.02482 seconds\n",
            "INFO:mealpy.evolutionary_based.DE.OriginalDE:>>>Problem: P, Epoch: 492, Current best: 600.0, Global best: 600.0, Runtime: 0.03209 seconds\n",
            "INFO:mealpy.evolutionary_based.DE.OriginalDE:>>>Problem: P, Epoch: 493, Current best: 600.0, Global best: 600.0, Runtime: 0.02281 seconds\n",
            "INFO:mealpy.evolutionary_based.DE.OriginalDE:>>>Problem: P, Epoch: 494, Current best: 600.0, Global best: 600.0, Runtime: 0.02481 seconds\n",
            "INFO:mealpy.evolutionary_based.DE.OriginalDE:>>>Problem: P, Epoch: 495, Current best: 600.0, Global best: 600.0, Runtime: 0.02261 seconds\n",
            "INFO:mealpy.evolutionary_based.DE.OriginalDE:>>>Problem: P, Epoch: 496, Current best: 600.0, Global best: 600.0, Runtime: 0.01929 seconds\n",
            "INFO:mealpy.evolutionary_based.DE.OriginalDE:>>>Problem: P, Epoch: 497, Current best: 600.0, Global best: 600.0, Runtime: 0.02421 seconds\n",
            "INFO:mealpy.evolutionary_based.DE.OriginalDE:>>>Problem: P, Epoch: 498, Current best: 600.0, Global best: 600.0, Runtime: 0.02628 seconds\n",
            "INFO:mealpy.evolutionary_based.DE.OriginalDE:>>>Problem: P, Epoch: 499, Current best: 600.0, Global best: 600.0, Runtime: 0.02388 seconds\n",
            "INFO:mealpy.evolutionary_based.DE.OriginalDE:>>>Problem: P, Epoch: 500, Current best: 600.0, Global best: 600.0, Runtime: 0.02169 seconds\n"
          ]
        },
        {
          "output_type": "stream",
          "name": "stdout",
          "text": [
            "Best fitness: 600.0, Best solution: [ 4  5 11  3  9 10  6  7  1  8  2  0]\n"
          ]
        }
      ],
      "source": [
        "n = 12\n",
        "data = {\n",
        "    \"locationsDistance\": np.array([\n",
        "[0, 1, 2, 3, 1, 2, 3, 4, 2, 3, 4, 5],\n",
        "[1, 0, 1, 2, 2, 1, 2, 3, 3, 2, 3, 4],\n",
        "[2, 1, 0, 1, 3, 2, 1, 2, 4, 3, 2, 3],\n",
        "[3, 2, 1, 0, 4, 3, 2, 1, 5, 4, 3, 2],\n",
        "[1, 2, 3, 4, 0, 1, 2, 3, 1, 2, 3, 4],\n",
        "[2, 1, 2, 3, 1, 0, 1, 2, 2, 1, 2, 3],\n",
        "[3, 2, 1, 2, 2, 1, 0, 1, 3, 2, 1, 2],\n",
        "[4, 3, 2, 1, 3, 2, 1, 0, 4, 3, 2, 1],\n",
        "[2, 3, 4, 5, 1, 2, 3, 4, 0, 1, 2, 3],\n",
        "[3, 2, 3, 4, 2, 1, 2, 3, 1, 0, 1, 2],\n",
        "[4, 3, 2, 3, 3, 2, 1, 2, 2, 1, 0, 1],\n",
        "[5, 4, 3, 2, 4, 3, 2, 1, 3, 2, 1, 0]]\n",
        "    ),\n",
        "    \"facilitiesFlow\": np.array(\n",
        "[\n",
        "[0,  5,  2,  4,  1,  0,  0,  6,  2,  1,  1,  1],\n",
        "[5,  0,  3,  0,  2,  2,  2,  0,  4,  5,  0,  0],\n",
        "[2,  3,  0,  0,  0,  0,  0,  5,  5,  2,  2,  2],\n",
        "[4,  0,  0,  0,  5,  2,  2, 10,  0,  0,  5,  5],\n",
        "[1,  2,  0,  5,  0, 10,  0,  0,  0,  5,  1,  1],\n",
        "[0,  2,  0,  2, 10,  0,  5,  1,  1,  5,  4,  0],\n",
        "[0,  2,  0,  2,  0,  5,  0, 10,  5,  2,  3,  3],\n",
        "[6,  0,  5, 10,  0,  1, 10,  0,  0,  0,  5,  0],\n",
        "[2,  4,  5,  0,  0,  1,  5,  0,  0,  0, 10, 10],\n",
        "[1,  5,  2,  0,  5,  5,  2,  0,  0,  0,  5,  0],\n",
        "[1,  0,  2,  5,  1,  4,  3,  5, 10,  5,  0,  2],\n",
        "[1,  0,  2,  5,  1,  0,  3,  0, 10,  0,  2,  0]\n",
        "])\n",
        "}\n",
        "\n",
        "problem = QAP(bounds=PermutationVar(valid_set=list(range(n)), name=\"perm\"), minmax=\"min\", name=\"QAP\", data=data,  save_population=True)\n",
        "model =  DE.OriginalDE(epoch=500, pop_size=100)\n",
        "g_best = model.solve(problem)\n",
        "print(f\"Best fitness: {g_best.target.fitness}, Best solution: {g_best.solution}\")"
      ]
    },
    {
      "cell_type": "code",
      "execution_count": 12,
      "metadata": {
        "id": "0vVCTXKCfnXc"
      },
      "outputs": [],
      "source": [
        "model.history.save_global_objectives_chart(filename=\"hello1/goc\")\n",
        "model.history.save_local_objectives_chart(filename=\"hello1/loc\")\n",
        "\n",
        "model.history.save_global_best_fitness_chart(filename=\"hello1/gbfc\")\n",
        "model.history.save_local_best_fitness_chart(filename=\"hello1/lbfc\")\n",
        "\n",
        "model.history.save_runtime_chart(filename=\"hello1/rtc\")\n",
        "\n",
        "model.history.save_exploration_exploitation_chart(filename=\"hello1/eec\")\n",
        "\n",
        "model.history.save_diversity_chart(filename=\"hello1/dc\")\n",
        "\n",
        "model.history.save_trajectory_chart(list_agent_idx=[3, 5, 6, 7,], selected_dimensions=[3, 4], filename=\"hello1/tc\")"
      ]
    },
    {
      "cell_type": "markdown",
      "metadata": {
        "id": "O54JleHthK2d"
      },
      "source": [
        "# **Quantum Annealing (D-wave) & Variational Quantum Eigensolver**\n",
        "Quantum Annealing (QA) is a specialized approach to solve combinatorial optimization problems, and D-Wave quantum computers are designed to perform QA efficiently. The Quadratic Assignment Problem (QAP), being an NP-hard problem, is well-suited for exploration using quantum annealing due to its combinatorial nature.\n",
        "\n",
        "Variational Quantum Eigensolver (VQE) is a hybrid quantum-classical algorithm that combines quantum computation and classical optimization to find the minimum eigenvalue (ground state energy) of a given Hamiltonian. While initially developed for quantum chemistry problems, VQE has applications in solving combinatorial optimization problems like the Quadratic Assignment Problem (QAP)."
      ]
    },
    {
      "cell_type": "code",
      "execution_count": 13,
      "metadata": {
        "colab": {
          "base_uri": "https://localhost:8080/"
        },
        "id": "4TFJF5bVlNNf",
        "outputId": "69e1cb82-4ffe-4d1e-f6ef-2ac569a0d85f"
      },
      "outputs": [
        {
          "output_type": "stream",
          "name": "stdout",
          "text": [
            "Collecting qiskit\n",
            "  Downloading qiskit-1.3.1-cp39-abi3-manylinux_2_17_x86_64.manylinux2014_x86_64.whl.metadata (12 kB)\n",
            "Collecting rustworkx>=0.15.0 (from qiskit)\n",
            "  Downloading rustworkx-0.15.1-cp38-abi3-manylinux_2_17_x86_64.manylinux2014_x86_64.whl.metadata (9.9 kB)\n",
            "Requirement already satisfied: numpy<3,>=1.17 in /usr/local/lib/python3.10/dist-packages (from qiskit) (1.26.4)\n",
            "Requirement already satisfied: scipy>=1.5 in /usr/local/lib/python3.10/dist-packages (from qiskit) (1.13.1)\n",
            "Requirement already satisfied: sympy>=1.3 in /usr/local/lib/python3.10/dist-packages (from qiskit) (1.13.1)\n",
            "Collecting dill>=0.3 (from qiskit)\n",
            "  Downloading dill-0.3.9-py3-none-any.whl.metadata (10 kB)\n",
            "Requirement already satisfied: python-dateutil>=2.8.0 in /usr/local/lib/python3.10/dist-packages (from qiskit) (2.8.2)\n",
            "Collecting stevedore>=3.0.0 (from qiskit)\n",
            "  Downloading stevedore-5.4.0-py3-none-any.whl.metadata (2.3 kB)\n",
            "Requirement already satisfied: typing-extensions in /usr/local/lib/python3.10/dist-packages (from qiskit) (4.12.2)\n",
            "Collecting symengine<0.14,>=0.11 (from qiskit)\n",
            "  Downloading symengine-0.13.0-cp310-cp310-manylinux_2_17_x86_64.manylinux2014_x86_64.whl.metadata (1.2 kB)\n",
            "Requirement already satisfied: six>=1.5 in /usr/local/lib/python3.10/dist-packages (from python-dateutil>=2.8.0->qiskit) (1.17.0)\n",
            "Collecting pbr>=2.0.0 (from stevedore>=3.0.0->qiskit)\n",
            "  Downloading pbr-6.1.0-py2.py3-none-any.whl.metadata (3.4 kB)\n",
            "Requirement already satisfied: mpmath<1.4,>=1.1.0 in /usr/local/lib/python3.10/dist-packages (from sympy>=1.3->qiskit) (1.3.0)\n",
            "Downloading qiskit-1.3.1-cp39-abi3-manylinux_2_17_x86_64.manylinux2014_x86_64.whl (6.7 MB)\n",
            "\u001b[2K   \u001b[90m━━━━━━━━━━━━━━━━━━━━━━━━━━━━━━━━━━━━━━━━\u001b[0m \u001b[32m6.7/6.7 MB\u001b[0m \u001b[31m56.4 MB/s\u001b[0m eta \u001b[36m0:00:00\u001b[0m\n",
            "\u001b[?25hDownloading dill-0.3.9-py3-none-any.whl (119 kB)\n",
            "\u001b[2K   \u001b[90m━━━━━━━━━━━━━━━━━━━━━━━━━━━━━━━━━━━━━━━━\u001b[0m \u001b[32m119.4/119.4 kB\u001b[0m \u001b[31m8.4 MB/s\u001b[0m eta \u001b[36m0:00:00\u001b[0m\n",
            "\u001b[?25hDownloading rustworkx-0.15.1-cp38-abi3-manylinux_2_17_x86_64.manylinux2014_x86_64.whl (2.0 MB)\n",
            "\u001b[2K   \u001b[90m━━━━━━━━━━━━━━━━━━━━━━━━━━━━━━━━━━━━━━━━\u001b[0m \u001b[32m2.0/2.0 MB\u001b[0m \u001b[31m41.1 MB/s\u001b[0m eta \u001b[36m0:00:00\u001b[0m\n",
            "\u001b[?25hDownloading stevedore-5.4.0-py3-none-any.whl (49 kB)\n",
            "\u001b[2K   \u001b[90m━━━━━━━━━━━━━━━━━━━━━━━━━━━━━━━━━━━━━━━━\u001b[0m \u001b[32m49.5/49.5 kB\u001b[0m \u001b[31m3.8 MB/s\u001b[0m eta \u001b[36m0:00:00\u001b[0m\n",
            "\u001b[?25hDownloading symengine-0.13.0-cp310-cp310-manylinux_2_17_x86_64.manylinux2014_x86_64.whl (49.7 MB)\n",
            "\u001b[2K   \u001b[90m━━━━━━━━━━━━━━━━━━━━━━━━━━━━━━━━━━━━━━━━\u001b[0m \u001b[32m49.7/49.7 MB\u001b[0m \u001b[31m9.6 MB/s\u001b[0m eta \u001b[36m0:00:00\u001b[0m\n",
            "\u001b[?25hDownloading pbr-6.1.0-py2.py3-none-any.whl (108 kB)\n",
            "\u001b[2K   \u001b[90m━━━━━━━━━━━━━━━━━━━━━━━━━━━━━━━━━━━━━━━━\u001b[0m \u001b[32m108.5/108.5 kB\u001b[0m \u001b[31m8.5 MB/s\u001b[0m eta \u001b[36m0:00:00\u001b[0m\n",
            "\u001b[?25hInstalling collected packages: symengine, rustworkx, pbr, dill, stevedore, qiskit\n",
            "Successfully installed dill-0.3.9 pbr-6.1.0 qiskit-1.3.1 rustworkx-0.15.1 stevedore-5.4.0 symengine-0.13.0\n",
            "Collecting qiskit-optimization\n",
            "  Downloading qiskit_optimization-0.6.1-py3-none-any.whl.metadata (8.6 kB)\n",
            "Requirement already satisfied: qiskit>=0.44 in /usr/local/lib/python3.10/dist-packages (from qiskit-optimization) (1.3.1)\n",
            "Collecting qiskit-algorithms>=0.2.0 (from qiskit-optimization)\n",
            "  Downloading qiskit_algorithms-0.3.1-py3-none-any.whl.metadata (4.2 kB)\n",
            "Requirement already satisfied: scipy>=1.9.0 in /usr/local/lib/python3.10/dist-packages (from qiskit-optimization) (1.13.1)\n",
            "Requirement already satisfied: numpy>=1.17 in /usr/local/lib/python3.10/dist-packages (from qiskit-optimization) (1.26.4)\n",
            "Collecting docplex!=2.24.231,>=2.21.207 (from qiskit-optimization)\n",
            "  Downloading docplex-2.29.241.tar.gz (645 kB)\n",
            "\u001b[2K     \u001b[90m━━━━━━━━━━━━━━━━━━━━━━━━━━━━━━━━━━━━━━━━\u001b[0m \u001b[32m645.5/645.5 kB\u001b[0m \u001b[31m31.8 MB/s\u001b[0m eta \u001b[36m0:00:00\u001b[0m\n",
            "\u001b[?25h  Installing build dependencies ... \u001b[?25l\u001b[?25hdone\n",
            "  Getting requirements to build wheel ... \u001b[?25l\u001b[?25hdone\n",
            "  Installing backend dependencies ... \u001b[?25l\u001b[?25hdone\n",
            "  Preparing metadata (pyproject.toml) ... \u001b[?25l\u001b[?25hdone\n",
            "Requirement already satisfied: setuptools>=40.1.0 in /usr/local/lib/python3.10/dist-packages (from qiskit-optimization) (75.1.0)\n",
            "Requirement already satisfied: networkx>=2.6.3 in /usr/local/lib/python3.10/dist-packages (from qiskit-optimization) (3.4.2)\n",
            "Requirement already satisfied: six in /usr/local/lib/python3.10/dist-packages (from docplex!=2.24.231,>=2.21.207->qiskit-optimization) (1.17.0)\n",
            "Requirement already satisfied: rustworkx>=0.15.0 in /usr/local/lib/python3.10/dist-packages (from qiskit>=0.44->qiskit-optimization) (0.15.1)\n",
            "Requirement already satisfied: sympy>=1.3 in /usr/local/lib/python3.10/dist-packages (from qiskit>=0.44->qiskit-optimization) (1.13.1)\n",
            "Requirement already satisfied: dill>=0.3 in /usr/local/lib/python3.10/dist-packages (from qiskit>=0.44->qiskit-optimization) (0.3.9)\n",
            "Requirement already satisfied: python-dateutil>=2.8.0 in /usr/local/lib/python3.10/dist-packages (from qiskit>=0.44->qiskit-optimization) (2.8.2)\n",
            "Requirement already satisfied: stevedore>=3.0.0 in /usr/local/lib/python3.10/dist-packages (from qiskit>=0.44->qiskit-optimization) (5.4.0)\n",
            "Requirement already satisfied: typing-extensions in /usr/local/lib/python3.10/dist-packages (from qiskit>=0.44->qiskit-optimization) (4.12.2)\n",
            "Requirement already satisfied: symengine<0.14,>=0.11 in /usr/local/lib/python3.10/dist-packages (from qiskit>=0.44->qiskit-optimization) (0.13.0)\n",
            "Requirement already satisfied: pbr>=2.0.0 in /usr/local/lib/python3.10/dist-packages (from stevedore>=3.0.0->qiskit>=0.44->qiskit-optimization) (6.1.0)\n",
            "Requirement already satisfied: mpmath<1.4,>=1.1.0 in /usr/local/lib/python3.10/dist-packages (from sympy>=1.3->qiskit>=0.44->qiskit-optimization) (1.3.0)\n",
            "Downloading qiskit_optimization-0.6.1-py3-none-any.whl (167 kB)\n",
            "\u001b[2K   \u001b[90m━━━━━━━━━━━━━━━━━━━━━━━━━━━━━━━━━━━━━━━━\u001b[0m \u001b[32m167.6/167.6 kB\u001b[0m \u001b[31m13.6 MB/s\u001b[0m eta \u001b[36m0:00:00\u001b[0m\n",
            "\u001b[?25hDownloading qiskit_algorithms-0.3.1-py3-none-any.whl (310 kB)\n",
            "\u001b[2K   \u001b[90m━━━━━━━━━━━━━━━━━━━━━━━━━━━━━━━━━━━━━━━━\u001b[0m \u001b[32m310.5/310.5 kB\u001b[0m \u001b[31m23.5 MB/s\u001b[0m eta \u001b[36m0:00:00\u001b[0m\n",
            "\u001b[?25hBuilding wheels for collected packages: docplex\n",
            "  Building wheel for docplex (pyproject.toml) ... \u001b[?25l\u001b[?25hdone\n",
            "  Created wheel for docplex: filename=docplex-2.29.241-py3-none-any.whl size=685423 sha256=75be52b946fa54a8721ffb4e33588a36bd6593e49ce61745b1a1e74daeac0f51\n",
            "  Stored in directory: /root/.cache/pip/wheels/2b/15/6e/eba2382ab6bc3f35194a62d3b007916ececf6f07139cac6795\n",
            "Successfully built docplex\n",
            "Installing collected packages: docplex, qiskit-algorithms, qiskit-optimization\n",
            "Successfully installed docplex-2.29.241 qiskit-algorithms-0.3.1 qiskit-optimization-0.6.1\n",
            "Requirement already satisfied: docplex in /usr/local/lib/python3.10/dist-packages (2.29.241)\n",
            "Requirement already satisfied: six in /usr/local/lib/python3.10/dist-packages (from docplex) (1.17.0)\n"
          ]
        }
      ],
      "source": [
        "!pip install qiskit\n",
        "!pip install qiskit-optimization\n",
        "!pip install docplex"
      ]
    },
    {
      "cell_type": "markdown",
      "source": [
        "\\"
      ],
      "metadata": {
        "id": "YvxAz1y6DVtp"
      }
    },
    {
      "cell_type": "code",
      "execution_count": 14,
      "metadata": {
        "id": "U_2BfCq_iCjI"
      },
      "outputs": [],
      "source": [
        "from qiskit_optimization import QuadraticProgram\n",
        "from qiskit_optimization.translators import from_docplex_mp\n",
        "import numpy as np\n",
        "import matplotlib.pyplot as plt"
      ]
    },
    {
      "cell_type": "code",
      "execution_count": 15,
      "metadata": {
        "id": "aIF0hHsklr0t"
      },
      "outputs": [],
      "source": [
        "def QAP_as_ILP(N, flow_matrix, distance_matrix, print_model=False):\n",
        "\n",
        "    # Step 1: Create a QUBO/ILP using Qiskit's QuadraticProgram\n",
        "    model = QuadraticProgram()\n",
        "\n",
        "    # Step 2: Define binary variables x_ik\n",
        "    # Each facility i is assigned to one location k\n",
        "    for i in range(N):\n",
        "        for k in range(N):\n",
        "            model.binary_var(f\"x_{i}_{k}\")\n",
        "\n",
        "    # Step 3: Define the Objective Function using minimize()\n",
        "    # Minimize the total cost = sum(f_ij * d_kl * x_ik * x_jl)\n",
        "    quadratic_terms = {}\n",
        "    for i in range(N):\n",
        "        for j in range(N):\n",
        "            for k in range(N):\n",
        "                for l in range(N):\n",
        "                    var1 = f\"x_{i}_{k}\"\n",
        "                    var2 = f\"x_{j}_{l}\"\n",
        "                    coefficient = flow_matrix[i][j] * distance_matrix[k][l]\n",
        "                    if coefficient != 0:  # Avoid adding zero coefficients\n",
        "                        quadratic_terms[(var1, var2)] = coefficient\n",
        "\n",
        "    model.minimize(quadratic=quadratic_terms)\n",
        "\n",
        "    # Step 4: Add Constraints\n",
        "    # Constraint 1: Each facility is assigned to exactly one location\n",
        "    for i in range(N):\n",
        "        model.linear_constraint(\n",
        "            linear={f\"x_{i}_{k}\": 1 for k in range(N)},\n",
        "            sense=\"==\",\n",
        "            rhs=1,\n",
        "            name=f\"facility_assignment_{i}\"\n",
        "        )\n",
        "\n",
        "    # Constraint 2: Each location hosts exactly one facility\n",
        "    for k in range(N):\n",
        "        model.linear_constraint(\n",
        "            linear={f\"x_{i}_{k}\": 1 for i in range(N)},\n",
        "            sense=\"==\",\n",
        "            rhs=1,\n",
        "            name=f\"location_assignment_{k}\"\n",
        "        )\n",
        "\n",
        "    # Step 5: Print Model (Optional)\n",
        "    if print_model:\n",
        "        print(model.prettyprint())\n",
        "\n",
        "    return model\n"
      ]
    },
    {
      "cell_type": "code",
      "execution_count": 16,
      "metadata": {
        "id": "_D_-l5Fgo9QB"
      },
      "outputs": [],
      "source": [
        "from qiskit_optimization.converters import QuadraticProgramToQubo"
      ]
    },
    {
      "cell_type": "code",
      "execution_count": 17,
      "metadata": {
        "id": "eUn_7gLgpCoA"
      },
      "outputs": [],
      "source": [
        "def convert_ILP_to_QUBO(model, print_model = False):\n",
        "    qubo = QuadraticProgramToQubo().convert(model)\n",
        "\n",
        "    if print_model:\n",
        "        print(qubo.prettyprint())\n",
        "\n",
        "    return qubo"
      ]
    },
    {
      "cell_type": "code",
      "execution_count": 19,
      "metadata": {
        "colab": {
          "base_uri": "https://localhost:8080/"
        },
        "id": "DKe3D7yrpFM4",
        "outputId": "286fbd28-a35d-42bc-969a-a9ebd58cfd8c"
      },
      "outputs": [
        {
          "output_type": "stream",
          "name": "stdout",
          "text": [
            "QAP as ILP\n",
            "Problem name: \n",
            "\n",
            "Minimize\n",
            "  4*x_0_0*x_1_1 + 8*x_0_0*x_1_2 + 12*x_0_0*x_1_3 + 6*x_0_0*x_2_1\n",
            "  + 12*x_0_0*x_2_2 + 18*x_0_0*x_2_3 + 2*x_0_0*x_3_1 + 4*x_0_0*x_3_2\n",
            "  + 6*x_0_0*x_3_3 + 4*x_0_1*x_1_0 + 16*x_0_1*x_1_2 + 8*x_0_1*x_1_3\n",
            "  + 6*x_0_1*x_2_0 + 24*x_0_1*x_2_2 + 12*x_0_1*x_2_3 + 2*x_0_1*x_3_0\n",
            "  + 8*x_0_1*x_3_2 + 4*x_0_1*x_3_3 + 8*x_0_2*x_1_0 + 16*x_0_2*x_1_1\n",
            "  + 4*x_0_2*x_1_3 + 12*x_0_2*x_2_0 + 24*x_0_2*x_2_1 + 6*x_0_2*x_2_3\n",
            "  + 4*x_0_2*x_3_0 + 8*x_0_2*x_3_1 + 2*x_0_2*x_3_3 + 12*x_0_3*x_1_0\n",
            "  + 8*x_0_3*x_1_1 + 4*x_0_3*x_1_2 + 18*x_0_3*x_2_0 + 12*x_0_3*x_2_1\n",
            "  + 6*x_0_3*x_2_2 + 6*x_0_3*x_3_0 + 4*x_0_3*x_3_1 + 2*x_0_3*x_3_2\n",
            "  + 2*x_1_0*x_2_1 + 4*x_1_0*x_2_2 + 6*x_1_0*x_2_3 + 8*x_1_0*x_3_1\n",
            "  + 16*x_1_0*x_3_2 + 24*x_1_0*x_3_3 + 2*x_1_1*x_2_0 + 8*x_1_1*x_2_2\n",
            "  + 4*x_1_1*x_2_3 + 8*x_1_1*x_3_0 + 32*x_1_1*x_3_2 + 16*x_1_1*x_3_3\n",
            "  + 4*x_1_2*x_2_0 + 8*x_1_2*x_2_1 + 2*x_1_2*x_2_3 + 16*x_1_2*x_3_0\n",
            "  + 32*x_1_2*x_3_1 + 8*x_1_2*x_3_3 + 6*x_1_3*x_2_0 + 4*x_1_3*x_2_1\n",
            "  + 2*x_1_3*x_2_2 + 24*x_1_3*x_3_0 + 16*x_1_3*x_3_1 + 8*x_1_3*x_3_2\n",
            "  + 4*x_2_0*x_3_1 + 8*x_2_0*x_3_2 + 12*x_2_0*x_3_3 + 4*x_2_1*x_3_0\n",
            "  + 16*x_2_1*x_3_2 + 8*x_2_1*x_3_3 + 8*x_2_2*x_3_0 + 16*x_2_2*x_3_1\n",
            "  + 4*x_2_2*x_3_3 + 12*x_2_3*x_3_0 + 8*x_2_3*x_3_1 + 4*x_2_3*x_3_2\n",
            "\n",
            "Subject to\n",
            "  Linear constraints (8)\n",
            "    x_0_0 + x_0_1 + x_0_2 + x_0_3 == 1  'facility_assignment_0'\n",
            "    x_1_0 + x_1_1 + x_1_2 + x_1_3 == 1  'facility_assignment_1'\n",
            "    x_2_0 + x_2_1 + x_2_2 + x_2_3 == 1  'facility_assignment_2'\n",
            "    x_3_0 + x_3_1 + x_3_2 + x_3_3 == 1  'facility_assignment_3'\n",
            "    x_0_0 + x_1_0 + x_2_0 + x_3_0 == 1  'location_assignment_0'\n",
            "    x_0_1 + x_1_1 + x_2_1 + x_3_1 == 1  'location_assignment_1'\n",
            "    x_0_2 + x_1_2 + x_2_2 + x_3_2 == 1  'location_assignment_2'\n",
            "    x_0_3 + x_1_3 + x_2_3 + x_3_3 == 1  'location_assignment_3'\n",
            "\n",
            "  Binary variables (16)\n",
            "    x_0_0 x_0_1 x_0_2 x_0_3 x_1_0 x_1_1 x_1_2 x_1_3 x_2_0 x_2_1 x_2_2 x_2_3\n",
            "    x_3_0 x_3_1 x_3_2 x_3_3\n",
            "\n",
            "QAP as QUBO\n",
            "Problem name: \n",
            "\n",
            "Minimize\n",
            "  1354*x_0_0^2 + 1354*x_0_0*x_0_1 + 1354*x_0_0*x_0_2 + 1354*x_0_0*x_0_3\n",
            "  + 1354*x_0_0*x_1_0 + 4*x_0_0*x_1_1 + 8*x_0_0*x_1_2 + 12*x_0_0*x_1_3\n",
            "  + 1354*x_0_0*x_2_0 + 6*x_0_0*x_2_1 + 12*x_0_0*x_2_2 + 18*x_0_0*x_2_3\n",
            "  + 1354*x_0_0*x_3_0 + 2*x_0_0*x_3_1 + 4*x_0_0*x_3_2 + 6*x_0_0*x_3_3\n",
            "  + 1354*x_0_1^2 + 1354*x_0_1*x_0_2 + 1354*x_0_1*x_0_3 + 4*x_0_1*x_1_0\n",
            "  + 1354*x_0_1*x_1_1 + 16*x_0_1*x_1_2 + 8*x_0_1*x_1_3 + 6*x_0_1*x_2_0\n",
            "  + 1354*x_0_1*x_2_1 + 24*x_0_1*x_2_2 + 12*x_0_1*x_2_3 + 2*x_0_1*x_3_0\n",
            "  + 1354*x_0_1*x_3_1 + 8*x_0_1*x_3_2 + 4*x_0_1*x_3_3 + 1354*x_0_2^2\n",
            "  + 1354*x_0_2*x_0_3 + 8*x_0_2*x_1_0 + 16*x_0_2*x_1_1 + 1354*x_0_2*x_1_2\n",
            "  + 4*x_0_2*x_1_3 + 12*x_0_2*x_2_0 + 24*x_0_2*x_2_1 + 1354*x_0_2*x_2_2\n",
            "  + 6*x_0_2*x_2_3 + 4*x_0_2*x_3_0 + 8*x_0_2*x_3_1 + 1354*x_0_2*x_3_2\n",
            "  + 2*x_0_2*x_3_3 + 1354*x_0_3^2 + 12*x_0_3*x_1_0 + 8*x_0_3*x_1_1\n",
            "  + 4*x_0_3*x_1_2 + 1354*x_0_3*x_1_3 + 18*x_0_3*x_2_0 + 12*x_0_3*x_2_1\n",
            "  + 6*x_0_3*x_2_2 + 1354*x_0_3*x_2_3 + 6*x_0_3*x_3_0 + 4*x_0_3*x_3_1\n",
            "  + 2*x_0_3*x_3_2 + 1354*x_0_3*x_3_3 + 1354*x_1_0^2 + 1354*x_1_0*x_1_1\n",
            "  + 1354*x_1_0*x_1_2 + 1354*x_1_0*x_1_3 + 1354*x_1_0*x_2_0 + 2*x_1_0*x_2_1\n",
            "  + 4*x_1_0*x_2_2 + 6*x_1_0*x_2_3 + 1354*x_1_0*x_3_0 + 8*x_1_0*x_3_1\n",
            "  + 16*x_1_0*x_3_2 + 24*x_1_0*x_3_3 + 1354*x_1_1^2 + 1354*x_1_1*x_1_2\n",
            "  + 1354*x_1_1*x_1_3 + 2*x_1_1*x_2_0 + 1354*x_1_1*x_2_1 + 8*x_1_1*x_2_2\n",
            "  + 4*x_1_1*x_2_3 + 8*x_1_1*x_3_0 + 1354*x_1_1*x_3_1 + 32*x_1_1*x_3_2\n",
            "  + 16*x_1_1*x_3_3 + 1354*x_1_2^2 + 1354*x_1_2*x_1_3 + 4*x_1_2*x_2_0\n",
            "  + 8*x_1_2*x_2_1 + 1354*x_1_2*x_2_2 + 2*x_1_2*x_2_3 + 16*x_1_2*x_3_0\n",
            "  + 32*x_1_2*x_3_1 + 1354*x_1_2*x_3_2 + 8*x_1_2*x_3_3 + 1354*x_1_3^2\n",
            "  + 6*x_1_3*x_2_0 + 4*x_1_3*x_2_1 + 2*x_1_3*x_2_2 + 1354*x_1_3*x_2_3\n",
            "  + 24*x_1_3*x_3_0 + 16*x_1_3*x_3_1 + 8*x_1_3*x_3_2 + 1354*x_1_3*x_3_3\n",
            "  + 1354*x_2_0^2 + 1354*x_2_0*x_2_1 + 1354*x_2_0*x_2_2 + 1354*x_2_0*x_2_3\n",
            "  + 1354*x_2_0*x_3_0 + 4*x_2_0*x_3_1 + 8*x_2_0*x_3_2 + 12*x_2_0*x_3_3\n",
            "  + 1354*x_2_1^2 + 1354*x_2_1*x_2_2 + 1354*x_2_1*x_2_3 + 4*x_2_1*x_3_0\n",
            "  + 1354*x_2_1*x_3_1 + 16*x_2_1*x_3_2 + 8*x_2_1*x_3_3 + 1354*x_2_2^2\n",
            "  + 1354*x_2_2*x_2_3 + 8*x_2_2*x_3_0 + 16*x_2_2*x_3_1 + 1354*x_2_2*x_3_2\n",
            "  + 4*x_2_2*x_3_3 + 1354*x_2_3^2 + 12*x_2_3*x_3_0 + 8*x_2_3*x_3_1\n",
            "  + 4*x_2_3*x_3_2 + 1354*x_2_3*x_3_3 + 1354*x_3_0^2 + 1354*x_3_0*x_3_1\n",
            "  + 1354*x_3_0*x_3_2 + 1354*x_3_0*x_3_3 + 1354*x_3_1^2 + 1354*x_3_1*x_3_2\n",
            "  + 1354*x_3_1*x_3_3 + 1354*x_3_2^2 + 1354*x_3_2*x_3_3 + 1354*x_3_3^2\n",
            "  - 2708*x_0_0 - 2708*x_0_1 - 2708*x_0_2 - 2708*x_0_3 - 2708*x_1_0 - 2708*x_1_1\n",
            "  - 2708*x_1_2 - 2708*x_1_3 - 2708*x_2_0 - 2708*x_2_1 - 2708*x_2_2 - 2708*x_2_3\n",
            "  - 2708*x_3_0 - 2708*x_3_1 - 2708*x_3_2 - 2708*x_3_3 + 5416\n",
            "\n",
            "Subject to\n",
            "  No constraints\n",
            "\n",
            "  Binary variables (16)\n",
            "    x_0_0 x_0_1 x_0_2 x_0_3 x_1_0 x_1_1 x_1_2 x_1_3 x_2_0 x_2_1 x_2_2 x_2_3\n",
            "    x_3_0 x_3_1 x_3_2 x_3_3\n",
            "\n"
          ]
        }
      ],
      "source": [
        "F = np.array([\n",
        "        [0, 2, 3, 1],\n",
        "        [2, 0, 1, 4],\n",
        "        [3, 1, 0, 2],\n",
        "        [1, 4, 2, 0]\n",
        "])\n",
        "\n",
        "# Distance matrix\n",
        "D = np.array([\n",
        "        [0, 1, 2, 3],\n",
        "        [1, 0, 4, 2],\n",
        "        [2, 4, 0, 1],\n",
        "        [3, 2, 1, 0]\n",
        "])\n",
        "n = F.shape[0]\n",
        "print(\"QAP as ILP\")\n",
        "ilp_model = QAP_as_ILP(n,\n",
        "                       F,\n",
        "                       D,\n",
        "                      print_model = True)\n",
        "\n",
        "print(\"QAP as QUBO\")\n",
        "qubo_model = convert_ILP_to_QUBO(ilp_model,\n",
        "                                print_model = True)"
      ]
    },
    {
      "cell_type": "markdown",
      "source": [
        "k"
      ],
      "metadata": {
        "id": "KcIBOJYQETnx"
      }
    },
    {
      "cell_type": "markdown",
      "source": [
        "# **MinimumEigenOptimizer**\n",
        "The MinimumEigenOptimizer is a classical-quantum hybrid optimization algorithm that utilizes quantum eigensolvers to find the optimal solution. It is often used in conjunction with variational quantum algorithms, such as VQE (Variational Quantum Eigensolver), to solve problems like combinatorial optimization.\n",
        "\n",
        "It works by minimizing a quadratic objective function through quantum eigenvalue estimation, which can be mapped onto a variety of problems, including the Quadratic Assignment Problem (QAP), Traveling Salesman Problem (TSP), and others."
      ],
      "metadata": {
        "id": "prmBBfgeEics"
      }
    },
    {
      "cell_type": "code",
      "execution_count": 20,
      "metadata": {
        "id": "m8KCP5oPZLYp"
      },
      "outputs": [],
      "source": [
        "from qiskit_algorithms import NumPyMinimumEigensolver\n",
        "from qiskit_optimization.algorithms import MinimumEigenOptimizer\n",
        "from itertools import combinations_with_replacement"
      ]
    },
    {
      "cell_type": "code",
      "execution_count": 21,
      "metadata": {
        "id": "UfifiByMZSUD"
      },
      "outputs": [],
      "source": [
        "# define the solver to have the exact solution\n",
        "exact = MinimumEigenOptimizer(NumPyMinimumEigensolver())"
      ]
    },
    {
      "cell_type": "code",
      "execution_count": 22,
      "metadata": {
        "id": "OM1qa3VqZiZm"
      },
      "outputs": [],
      "source": [
        "result = exact.solve(qubo_model)\n"
      ]
    },
    {
      "cell_type": "code",
      "execution_count": 23,
      "metadata": {
        "id": "vIyHu2gaaidf"
      },
      "outputs": [],
      "source": [
        "def interpret_qap_solution(solution_string):\n",
        "    \"\"\"\n",
        "    Parses and interprets the QAP solution string, returning a readable interpretation.\n",
        "\n",
        "    Parameters:\n",
        "        solution_string (str): The encoded solution string.\n",
        "\n",
        "    Returns:\n",
        "        str: A human-readable interpretation of the solution.\n",
        "    \"\"\"\n",
        "    # Ensure input is treated as a string\n",
        "    solution_string = str(solution_string)\n",
        "    assignments = {}\n",
        "\n",
        "    # Debug: Print the input string\n",
        "    print(\"Input string:\")\n",
        "    print(solution_string)\n",
        "\n",
        "    # Parse \"variable values\"\n",
        "    for item in solution_string.split(\",\"):\n",
        "        item = item.strip()  # Remove extra spaces\n",
        "        if \"=\" in item and \"x_\" in item:  # Look for variable assignments\n",
        "            variable, value = item.split(\"=\")\n",
        "            if float(value) == 1.0:\n",
        "                _, facility, location = variable.split(\"_\")\n",
        "                assignments[int(facility)] = int(location)\n",
        "\n",
        "    # Debug: Print parsed assignments\n",
        "    print(f\"Parsed assignments: {assignments}\")\n",
        "\n",
        "    # Build readable interpretation\n",
        "    interpretation = [\"QAP Solution Interpretation:\"]\n",
        "    for facility, location in sorted(assignments.items()):\n",
        "        interpretation.append(f\"  - Facility {facility} is assigned to Location {location}.\")\n",
        "\n",
        "    # Add \"objective function value\"\n",
        "    if any(\"fval=\" in item for item in solution_string.split(\",\")):\n",
        "        for item in solution_string.split(\",\"):\n",
        "            if \"fval=\" in item:\n",
        "                objective_value = item.split(\"=\")[1].strip()\n",
        "                interpretation.append(f\"Objective function value: {objective_value}\")\n",
        "                break\n",
        "\n",
        "    # Add \"status\"\n",
        "    if any(\"status=\" in item for item in solution_string.split(\",\")):\n",
        "        for item in solution_string.split(\",\"):\n",
        "            if \"status=\" in item:\n",
        "                status = item.split(\"=\")[1].strip()\n",
        "                interpretation.append(f\"Status: {status}\")\n",
        "                break\n",
        "\n",
        "    # Debug: Print the final interpretation\n",
        "    print(f\"Final interpretation: {interpretation}\")\n",
        "\n",
        "    return '  '.join(interpretation)"
      ]
    },
    {
      "cell_type": "code",
      "execution_count": 24,
      "metadata": {
        "colab": {
          "base_uri": "https://localhost:8080/",
          "height": 146
        },
        "id": "DdhXeZ2VbCmc",
        "outputId": "abe0b489-c878-4311-9015-7ebcbbf77808"
      },
      "outputs": [
        {
          "output_type": "stream",
          "name": "stdout",
          "text": [
            "Input string:\n",
            "fval=44.0, x_0_0=1.0, x_0_1=0.0, x_0_2=0.0, x_0_3=0.0, x_1_0=0.0, x_1_1=0.0, x_1_2=1.0, x_1_3=0.0, x_2_0=0.0, x_2_1=1.0, x_2_2=0.0, x_2_3=0.0, x_3_0=0.0, x_3_1=0.0, x_3_2=0.0, x_3_3=1.0, status=SUCCESS\n",
            "Parsed assignments: {0: 0, 1: 2, 2: 1, 3: 3}\n",
            "Final interpretation: ['QAP Solution Interpretation:', '  - Facility 0 is assigned to Location 0.', '  - Facility 1 is assigned to Location 2.', '  - Facility 2 is assigned to Location 1.', '  - Facility 3 is assigned to Location 3.', 'Objective function value: 44.0', 'Status: SUCCESS']\n"
          ]
        },
        {
          "output_type": "execute_result",
          "data": {
            "text/plain": [
              "'QAP Solution Interpretation:    - Facility 0 is assigned to Location 0.    - Facility 1 is assigned to Location 2.    - Facility 2 is assigned to Location 1.    - Facility 3 is assigned to Location 3.  Objective function value: 44.0  Status: SUCCESS'"
            ],
            "application/vnd.google.colaboratory.intrinsic+json": {
              "type": "string"
            }
          },
          "metadata": {},
          "execution_count": 24
        }
      ],
      "source": [
        "interpret_qap_solution(result)"
      ]
    },
    {
      "cell_type": "markdown",
      "source": [
        "# **Quantum Annealing (D-wave)**\n",
        "Quantum Annealing (QA) is a specialized approach to solve combinatorial optimization problems, and D-Wave quantum computers are designed to perform QA efficiently. The Quadratic Assignment Problem (QAP), being an NP-hard problem, is well-suited for exploration using quantum annealing due to its combinatorial nature."
      ],
      "metadata": {
        "id": "vl_7nWGlEvM-"
      }
    },
    {
      "cell_type": "code",
      "execution_count": 25,
      "metadata": {
        "colab": {
          "base_uri": "https://localhost:8080/"
        },
        "id": "xr4VAv904Ay3",
        "outputId": "a88b84ad-e5cd-49ed-f95e-43a75a899f3f"
      },
      "outputs": [
        {
          "output_type": "stream",
          "name": "stdout",
          "text": [
            "Collecting dwave-ocean-sdk\n",
            "  Downloading dwave_ocean_sdk-8.1.0-py3-none-any.whl.metadata (5.5 kB)\n",
            "Collecting dimod==0.12.18 (from dwave-ocean-sdk)\n",
            "  Downloading dimod-0.12.18-cp310-cp310-manylinux_2_17_x86_64.manylinux2014_x86_64.whl.metadata (4.0 kB)\n",
            "Collecting dwave-cloud-client==0.13.2 (from dwave-ocean-sdk)\n",
            "  Downloading dwave_cloud_client-0.13.2-py3-none-any.whl.metadata (5.2 kB)\n",
            "Collecting dwave-gate==0.3.3 (from dwave-ocean-sdk)\n",
            "  Downloading dwave_gate-0.3.3-cp310-cp310-manylinux_2_17_x86_64.manylinux2014_x86_64.whl.metadata (18 kB)\n",
            "Collecting dwave-hybrid==0.6.13 (from dwave-ocean-sdk)\n",
            "  Downloading dwave_hybrid-0.6.13-py3-none-any.whl.metadata (4.3 kB)\n",
            "Collecting dwave-inspector==0.5.2 (from dwave-ocean-sdk)\n",
            "  Downloading dwave_inspector-0.5.2-py3-none-any.whl.metadata (4.4 kB)\n",
            "Collecting dwave-networkx==0.8.16 (from dwave-ocean-sdk)\n",
            "  Downloading dwave_networkx-0.8.16-py3-none-any.whl.metadata (2.6 kB)\n",
            "Collecting dwave-optimization==0.4.2 (from dwave-ocean-sdk)\n",
            "  Downloading dwave_optimization-0.4.2-cp310-cp310-manylinux_2_24_x86_64.manylinux_2_28_x86_64.whl.metadata (18 kB)\n",
            "Collecting dwave-preprocessing==0.6.7 (from dwave-ocean-sdk)\n",
            "  Downloading dwave_preprocessing-0.6.7-cp310-cp310-manylinux_2_17_x86_64.manylinux2014_x86_64.whl.metadata (3.6 kB)\n",
            "Collecting dwave-samplers==1.4.0 (from dwave-ocean-sdk)\n",
            "  Downloading dwave_samplers-1.4.0-cp310-cp310-manylinux_2_17_x86_64.manylinux2014_x86_64.whl.metadata (9.9 kB)\n",
            "Collecting dwave-system==1.28.0 (from dwave-ocean-sdk)\n",
            "  Downloading dwave_system-1.28.0-py3-none-any.whl.metadata (3.2 kB)\n",
            "Collecting dwavebinarycsp==0.3.1 (from dwave-ocean-sdk)\n",
            "  Downloading dwavebinarycsp-0.3.1-py3-none-any.whl.metadata (3.0 kB)\n",
            "Collecting minorminer==0.2.16 (from dwave-ocean-sdk)\n",
            "  Downloading minorminer-0.2.16-cp310-cp310-manylinux_2_17_x86_64.manylinux2014_x86_64.whl.metadata (20 kB)\n",
            "Collecting penaltymodel==1.2.0 (from dwave-ocean-sdk)\n",
            "  Downloading penaltymodel-1.2.0-py3-none-any.whl.metadata (6.5 kB)\n",
            "Requirement already satisfied: numpy>=1.17.3 in /usr/local/lib/python3.10/dist-packages (from dimod==0.12.18->dwave-ocean-sdk) (1.26.4)\n",
            "Requirement already satisfied: requests<3,>=2.25 in /usr/local/lib/python3.10/dist-packages (from requests[socks]<3,>=2.25->dwave-cloud-client==0.13.2->dwave-ocean-sdk) (2.32.3)\n",
            "Requirement already satisfied: urllib3<3,>=1.26 in /usr/local/lib/python3.10/dist-packages (from dwave-cloud-client==0.13.2->dwave-ocean-sdk) (2.2.3)\n",
            "Requirement already satisfied: pydantic<3,>=2 in /usr/local/lib/python3.10/dist-packages (from dwave-cloud-client==0.13.2->dwave-ocean-sdk) (2.10.3)\n",
            "Collecting homebase<2,>=1.0 (from dwave-cloud-client==0.13.2->dwave-ocean-sdk)\n",
            "  Downloading homebase-1.0.1-py2.py3-none-any.whl.metadata (3.3 kB)\n",
            "Requirement already satisfied: click<9,>=7.0 in /usr/local/lib/python3.10/dist-packages (from dwave-cloud-client==0.13.2->dwave-ocean-sdk) (8.1.7)\n",
            "Requirement already satisfied: python-dateutil<3,>=2.7 in /usr/local/lib/python3.10/dist-packages (from dwave-cloud-client==0.13.2->dwave-ocean-sdk) (2.8.2)\n",
            "Collecting plucky<0.5,>=0.4.3 (from dwave-cloud-client==0.13.2->dwave-ocean-sdk)\n",
            "  Downloading plucky-0.4.3-py2.py3-none-any.whl.metadata (4.4 kB)\n",
            "Collecting diskcache<6,>=5.2.1 (from dwave-cloud-client==0.13.2->dwave-ocean-sdk)\n",
            "  Downloading diskcache-5.6.3-py3-none-any.whl.metadata (20 kB)\n",
            "Requirement already satisfied: packaging>=19 in /usr/local/lib/python3.10/dist-packages (from dwave-cloud-client==0.13.2->dwave-ocean-sdk) (24.2)\n",
            "Requirement already satisfied: werkzeug<4,>=2.2 in /usr/local/lib/python3.10/dist-packages (from dwave-cloud-client==0.13.2->dwave-ocean-sdk) (3.1.3)\n",
            "Requirement already satisfied: typing-extensions<5,>=4.5.0 in /usr/local/lib/python3.10/dist-packages (from dwave-cloud-client==0.13.2->dwave-ocean-sdk) (4.12.2)\n",
            "Collecting authlib<2,>=1.2 (from dwave-cloud-client==0.13.2->dwave-ocean-sdk)\n",
            "  Downloading Authlib-1.4.0-py2.py3-none-any.whl.metadata (3.9 kB)\n",
            "Requirement already satisfied: importlib_metadata>=5.0.0 in /usr/local/lib/python3.10/dist-packages (from dwave-cloud-client==0.13.2->dwave-ocean-sdk) (8.5.0)\n",
            "Requirement already satisfied: orjson>=3.10 in /usr/local/lib/python3.10/dist-packages (from dwave-cloud-client==0.13.2->dwave-ocean-sdk) (3.10.12)\n",
            "Requirement already satisfied: networkx in /usr/local/lib/python3.10/dist-packages (from dwave-hybrid==0.6.13->dwave-ocean-sdk) (3.4.2)\n",
            "Requirement already satisfied: Flask<4,>=2.2 in /usr/local/lib/python3.10/dist-packages (from dwave-inspector==0.5.2->dwave-ocean-sdk) (3.1.0)\n",
            "Requirement already satisfied: scipy>=1.7.3 in /usr/local/lib/python3.10/dist-packages (from dwave-system==1.28.0->dwave-ocean-sdk) (1.13.1)\n",
            "Collecting fasteners>=0.15 (from minorminer==0.2.16->dwave-ocean-sdk)\n",
            "  Downloading fasteners-0.19-py3-none-any.whl.metadata (4.9 kB)\n",
            "Requirement already satisfied: cryptography in /usr/local/lib/python3.10/dist-packages (from authlib<2,>=1.2->dwave-cloud-client==0.13.2->dwave-ocean-sdk) (43.0.3)\n",
            "Requirement already satisfied: Jinja2>=3.1.2 in /usr/local/lib/python3.10/dist-packages (from Flask<4,>=2.2->dwave-inspector==0.5.2->dwave-ocean-sdk) (3.1.4)\n",
            "Requirement already satisfied: itsdangerous>=2.2 in /usr/local/lib/python3.10/dist-packages (from Flask<4,>=2.2->dwave-inspector==0.5.2->dwave-ocean-sdk) (2.2.0)\n",
            "Requirement already satisfied: blinker>=1.9 in /usr/local/lib/python3.10/dist-packages (from Flask<4,>=2.2->dwave-inspector==0.5.2->dwave-ocean-sdk) (1.9.0)\n",
            "Requirement already satisfied: zipp>=3.20 in /usr/local/lib/python3.10/dist-packages (from importlib_metadata>=5.0.0->dwave-cloud-client==0.13.2->dwave-ocean-sdk) (3.21.0)\n",
            "Requirement already satisfied: annotated-types>=0.6.0 in /usr/local/lib/python3.10/dist-packages (from pydantic<3,>=2->dwave-cloud-client==0.13.2->dwave-ocean-sdk) (0.7.0)\n",
            "Requirement already satisfied: pydantic-core==2.27.1 in /usr/local/lib/python3.10/dist-packages (from pydantic<3,>=2->dwave-cloud-client==0.13.2->dwave-ocean-sdk) (2.27.1)\n",
            "Requirement already satisfied: six>=1.5 in /usr/local/lib/python3.10/dist-packages (from python-dateutil<3,>=2.7->dwave-cloud-client==0.13.2->dwave-ocean-sdk) (1.17.0)\n",
            "Requirement already satisfied: charset-normalizer<4,>=2 in /usr/local/lib/python3.10/dist-packages (from requests<3,>=2.25->requests[socks]<3,>=2.25->dwave-cloud-client==0.13.2->dwave-ocean-sdk) (3.4.0)\n",
            "Requirement already satisfied: idna<4,>=2.5 in /usr/local/lib/python3.10/dist-packages (from requests<3,>=2.25->requests[socks]<3,>=2.25->dwave-cloud-client==0.13.2->dwave-ocean-sdk) (3.10)\n",
            "Requirement already satisfied: certifi>=2017.4.17 in /usr/local/lib/python3.10/dist-packages (from requests<3,>=2.25->requests[socks]<3,>=2.25->dwave-cloud-client==0.13.2->dwave-ocean-sdk) (2024.12.14)\n",
            "Requirement already satisfied: PySocks!=1.5.7,>=1.5.6 in /usr/local/lib/python3.10/dist-packages (from requests[socks]<3,>=2.25->dwave-cloud-client==0.13.2->dwave-ocean-sdk) (1.7.1)\n",
            "Requirement already satisfied: MarkupSafe>=2.1.1 in /usr/local/lib/python3.10/dist-packages (from werkzeug<4,>=2.2->dwave-cloud-client==0.13.2->dwave-ocean-sdk) (3.0.2)\n",
            "Requirement already satisfied: cffi>=1.12 in /usr/local/lib/python3.10/dist-packages (from cryptography->authlib<2,>=1.2->dwave-cloud-client==0.13.2->dwave-ocean-sdk) (1.17.1)\n",
            "Requirement already satisfied: pycparser in /usr/local/lib/python3.10/dist-packages (from cffi>=1.12->cryptography->authlib<2,>=1.2->dwave-cloud-client==0.13.2->dwave-ocean-sdk) (2.22)\n",
            "Downloading dwave_ocean_sdk-8.1.0-py3-none-any.whl (8.3 kB)\n",
            "Downloading dimod-0.12.18-cp310-cp310-manylinux_2_17_x86_64.manylinux2014_x86_64.whl (9.0 MB)\n",
            "\u001b[2K   \u001b[90m━━━━━━━━━━━━━━━━━━━━━━━━━━━━━━━━━━━━━━━━\u001b[0m \u001b[32m9.0/9.0 MB\u001b[0m \u001b[31m75.9 MB/s\u001b[0m eta \u001b[36m0:00:00\u001b[0m\n",
            "\u001b[?25hDownloading dwave_cloud_client-0.13.2-py3-none-any.whl (158 kB)\n",
            "\u001b[2K   \u001b[90m━━━━━━━━━━━━━━━━━━━━━━━━━━━━━━━━━━━━━━━━\u001b[0m \u001b[32m158.6/158.6 kB\u001b[0m \u001b[31m12.4 MB/s\u001b[0m eta \u001b[36m0:00:00\u001b[0m\n",
            "\u001b[?25hDownloading dwave_gate-0.3.3-cp310-cp310-manylinux_2_17_x86_64.manylinux2014_x86_64.whl (1.5 MB)\n",
            "\u001b[2K   \u001b[90m━━━━━━━━━━━━━━━━━━━━━━━━━━━━━━━━━━━━━━━━\u001b[0m \u001b[32m1.5/1.5 MB\u001b[0m \u001b[31m59.9 MB/s\u001b[0m eta \u001b[36m0:00:00\u001b[0m\n",
            "\u001b[?25hDownloading dwave_hybrid-0.6.13-py3-none-any.whl (78 kB)\n",
            "\u001b[2K   \u001b[90m━━━━━━━━━━━━━━━━━━━━━━━━━━━━━━━━━━━━━━━━\u001b[0m \u001b[32m78.3/78.3 kB\u001b[0m \u001b[31m6.1 MB/s\u001b[0m eta \u001b[36m0:00:00\u001b[0m\n",
            "\u001b[?25hDownloading dwave_inspector-0.5.2-py3-none-any.whl (30 kB)\n",
            "Downloading dwave_networkx-0.8.16-py3-none-any.whl (103 kB)\n",
            "\u001b[2K   \u001b[90m━━━━━━━━━━━━━━━━━━━━━━━━━━━━━━━━━━━━━━━━\u001b[0m \u001b[32m103.7/103.7 kB\u001b[0m \u001b[31m9.5 MB/s\u001b[0m eta \u001b[36m0:00:00\u001b[0m\n",
            "\u001b[?25hDownloading dwave_optimization-0.4.2-cp310-cp310-manylinux_2_24_x86_64.manylinux_2_28_x86_64.whl (2.6 MB)\n",
            "\u001b[2K   \u001b[90m━━━━━━━━━━━━━━━━━━━━━━━━━━━━━━━━━━━━━━━━\u001b[0m \u001b[32m2.6/2.6 MB\u001b[0m \u001b[31m69.9 MB/s\u001b[0m eta \u001b[36m0:00:00\u001b[0m\n",
            "\u001b[?25hDownloading dwave_preprocessing-0.6.7-cp310-cp310-manylinux_2_17_x86_64.manylinux2014_x86_64.whl (3.3 MB)\n",
            "\u001b[2K   \u001b[90m━━━━━━━━━━━━━━━━━━━━━━━━━━━━━━━━━━━━━━━━\u001b[0m \u001b[32m3.3/3.3 MB\u001b[0m \u001b[31m69.6 MB/s\u001b[0m eta \u001b[36m0:00:00\u001b[0m\n",
            "\u001b[?25hDownloading dwave_samplers-1.4.0-cp310-cp310-manylinux_2_17_x86_64.manylinux2014_x86_64.whl (6.7 MB)\n",
            "\u001b[2K   \u001b[90m━━━━━━━━━━━━━━━━━━━━━━━━━━━━━━━━━━━━━━━━\u001b[0m \u001b[32m6.7/6.7 MB\u001b[0m \u001b[31m75.9 MB/s\u001b[0m eta \u001b[36m0:00:00\u001b[0m\n",
            "\u001b[?25hDownloading dwave_system-1.28.0-py3-none-any.whl (100 kB)\n",
            "\u001b[2K   \u001b[90m━━━━━━━━━━━━━━━━━━━━━━━━━━━━━━━━━━━━━━━━\u001b[0m \u001b[32m100.5/100.5 kB\u001b[0m \u001b[31m10.2 MB/s\u001b[0m eta \u001b[36m0:00:00\u001b[0m\n",
            "\u001b[?25hDownloading dwavebinarycsp-0.3.1-py3-none-any.whl (35 kB)\n",
            "Downloading minorminer-0.2.16-cp310-cp310-manylinux_2_17_x86_64.manylinux2014_x86_64.whl (3.9 MB)\n",
            "\u001b[2K   \u001b[90m━━━━━━━━━━━━━━━━━━━━━━━━━━━━━━━━━━━━━━━━\u001b[0m \u001b[32m3.9/3.9 MB\u001b[0m \u001b[31m77.9 MB/s\u001b[0m eta \u001b[36m0:00:00\u001b[0m\n",
            "\u001b[?25hDownloading penaltymodel-1.2.0-py3-none-any.whl (36 kB)\n",
            "Downloading Authlib-1.4.0-py2.py3-none-any.whl (225 kB)\n",
            "\u001b[2K   \u001b[90m━━━━━━━━━━━━━━━━━━━━━━━━━━━━━━━━━━━━━━━━\u001b[0m \u001b[32m225.5/225.5 kB\u001b[0m \u001b[31m18.2 MB/s\u001b[0m eta \u001b[36m0:00:00\u001b[0m\n",
            "\u001b[?25hDownloading diskcache-5.6.3-py3-none-any.whl (45 kB)\n",
            "\u001b[2K   \u001b[90m━━━━━━━━━━━━━━━━━━━━━━━━━━━━━━━━━━━━━━━━\u001b[0m \u001b[32m45.5/45.5 kB\u001b[0m \u001b[31m3.9 MB/s\u001b[0m eta \u001b[36m0:00:00\u001b[0m\n",
            "\u001b[?25hDownloading fasteners-0.19-py3-none-any.whl (18 kB)\n",
            "Downloading homebase-1.0.1-py2.py3-none-any.whl (11 kB)\n",
            "Downloading plucky-0.4.3-py2.py3-none-any.whl (10 kB)\n",
            "Installing collected packages: plucky, homebase, fasteners, dwave-optimization, dwave-gate, diskcache, dimod, penaltymodel, dwave-samplers, dwave-preprocessing, dwave-networkx, minorminer, dwavebinarycsp, authlib, dwave-cloud-client, dwave-system, dwave-inspector, dwave-hybrid, dwave-ocean-sdk\n",
            "Successfully installed authlib-1.4.0 dimod-0.12.18 diskcache-5.6.3 dwave-cloud-client-0.13.2 dwave-gate-0.3.3 dwave-hybrid-0.6.13 dwave-inspector-0.5.2 dwave-networkx-0.8.16 dwave-ocean-sdk-8.1.0 dwave-optimization-0.4.2 dwave-preprocessing-0.6.7 dwave-samplers-1.4.0 dwave-system-1.28.0 dwavebinarycsp-0.3.1 fasteners-0.19 homebase-1.0.1 minorminer-0.2.16 penaltymodel-1.2.0 plucky-0.4.3\n"
          ]
        }
      ],
      "source": [
        "!pip install dwave-ocean-sdk"
      ]
    },
    {
      "cell_type": "code",
      "execution_count": 26,
      "metadata": {
        "id": "2eZ1N_cj1TrF"
      },
      "outputs": [],
      "source": [
        "from dimod.binary import BinaryQuadraticModel\n",
        "from dwave.samplers import SimulatedAnnealingSampler"
      ]
    },
    {
      "cell_type": "markdown",
      "source": [
        "The Simulated Annealing Sampler is a classical solver provided by D-Wave, which is used for finding approximate solutions to combinatorial optimization problems, including those represented as BQMs. Simulated Annealing is a probabilistic optimization technique that tries to find the global minimum of an objective function by exploring the solution space in a manner akin to the physical process of annealing in metallurgy.\n",
        "\n",
        "Simulated Annealing performs the optimization by gradually \"cooling\" the system, starting from a high temperature where the system can easily explore different solutions, and slowly decreasing the temperature so the system stabilizes in a minimum-energy state."
      ],
      "metadata": {
        "id": "rpcirhkiFjow"
      }
    },
    {
      "cell_type": "code",
      "execution_count": 27,
      "metadata": {
        "id": "j7hwhMWM1Xav"
      },
      "outputs": [],
      "source": [
        "sampler = SimulatedAnnealingSampler()"
      ]
    },
    {
      "cell_type": "code",
      "execution_count": 28,
      "metadata": {
        "id": "iJv2kT825Jid"
      },
      "outputs": [],
      "source": [
        "dwave_qubo = BinaryQuadraticModel(qubo_model.objective.linear.to_dict(),\n",
        "                                  qubo_model.objective.quadratic.to_dict(),\n",
        "                                  qubo_model.objective.constant,\n",
        "                                  'BINARY')\n",
        "\n",
        "samplerset = sampler.sample(dwave_qubo, num_reads = 1000)"
      ]
    },
    {
      "cell_type": "code",
      "execution_count": 29,
      "metadata": {
        "colab": {
          "base_uri": "https://localhost:8080/",
          "height": 388
        },
        "id": "0GsyhsAp5ZlM",
        "outputId": "3f4b76ac-b622-4caa-a96e-674566e5b74c"
      },
      "outputs": [
        {
          "output_type": "display_data",
          "data": {
            "text/plain": [
              "<Figure size 800x400 with 1 Axes>"
            ],
            "image/png": "[encoded data removed]"
          },
          "metadata": {}
        }
      ],
      "source": [
        "fig, ax = plt.subplots(figsize = (8,4))\n",
        "\n",
        "bins_used = []\n",
        "energies = []\n",
        "\n",
        "for solution, energy, _ in samplerset.record:\n",
        "    solution = np.array(solution)[:n*(n+1)].reshape(n,-1)\n",
        "    bins_used.append(sum(solution[:,0]))\n",
        "    energies.append(energy)\n",
        "\n",
        "ax.scatter(energies, bins_used, color = 'b', marker = '.', label = 'State-vectors after annealing')\n",
        "\n",
        "solution = list(samplerset.first.sample.values())\n",
        "solution = np.array(solution)[:n*(n+1)].reshape(n,-1)\n",
        "energies = samplerset.first.energy\n",
        "\n",
        "ax.scatter([sum(solution[:,0])], [energies], color = 'r', marker = 'o', label = 'State-vector of optimal solution')\n",
        "ax.set_ylabel('Total cost')\n",
        "ax.set_xlabel('Energy/Cost of the solution')\n",
        "\n",
        "plt.legend(loc = 'lower right')\n",
        "plt.show()"
      ]
    },
    {
      "cell_type": "code",
      "execution_count": 30,
      "metadata": {
        "colab": {
          "base_uri": "https://localhost:8080/"
        },
        "id": "hbV9nGiZ6L1y",
        "outputId": "a3afe2aa-cda1-471b-d324-fd814a302445"
      },
      "outputs": [
        {
          "output_type": "stream",
          "name": "stdout",
          "text": [
            "Minimum energy: 44.0\n",
            "Number of vectors with minimum energy: 168\n"
          ]
        }
      ],
      "source": [
        "possible_solutions = list(filter(lambda x: x[1]==samplerset.first.energy,samplerset.record))\n",
        "print(\"Minimum energy:\", samplerset.first.energy)\n",
        "print(\"Number of vectors with minimum energy:\", len(possible_solutions))"
      ]
    },
    {
      "cell_type": "markdown",
      "source": [
        "# **Variational Quantum Eigensolver**\n",
        "Variational Quantum Eigensolver (VQE) is a hybrid quantum-classical algorithm that combines quantum computation and classical optimization to find the minimum eigenvalue (ground state energy) of a given Hamiltonian. While initially developed for quantum chemistry problems, VQE has applications in solving combinatorial optimization problems like the Quadratic Assignment Problem (QAP)."
      ],
      "metadata": {
        "id": "odTo-SVDE961"
      }
    },
    {
      "cell_type": "code",
      "execution_count": 31,
      "metadata": {
        "colab": {
          "base_uri": "https://localhost:8080/"
        },
        "id": "5Nqayt2N7rx0",
        "outputId": "44094b29-4833-4274-aef2-c46bba1f71a2"
      },
      "outputs": [
        {
          "output_type": "stream",
          "name": "stdout",
          "text": [
            "Collecting qiskit_ibm_runtime==0.29.0\n",
            "  Downloading qiskit_ibm_runtime-0.29.0-py3-none-any.whl.metadata (19 kB)\n",
            "Requirement already satisfied: requests>=2.19 in /usr/local/lib/python3.10/dist-packages (from qiskit_ibm_runtime==0.29.0) (2.32.3)\n",
            "Collecting requests-ntlm>=1.1.0 (from qiskit_ibm_runtime==0.29.0)\n",
            "  Downloading requests_ntlm-1.3.0-py3-none-any.whl.metadata (2.4 kB)\n",
            "Requirement already satisfied: numpy>=1.13 in /usr/local/lib/python3.10/dist-packages (from qiskit_ibm_runtime==0.29.0) (1.26.4)\n",
            "Requirement already satisfied: urllib3>=1.21.1 in /usr/local/lib/python3.10/dist-packages (from qiskit_ibm_runtime==0.29.0) (2.2.3)\n",
            "Requirement already satisfied: python-dateutil>=2.8.0 in /usr/local/lib/python3.10/dist-packages (from qiskit_ibm_runtime==0.29.0) (2.8.2)\n",
            "Requirement already satisfied: websocket-client>=1.5.1 in /usr/local/lib/python3.10/dist-packages (from qiskit_ibm_runtime==0.29.0) (1.8.0)\n",
            "Collecting ibm-platform-services>=0.22.6 (from qiskit_ibm_runtime==0.29.0)\n",
            "  Downloading ibm_platform_services-0.59.1-py3-none-any.whl.metadata (9.0 kB)\n",
            "Requirement already satisfied: pydantic>=2.5.0 in /usr/local/lib/python3.10/dist-packages (from qiskit_ibm_runtime==0.29.0) (2.10.3)\n",
            "Requirement already satisfied: qiskit>=1.1.0 in /usr/local/lib/python3.10/dist-packages (from qiskit_ibm_runtime==0.29.0) (1.3.1)\n",
            "Collecting ibm_cloud_sdk_core<4.0.0,>=3.22.0 (from ibm-platform-services>=0.22.6->qiskit_ibm_runtime==0.29.0)\n",
            "  Downloading ibm_cloud_sdk_core-3.22.1-py3-none-any.whl.metadata (8.6 kB)\n",
            "Requirement already satisfied: annotated-types>=0.6.0 in /usr/local/lib/python3.10/dist-packages (from pydantic>=2.5.0->qiskit_ibm_runtime==0.29.0) (0.7.0)\n",
            "Requirement already satisfied: pydantic-core==2.27.1 in /usr/local/lib/python3.10/dist-packages (from pydantic>=2.5.0->qiskit_ibm_runtime==0.29.0) (2.27.1)\n",
            "Requirement already satisfied: typing-extensions>=4.12.2 in /usr/local/lib/python3.10/dist-packages (from pydantic>=2.5.0->qiskit_ibm_runtime==0.29.0) (4.12.2)\n",
            "Requirement already satisfied: six>=1.5 in /usr/local/lib/python3.10/dist-packages (from python-dateutil>=2.8.0->qiskit_ibm_runtime==0.29.0) (1.17.0)\n",
            "Requirement already satisfied: rustworkx>=0.15.0 in /usr/local/lib/python3.10/dist-packages (from qiskit>=1.1.0->qiskit_ibm_runtime==0.29.0) (0.15.1)\n",
            "Requirement already satisfied: scipy>=1.5 in /usr/local/lib/python3.10/dist-packages (from qiskit>=1.1.0->qiskit_ibm_runtime==0.29.0) (1.13.1)\n",
            "Requirement already satisfied: sympy>=1.3 in /usr/local/lib/python3.10/dist-packages (from qiskit>=1.1.0->qiskit_ibm_runtime==0.29.0) (1.13.1)\n",
            "Requirement already satisfied: dill>=0.3 in /usr/local/lib/python3.10/dist-packages (from qiskit>=1.1.0->qiskit_ibm_runtime==0.29.0) (0.3.9)\n",
            "Requirement already satisfied: stevedore>=3.0.0 in /usr/local/lib/python3.10/dist-packages (from qiskit>=1.1.0->qiskit_ibm_runtime==0.29.0) (5.4.0)\n",
            "Requirement already satisfied: symengine<0.14,>=0.11 in /usr/local/lib/python3.10/dist-packages (from qiskit>=1.1.0->qiskit_ibm_runtime==0.29.0) (0.13.0)\n",
            "Requirement already satisfied: charset-normalizer<4,>=2 in /usr/local/lib/python3.10/dist-packages (from requests>=2.19->qiskit_ibm_runtime==0.29.0) (3.4.0)\n",
            "Requirement already satisfied: idna<4,>=2.5 in /usr/local/lib/python3.10/dist-packages (from requests>=2.19->qiskit_ibm_runtime==0.29.0) (3.10)\n",
            "Requirement already satisfied: certifi>=2017.4.17 in /usr/local/lib/python3.10/dist-packages (from requests>=2.19->qiskit_ibm_runtime==0.29.0) (2024.12.14)\n",
            "Requirement already satisfied: cryptography>=1.3 in /usr/local/lib/python3.10/dist-packages (from requests-ntlm>=1.1.0->qiskit_ibm_runtime==0.29.0) (43.0.3)\n",
            "Collecting pyspnego>=0.4.0 (from requests-ntlm>=1.1.0->qiskit_ibm_runtime==0.29.0)\n",
            "  Downloading pyspnego-0.11.2-py3-none-any.whl.metadata (5.4 kB)\n",
            "Requirement already satisfied: cffi>=1.12 in /usr/local/lib/python3.10/dist-packages (from cryptography>=1.3->requests-ntlm>=1.1.0->qiskit_ibm_runtime==0.29.0) (1.17.1)\n",
            "Requirement already satisfied: PyJWT<3.0.0,>=2.8.0 in /usr/local/lib/python3.10/dist-packages (from ibm_cloud_sdk_core<4.0.0,>=3.22.0->ibm-platform-services>=0.22.6->qiskit_ibm_runtime==0.29.0) (2.10.1)\n",
            "Requirement already satisfied: pbr>=2.0.0 in /usr/local/lib/python3.10/dist-packages (from stevedore>=3.0.0->qiskit>=1.1.0->qiskit_ibm_runtime==0.29.0) (6.1.0)\n",
            "Requirement already satisfied: mpmath<1.4,>=1.1.0 in /usr/local/lib/python3.10/dist-packages (from sympy>=1.3->qiskit>=1.1.0->qiskit_ibm_runtime==0.29.0) (1.3.0)\n",
            "Requirement already satisfied: pycparser in /usr/local/lib/python3.10/dist-packages (from cffi>=1.12->cryptography>=1.3->requests-ntlm>=1.1.0->qiskit_ibm_runtime==0.29.0) (2.22)\n",
            "Downloading qiskit_ibm_runtime-0.29.0-py3-none-any.whl (2.9 MB)\n",
            "\u001b[2K   \u001b[90m━━━━━━━━━━━━━━━━━━━━━━━━━━━━━━━━━━━━━━━━\u001b[0m \u001b[32m2.9/2.9 MB\u001b[0m \u001b[31m28.7 MB/s\u001b[0m eta \u001b[36m0:00:00\u001b[0m\n",
            "\u001b[?25hDownloading ibm_platform_services-0.59.1-py3-none-any.whl (340 kB)\n",
            "\u001b[2K   \u001b[90m━━━━━━━━━━━━━━━━━━━━━━━━━━━━━━━━━━━━━━━━\u001b[0m \u001b[32m340.8/340.8 kB\u001b[0m \u001b[31m16.9 MB/s\u001b[0m eta \u001b[36m0:00:00\u001b[0m\n",
            "\u001b[?25hDownloading requests_ntlm-1.3.0-py3-none-any.whl (6.6 kB)\n",
            "Downloading ibm_cloud_sdk_core-3.22.1-py3-none-any.whl (69 kB)\n",
            "\u001b[2K   \u001b[90m━━━━━━━━━━━━━━━━━━━━━━━━━━━━━━━━━━━━━━━━\u001b[0m \u001b[32m69.4/69.4 kB\u001b[0m \u001b[31m3.7 MB/s\u001b[0m eta \u001b[36m0:00:00\u001b[0m\n",
            "\u001b[?25hDownloading pyspnego-0.11.2-py3-none-any.whl (130 kB)\n",
            "\u001b[2K   \u001b[90m━━━━━━━━━━━━━━━━━━━━━━━━━━━━━━━━━━━━━━━━\u001b[0m \u001b[32m130.5/130.5 kB\u001b[0m \u001b[31m10.2 MB/s\u001b[0m eta \u001b[36m0:00:00\u001b[0m\n",
            "\u001b[?25hInstalling collected packages: ibm_cloud_sdk_core, pyspnego, ibm-platform-services, requests-ntlm, qiskit_ibm_runtime\n",
            "Successfully installed ibm-platform-services-0.59.1 ibm_cloud_sdk_core-3.22.1 pyspnego-0.11.2 qiskit_ibm_runtime-0.29.0 requests-ntlm-1.3.0\n",
            "Collecting qiskit-aer\n",
            "  Downloading qiskit_aer-0.16.0-cp310-cp310-manylinux_2_17_x86_64.manylinux2014_x86_64.whl.metadata (8.2 kB)\n",
            "Requirement already satisfied: qiskit>=1.1.0 in /usr/local/lib/python3.10/dist-packages (from qiskit-aer) (1.3.1)\n",
            "Requirement already satisfied: numpy>=1.16.3 in /usr/local/lib/python3.10/dist-packages (from qiskit-aer) (1.26.4)\n",
            "Requirement already satisfied: scipy>=1.0 in /usr/local/lib/python3.10/dist-packages (from qiskit-aer) (1.13.1)\n",
            "Requirement already satisfied: psutil>=5 in /usr/local/lib/python3.10/dist-packages (from qiskit-aer) (5.9.5)\n",
            "Requirement already satisfied: rustworkx>=0.15.0 in /usr/local/lib/python3.10/dist-packages (from qiskit>=1.1.0->qiskit-aer) (0.15.1)\n",
            "Requirement already satisfied: sympy>=1.3 in /usr/local/lib/python3.10/dist-packages (from qiskit>=1.1.0->qiskit-aer) (1.13.1)\n",
            "Requirement already satisfied: dill>=0.3 in /usr/local/lib/python3.10/dist-packages (from qiskit>=1.1.0->qiskit-aer) (0.3.9)\n",
            "Requirement already satisfied: python-dateutil>=2.8.0 in /usr/local/lib/python3.10/dist-packages (from qiskit>=1.1.0->qiskit-aer) (2.8.2)\n",
            "Requirement already satisfied: stevedore>=3.0.0 in /usr/local/lib/python3.10/dist-packages (from qiskit>=1.1.0->qiskit-aer) (5.4.0)\n",
            "Requirement already satisfied: typing-extensions in /usr/local/lib/python3.10/dist-packages (from qiskit>=1.1.0->qiskit-aer) (4.12.2)\n",
            "Requirement already satisfied: symengine<0.14,>=0.11 in /usr/local/lib/python3.10/dist-packages (from qiskit>=1.1.0->qiskit-aer) (0.13.0)\n",
            "Requirement already satisfied: six>=1.5 in /usr/local/lib/python3.10/dist-packages (from python-dateutil>=2.8.0->qiskit>=1.1.0->qiskit-aer) (1.17.0)\n",
            "Requirement already satisfied: pbr>=2.0.0 in /usr/local/lib/python3.10/dist-packages (from stevedore>=3.0.0->qiskit>=1.1.0->qiskit-aer) (6.1.0)\n",
            "Requirement already satisfied: mpmath<1.4,>=1.1.0 in /usr/local/lib/python3.10/dist-packages (from sympy>=1.3->qiskit>=1.1.0->qiskit-aer) (1.3.0)\n",
            "Downloading qiskit_aer-0.16.0-cp310-cp310-manylinux_2_17_x86_64.manylinux2014_x86_64.whl (12.3 MB)\n",
            "\u001b[2K   \u001b[90m━━━━━━━━━━━━━━━━━━━━━━━━━━━━━━━━━━━━━━━━\u001b[0m \u001b[32m12.3/12.3 MB\u001b[0m \u001b[31m26.1 MB/s\u001b[0m eta \u001b[36m0:00:00\u001b[0m\n",
            "\u001b[?25hInstalling collected packages: qiskit-aer\n",
            "Successfully installed qiskit-aer-0.16.0\n"
          ]
        }
      ],
      "source": [
        "!pip install qiskit_ibm_runtime==0.29.0\n",
        "!pip install qiskit-aer"
      ]
    },
    {
      "cell_type": "code",
      "execution_count": 32,
      "metadata": {
        "id": "4amkG-vl7CYB"
      },
      "outputs": [],
      "source": [
        "from qiskit import ClassicalRegister, QuantumRegister, QuantumCircuit\n",
        "from qiskit.circuit.library import TwoLocal, EfficientSU2\n",
        "from qiskit.transpiler.preset_passmanagers import generate_preset_pass_manager\n",
        "from qiskit_ibm_runtime.fake_provider import FakeSherbrooke\n",
        "from qiskit_ibm_runtime import Session, EstimatorV2 as Estimator, SamplerV2 as Sampler\n",
        "from qiskit_aer import AerSimulator\n",
        "from scipy.optimize import minimize"
      ]
    },
    {
      "cell_type": "code",
      "execution_count": 33,
      "metadata": {
        "id": "E4A2MvOl7EGW"
      },
      "outputs": [],
      "source": [
        "def VQE_for_QAP(qubo, ansatz):\n",
        "    #define a cost_function which constructs and evaluate the ansatz\n",
        "    # with some parameters and returns the expectation value of the hamiltonian obtained from the QUBO\n",
        "    def cost_func(params, in_ansatz, hamiltonian, estimator, callback_dict):\n",
        "        pub = (in_ansatz, [hamiltonian], [params])\n",
        "        result = estimator.run([pub]).result()\n",
        "        energy = result[0].data.evs[0]\n",
        "\n",
        "        callback_dict[\"iters\"] += 1\n",
        "        callback_dict[\"prev_vector\"] = params\n",
        "        callback_dict[\"cost_history\"].append(energy)\n",
        "        return energy, result\n",
        "\n",
        "    #a function compatible with scipy's minimize function\n",
        "    def cost_func_2(*args, **kwargs):\n",
        "        energy, result = cost_func(*args, **kwargs)\n",
        "        return energy\n",
        "\n",
        "    backend = AerSimulator() # a backend for local simulations\n",
        "    pm = generate_preset_pass_manager(backend = backend,\n",
        "                                      optimization_level = 1) # a pass manager to make the circuit compatible with backend\n",
        "    isa_circuit = pm.run(ansatz) # a circuit that obeys the backend's instruction set arquitecture (ISA)\n",
        "    H = qubo.to_ising()[0].apply_layout(layout=isa_circuit.layout) # Ising hamiltonian from the QUBO and compatible with isa_circuit layout\n",
        "\n",
        "    # a dictionary to store results\n",
        "    callback_dict = {\n",
        "        \"prev_vector\": None,\n",
        "        \"iters\": 0,\n",
        "        \"cost_history\": [],\n",
        "    }\n",
        "\n",
        "    x0 = [np.pi/2]*ansatz.num_parameters # initial parameters\n",
        "\n",
        "    res = minimize(\n",
        "        cost_func_2,\n",
        "        x0,\n",
        "        args=(isa_circuit, H, Estimator(backend = backend), callback_dict),\n",
        "        method=\"cobyla\",\n",
        "        options={'maxiter': 700}) # optimization step\n",
        "\n",
        "    ansatz.measure_all() #add classical registers and measurements to ansatzs circuit\n",
        "    pm = generate_preset_pass_manager(backend = backend,\n",
        "                                      optimization_level = 1)\n",
        "    isa_circuit = pm.run(ansatz)\n",
        "    sampler = Sampler(backend = backend)\n",
        "\n",
        "    job = sampler.run([(isa_circuit, callback_dict[\"prev_vector\"], 10240)]) #run the circuit with best fit parameters\n",
        "    result = job.result()\n",
        "    solution = result[0].data.meas.get_counts()\n",
        "\n",
        "    return callback_dict, solution"
      ]
    },
    {
      "cell_type": "code",
      "execution_count": 34,
      "metadata": {
        "id": "LMwW0Qih7baX"
      },
      "outputs": [],
      "source": [
        "ansatz_1 = TwoLocal(num_qubits = len(qubo_model.variables),\n",
        "                 rotation_blocks = [\"rx\"],\n",
        "                 entanglement_blocks = [\"cx\"],\n",
        "                 entanglement = \"full\",\n",
        "                 reps = 1,\n",
        "                 insert_barriers = True)"
      ]
    },
    {
      "cell_type": "code",
      "execution_count": 35,
      "metadata": {
        "id": "1cIDbnvv7eq6"
      },
      "outputs": [],
      "source": [
        "ansatz_2 = TwoLocal(num_qubits = len(qubo_model.variables),\n",
        "                 rotation_blocks = [\"rx\",\"ry\"],\n",
        "                 entanglement_blocks = [\"cz\"],\n",
        "                 entanglement = \"full\",\n",
        "                 reps = 1,\n",
        "                 insert_barriers = True)"
      ]
    },
    {
      "cell_type": "code",
      "execution_count": 36,
      "metadata": {
        "id": "FJm96pp67hKf"
      },
      "outputs": [],
      "source": [
        "ansatz_3 = EfficientSU2(num_qubits = len(qubo_model.variables),\n",
        "                 su2_gates = [\"rx\",\"ry\"],\n",
        "                 entanglement = \"full\",\n",
        "                 reps = 1,\n",
        "                 insert_barriers = True)"
      ]
    },
    {
      "cell_type": "code",
      "execution_count": 37,
      "metadata": {
        "id": "GbnZ7zx37kOt"
      },
      "outputs": [],
      "source": [
        "ansatz_4 = EfficientSU2(num_qubits = len(qubo_model.variables),\n",
        "                 su2_gates = [\"rx\"],\n",
        "                 entanglement = \"circular\",\n",
        "                 reps = 1,\n",
        "                 insert_barriers = True)"
      ]
    },
    {
      "cell_type": "code",
      "execution_count": 38,
      "metadata": {
        "colab": {
          "base_uri": "https://localhost:8080/"
        },
        "id": "GOw0ey1X7_e0",
        "outputId": "6fd39151-7233-43cc-be53-647e42c97306"
      },
      "outputs": [
        {
          "output_type": "stream",
          "name": "stderr",
          "text": [
            "<ipython-input-33-d68bc1193006>:37: DeprecationWarning: The 'backend' keyword arguments are deprecated as of qiskit-ibm-runtime 0.24.0 and will be removed no sooner than 3 months after the release date. Please use the 'mode' parameter instead.\n",
            "  args=(isa_circuit, H, Estimator(backend = backend), callback_dict),\n",
            "<ipython-input-33-d68bc1193006>:45: DeprecationWarning: The 'backend' keyword arguments are deprecated as of qiskit-ibm-runtime 0.24.0 and will be removed no sooner than 3 months after the release date. Please use the 'mode' parameter instead.\n",
            "  sampler = Sampler(backend = backend)\n",
            "<ipython-input-33-d68bc1193006>:37: DeprecationWarning: The 'backend' keyword arguments are deprecated as of qiskit-ibm-runtime 0.24.0 and will be removed no sooner than 3 months after the release date. Please use the 'mode' parameter instead.\n",
            "  args=(isa_circuit, H, Estimator(backend = backend), callback_dict),\n",
            "<ipython-input-33-d68bc1193006>:45: DeprecationWarning: The 'backend' keyword arguments are deprecated as of qiskit-ibm-runtime 0.24.0 and will be removed no sooner than 3 months after the release date. Please use the 'mode' parameter instead.\n",
            "  sampler = Sampler(backend = backend)\n",
            "<ipython-input-33-d68bc1193006>:37: DeprecationWarning: The 'backend' keyword arguments are deprecated as of qiskit-ibm-runtime 0.24.0 and will be removed no sooner than 3 months after the release date. Please use the 'mode' parameter instead.\n",
            "  args=(isa_circuit, H, Estimator(backend = backend), callback_dict),\n",
            "<ipython-input-33-d68bc1193006>:45: DeprecationWarning: The 'backend' keyword arguments are deprecated as of qiskit-ibm-runtime 0.24.0 and will be removed no sooner than 3 months after the release date. Please use the 'mode' parameter instead.\n",
            "  sampler = Sampler(backend = backend)\n",
            "<ipython-input-33-d68bc1193006>:37: DeprecationWarning: The 'backend' keyword arguments are deprecated as of qiskit-ibm-runtime 0.24.0 and will be removed no sooner than 3 months after the release date. Please use the 'mode' parameter instead.\n",
            "  args=(isa_circuit, H, Estimator(backend = backend), callback_dict),\n",
            "<ipython-input-33-d68bc1193006>:45: DeprecationWarning: The 'backend' keyword arguments are deprecated as of qiskit-ibm-runtime 0.24.0 and will be removed no sooner than 3 months after the release date. Please use the 'mode' parameter instead.\n",
            "  sampler = Sampler(backend = backend)\n"
          ]
        }
      ],
      "source": [
        "res_all_ansatz = []\n",
        "sol_all_ansatz = []\n",
        "\n",
        "for an in (ansatz_1, ansatz_2, ansatz_3, ansatz_4,):\n",
        "    res_energies, result = VQE_for_QAP(qubo = qubo_model,\n",
        "                                       ansatz = an)\n",
        "    max_counts = max(result, key = lambda x: result[x])\n",
        "    res_all_ansatz.append(res_energies)\n",
        "    sol_all_ansatz.append({max_counts : result[max_counts]})"
      ]
    },
    {
      "cell_type": "code",
      "execution_count": 39,
      "metadata": {
        "id": "y02ptPZa8B3b",
        "colab": {
          "base_uri": "https://localhost:8080/",
          "height": 718
        },
        "outputId": "252219cf-3c68-4e21-ebf8-9edf33321119"
      },
      "outputs": [
        {
          "output_type": "display_data",
          "data": {
            "text/plain": [
              "<Figure size 1200x800 with 1 Axes>"
            ],
            "image/png": "[encoded data removed]"
          },
          "metadata": {}
        }
      ],
      "source": [
        "fig, ax = plt.subplots(figsize = (12,8))\n",
        "\n",
        "for i, an in enumerate(res_all_ansatz):\n",
        "    ax.plot(range(an[\"iters\"]), an[\"cost_history\"], marker = \".\", ls = \"-\", label = f\"Ansatz {i+1}\")\n",
        "\n",
        "ax.set_xlabel(\"Iterations\")\n",
        "ax.set_ylabel(\"Energy/Cost\")\n",
        "ax.set_title(\"VQE with 4 ansatz and COBYLA method\")\n",
        "plt.legend(loc = \"upper right\")\n",
        "plt.show()"
      ]
    },
    {
      "cell_type": "code",
      "source": [
        "def interpret_bitstring(bitstring):\n",
        "    # Create an empty matrix to store the assignments\n",
        "    assignment = {}\n",
        "\n",
        "    # Map each bitstring position to a facility-location assignment\n",
        "    for i, bit in enumerate(bitstring):\n",
        "        # Only consider the bit when it's 1 (indicating an assignment)\n",
        "        if bit == '1':\n",
        "            facility = i // 4  # Determine which facility (0-3)\n",
        "            location = i % 4  # Determine which location (0-3)\n",
        "            assignment[facility] = location\n",
        "\n",
        "    # Create a human-readable string\n",
        "    result = []\n",
        "    for facility in range(4):\n",
        "        location = assignment.get(facility, 'Not assigned')\n",
        "        result.append(f\"Facility {facility} → Location {location}\")\n",
        "\n",
        "    return result"
      ],
      "metadata": {
        "id": "cfeBWdiBHO_k"
      },
      "execution_count": 51,
      "outputs": []
    },
    {
      "cell_type": "code",
      "execution_count": 52,
      "metadata": {
        "id": "jHP0a3iD8EeX",
        "colab": {
          "base_uri": "https://localhost:8080/"
        },
        "outputId": "30915adf-2b46-439e-b833-bc7d06a211ec"
      },
      "outputs": [
        {
          "output_type": "stream",
          "name": "stdout",
          "text": [
            "Ansatz 1 \t Counts : 9827\n",
            "Solution bitstring : 1000000101000010\n",
            "Solution : ['Facility 0 → Location 3', 'Facility 1 → Location Not assigned', 'Facility 2 → Location Not assigned', 'Facility 3 → Location 1']\n",
            "Ansatz 2 \t Counts : 3777\n",
            "Solution bitstring : 0010010000011000\n",
            "Solution : ['Facility 0 → Location Not assigned', 'Facility 1 → Location 3', 'Facility 2 → Location 1', 'Facility 3 → Location Not assigned']\n",
            "Ansatz 3 \t Counts : 1969\n",
            "Solution bitstring : 0101100101101000\n",
            "Solution : ['Facility 0 → Location Not assigned', 'Facility 1 → Location 3', 'Facility 2 → Location 3', 'Facility 3 → Location 1']\n",
            "Ansatz 4 \t Counts : 328\n",
            "Solution bitstring : 0001101010101001\n",
            "Solution : ['Facility 0 → Location 1', 'Facility 1 → Location 3', 'Facility 2 → Location 3', 'Facility 3 → Location 3']\n"
          ]
        }
      ],
      "source": [
        "for i,(bits,counts) in enumerate((list(x.items())[0] for x in sol_all_ansatz)):\n",
        "    print(f\"Ansatz {i+1} \\t Counts : {counts}\")\n",
        "    print(f\"Solution bitstring : {bits[::-1]}\")\n",
        "    bits = list(bits[::-1])\n",
        "    bits = np.array(list(map(int,bits)))\n",
        "    print(f\"Solution : {interpret_bitstring(str(bits[::-1]))}\")"
      ]
    }
  ],
  "metadata": {
    "colab": {
      "provenance": []
    },
    "kernelspec": {
      "display_name": "Python 3",
      "name": "python3"
    },
    "language_info": {
      "name": "python"
    }
  },
  "nbformat": 4,
  "nbformat_minor": 0
}